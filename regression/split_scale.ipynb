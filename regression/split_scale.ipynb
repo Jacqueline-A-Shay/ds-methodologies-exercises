{
 "cells": [
  {
   "cell_type": "markdown",
   "metadata": {},
   "source": [
    "Deliverable: **split_scale.py**\n",
    "Content:\n",
    "\n",
    "split_my_data(X, y, train_pct)\n",
    "standard_scaler()\n",
    "scale_inverse()\n",
    "uniform_scaler()\n",
    "gaussian_scaler()\n",
    "min_max_scaler()\n",
    "iqr_robust_scaler()\n",
    "\n",
    "should create the object, fit and transform both train and test. \n",
    "They should return the scaler, train dataframe scaled, test dataframe scaled. \n",
    "Be sure your indices represent the original indices from train/test, as those represent the indices from the original dataframe. \n",
    "Be sure to set a random state where applicable for reproducibility!\n",
    "\n"
   ]
  },
  {
   "cell_type": "code",
   "execution_count": 1,
   "metadata": {},
   "outputs": [],
   "source": [
    "import warnings\n",
    "warnings.filterwarnings(\"ignore\")\n",
    "\n",
    "import pandas as pd\n",
    "import numpy as np\n",
    "\n",
    "import wrangle\n",
    "import env\n",
    "\n",
    "from sklearn.preprocessing import StandardScaler, QuantileTransformer, PowerTransformer, RobustScaler, MinMaxScaler\n",
    "from sklearn.model_selection import train_test_split"
   ]
  },
  {
   "cell_type": "code",
   "execution_count": null,
   "metadata": {},
   "outputs": [],
   "source": [
    "df = wrangle.wrangle_telco().set_index(\"customer_id\")"
   ]
  },
  {
   "cell_type": "code",
   "execution_count": 134,
   "metadata": {},
   "outputs": [
    {
     "name": "stdout",
     "output_type": "stream",
     "text": [
      "(1348, 2) (337, 2) (1348, 1) (337, 1)\n"
     ]
    }
   ],
   "source": [
    "X = df.loc[:, (\"tenure\", \"monthly_charges\")]\n",
    "y = pd.DataFrame(df.total_charges)\n",
    "# x=data.drop('temp',axis=1)\n",
    "\n",
    "X_train, X_test, y_train, y_test = train_test_split(X, y, train_size = .80, random_state = 123)\n",
    "print(X_train.shape, X_test.shape, y_train.shape, y_test.shape)\n",
    "#print(train.shape); print(test.shape)\n",
    "# check for proportion of train vs test"
   ]
  },
  {
   "cell_type": "markdown",
   "metadata": {},
   "source": [
    "- **create the scaler object** sklearn.preprocessing.StandardScaler()\n",
    "- **fit** the object to train scaler.fit(train)\n",
    "- **transform** the data in train/test using the parameters estimated from scaler.fit(train): scaler.transform(train), scaler.transform(test)\n",
    "- **inverse transformation** scaler.inverse_transform(test)"
   ]
  },
  {
   "cell_type": "markdown",
   "metadata": {},
   "source": [
    "**StandardScaler**"
   ]
  },
  {
   "cell_type": "code",
   "execution_count": 135,
   "metadata": {},
   "outputs": [],
   "source": [
    "x_std_scaler = StandardScaler(copy=True, with_mean=True, with_std=True).fit(X_train)\n",
    "y_std_scaler = StandardScaler(copy=True, with_mean=True, with_std=True).fit(y_train)\n",
    "# create scaler object & fit\n",
    "#y_train\n",
    "# X, y = digits.data, digits.target\n",
    "# X = StandardScaler().fit_transform(X)\n"
   ]
  },
  {
   "cell_type": "code",
   "execution_count": 136,
   "metadata": {},
   "outputs": [
    {
     "name": "stdout",
     "output_type": "stream",
     "text": [
      "Mean:\n",
      "[57.27744807 60.92117953]\n",
      "Standard Deviation:\n",
      "[17.442194363941116, 34.74397304676879]\n"
     ]
    }
   ],
   "source": [
    "import math\n",
    "\n",
    "print(\"Mean:\") \n",
    "print(std_scaler.mean_)\n",
    "print(\"Standard Deviation:\")\n",
    "print([math.sqrt(i) for i in std_scaler.var_])"
   ]
  },
  {
   "cell_type": "code",
   "execution_count": 137,
   "metadata": {},
   "outputs": [],
   "source": [
    "X_train_scaled = pd.DataFrame(x_std_scaler.transform(X_train), columns=X_train.columns.values).set_index([X_train.index.values])\n",
    "X_test_scaled = pd.DataFrame(x_std_scaler.transform(X_test), columns=X_test.columns.values).set_index([X_test.index.values])\n",
    "\n",
    "y_train_scaled = pd.DataFrame(y_std_scaler.transform(y_train), columns=y_train.columns.values).set_index([y_train.index.values])\n",
    "y_test_scaled = pd.DataFrame(y_std_scaler.transform(y_test), columns=y_test.columns.values).set_index([y_test.index.values])\n"
   ]
  },
  {
   "cell_type": "code",
   "execution_count": 138,
   "metadata": {},
   "outputs": [
    {
     "data": {
      "text/html": [
       "<div>\n",
       "<style scoped>\n",
       "    .dataframe tbody tr th:only-of-type {\n",
       "        vertical-align: middle;\n",
       "    }\n",
       "\n",
       "    .dataframe tbody tr th {\n",
       "        vertical-align: top;\n",
       "    }\n",
       "\n",
       "    .dataframe thead th {\n",
       "        text-align: right;\n",
       "    }\n",
       "</style>\n",
       "<table border=\"1\" class=\"dataframe\">\n",
       "  <thead>\n",
       "    <tr style=\"text-align: right;\">\n",
       "      <th></th>\n",
       "      <th>total_charges</th>\n",
       "    </tr>\n",
       "  </thead>\n",
       "  <tbody>\n",
       "    <tr>\n",
       "      <th>1927-QEWMY</th>\n",
       "      <td>-0.870704</td>\n",
       "    </tr>\n",
       "    <tr>\n",
       "      <th>2773-OVBPK</th>\n",
       "      <td>1.488589</td>\n",
       "    </tr>\n",
       "    <tr>\n",
       "      <th>5574-NXZIU</th>\n",
       "      <td>1.287299</td>\n",
       "    </tr>\n",
       "    <tr>\n",
       "      <th>8347-GDTMP</th>\n",
       "      <td>-0.978302</td>\n",
       "    </tr>\n",
       "    <tr>\n",
       "      <th>9178-JHUVJ</th>\n",
       "      <td>-1.226585</td>\n",
       "    </tr>\n",
       "  </tbody>\n",
       "</table>\n",
       "</div>"
      ],
      "text/plain": [
       "            total_charges\n",
       "1927-QEWMY      -0.870704\n",
       "2773-OVBPK       1.488589\n",
       "5574-NXZIU       1.287299\n",
       "8347-GDTMP      -0.978302\n",
       "9178-JHUVJ      -1.226585"
      ]
     },
     "execution_count": 138,
     "metadata": {},
     "output_type": "execute_result"
    }
   ],
   "source": [
    "y_test_scaled.head()"
   ]
  },
  {
   "cell_type": "markdown",
   "metadata": {},
   "source": [
    "**UniformScaler**"
   ]
  },
  {
   "cell_type": "code",
   "execution_count": null,
   "metadata": {},
   "outputs": [],
   "source": []
  },
  {
   "cell_type": "code",
   "execution_count": 125,
   "metadata": {},
   "outputs": [
    {
     "data": {
      "text/html": [
       "<div>\n",
       "<style scoped>\n",
       "    .dataframe tbody tr th:only-of-type {\n",
       "        vertical-align: middle;\n",
       "    }\n",
       "\n",
       "    .dataframe tbody tr th {\n",
       "        vertical-align: top;\n",
       "    }\n",
       "\n",
       "    .dataframe thead th {\n",
       "        text-align: right;\n",
       "    }\n",
       "</style>\n",
       "<table border=\"1\" class=\"dataframe\">\n",
       "  <thead>\n",
       "    <tr style=\"text-align: right;\">\n",
       "      <th></th>\n",
       "      <th>tenure</th>\n",
       "      <th>monthly_charges</th>\n",
       "    </tr>\n",
       "  </thead>\n",
       "  <tbody>\n",
       "    <tr>\n",
       "      <th>119</th>\n",
       "      <td>0.686869</td>\n",
       "      <td>0.580710</td>\n",
       "    </tr>\n",
       "    <tr>\n",
       "      <th>1424</th>\n",
       "      <td>0.323232</td>\n",
       "      <td>0.181818</td>\n",
       "    </tr>\n",
       "    <tr>\n",
       "      <th>385</th>\n",
       "      <td>0.515152</td>\n",
       "      <td>0.898309</td>\n",
       "    </tr>\n",
       "    <tr>\n",
       "      <th>1140</th>\n",
       "      <td>0.686869</td>\n",
       "      <td>0.800304</td>\n",
       "    </tr>\n",
       "    <tr>\n",
       "      <th>1504</th>\n",
       "      <td>0.752525</td>\n",
       "      <td>0.987325</td>\n",
       "    </tr>\n",
       "  </tbody>\n",
       "</table>\n",
       "</div>"
      ],
      "text/plain": [
       "        tenure  monthly_charges\n",
       "119   0.686869         0.580710\n",
       "1424  0.323232         0.181818\n",
       "385   0.515152         0.898309\n",
       "1140  0.686869         0.800304\n",
       "1504  0.752525         0.987325"
      ]
     },
     "execution_count": 125,
     "metadata": {},
     "output_type": "execute_result"
    }
   ],
   "source": [
    "X_u_scaler = QuantileTransformer(n_quantiles=100, output_distribution='uniform', random_state=123, copy=True).fit(X_train)\n",
    "y_u_scaler = QuantileTransformer(n_quantiles=100, output_distribution='uniform', random_state=123, copy=True).fit(y_train)\n",
    "\n",
    "X_train_u_scaled = pd.DataFrame(X_u_scaler.transform(X_train), columns=X_train.columns.values).set_index([X_train.index.values])\n",
    "X_test_u_scaled = pd.DataFrame(X_u_scaler.transform(X_test), columns=X_test.columns.values).set_index([X_test.index.values])\n",
    "\n",
    "y_train_u_scaled = pd.DataFrame(y_u_scaler.transform(y_train), columns=y_train.columns.values).set_index([y_train.index.values])\n",
    "y_test_u_scaled = pd.DataFrame(y_u_scaler.transform(y_test), columns=y_test.columns.values).set_index([y_test.index.values])\n",
    "\n",
    "X_train_u_scaled.head()"
   ]
  },
  {
   "cell_type": "markdown",
   "metadata": {},
   "source": [
    "**PowerTransformer**"
   ]
  },
  {
   "cell_type": "code",
   "execution_count": 129,
   "metadata": {},
   "outputs": [
    {
     "data": {
      "text/html": [
       "<div>\n",
       "<style scoped>\n",
       "    .dataframe tbody tr th:only-of-type {\n",
       "        vertical-align: middle;\n",
       "    }\n",
       "\n",
       "    .dataframe tbody tr th {\n",
       "        vertical-align: top;\n",
       "    }\n",
       "\n",
       "    .dataframe thead th {\n",
       "        text-align: right;\n",
       "    }\n",
       "</style>\n",
       "<table border=\"1\" class=\"dataframe\">\n",
       "  <thead>\n",
       "    <tr style=\"text-align: right;\">\n",
       "      <th></th>\n",
       "      <th>tenure</th>\n",
       "      <th>monthly_charges</th>\n",
       "    </tr>\n",
       "  </thead>\n",
       "  <tbody>\n",
       "    <tr>\n",
       "      <th>119</th>\n",
       "      <td>12318.171954</td>\n",
       "      <td>11.226458</td>\n",
       "    </tr>\n",
       "    <tr>\n",
       "      <th>1424</th>\n",
       "      <td>6941.515805</td>\n",
       "      <td>5.844953</td>\n",
       "    </tr>\n",
       "    <tr>\n",
       "      <th>385</th>\n",
       "      <td>10325.286636</td>\n",
       "      <td>13.308205</td>\n",
       "    </tr>\n",
       "    <tr>\n",
       "      <th>1140</th>\n",
       "      <td>12318.171954</td>\n",
       "      <td>12.689860</td>\n",
       "    </tr>\n",
       "    <tr>\n",
       "      <th>1504</th>\n",
       "      <td>12741.647495</td>\n",
       "      <td>13.701844</td>\n",
       "    </tr>\n",
       "  </tbody>\n",
       "</table>\n",
       "</div>"
      ],
      "text/plain": [
       "            tenure  monthly_charges\n",
       "119   12318.171954        11.226458\n",
       "1424   6941.515805         5.844953\n",
       "385   10325.286636        13.308205\n",
       "1140  12318.171954        12.689860\n",
       "1504  12741.647495        13.701844"
      ]
     },
     "execution_count": 129,
     "metadata": {},
     "output_type": "execute_result"
    }
   ],
   "source": [
    "# create scaler object using yeo-johnson method and fit to train\n",
    "X_p_scaler = PowerTransformer(method='yeo-johnson', standardize=False, copy=True).fit(X_train)\n",
    "y_p_scaler = PowerTransformer(method='yeo-johnson', standardize=False, copy=True).fit(y_train)\n",
    "\n",
    "X_train_p_scaled = pd.DataFrame(X_p_scaler.transform(X_train), columns=X_train.columns.values).set_index([X_train.index.values])\n",
    "X_test_p_scaled = pd.DataFrame(X_p_scaler.transform(X_test), columns=X_test.columns.values).set_index([X_test.index.values])\n",
    "\n",
    "y_train_p_scaled = pd.DataFrame(y_p_scaler.transform(y_train), columns=y_train.columns.values).set_index([y_train.index.values])\n",
    "y_test_p_scaled = pd.DataFrame(y_p_scaler.transform(y_test), columns=y_test.columns.values).set_index([y_test.index.values])\n",
    "\n",
    "X_train_p_scaled.head()"
   ]
  },
  {
   "cell_type": "markdown",
   "metadata": {},
   "source": [
    "**MinMax**"
   ]
  },
  {
   "cell_type": "code",
   "execution_count": 130,
   "metadata": {},
   "outputs": [
    {
     "data": {
      "text/html": [
       "<div>\n",
       "<style scoped>\n",
       "    .dataframe tbody tr th:only-of-type {\n",
       "        vertical-align: middle;\n",
       "    }\n",
       "\n",
       "    .dataframe tbody tr th {\n",
       "        vertical-align: top;\n",
       "    }\n",
       "\n",
       "    .dataframe thead th {\n",
       "        text-align: right;\n",
       "    }\n",
       "</style>\n",
       "<table border=\"1\" class=\"dataframe\">\n",
       "  <thead>\n",
       "    <tr style=\"text-align: right;\">\n",
       "      <th></th>\n",
       "      <th>tenure</th>\n",
       "      <th>monthly_charges</th>\n",
       "    </tr>\n",
       "  </thead>\n",
       "  <tbody>\n",
       "    <tr>\n",
       "      <th>119</th>\n",
       "      <td>0.971831</td>\n",
       "      <td>0.569008</td>\n",
       "    </tr>\n",
       "    <tr>\n",
       "      <th>1424</th>\n",
       "      <td>0.760563</td>\n",
       "      <td>0.018934</td>\n",
       "    </tr>\n",
       "    <tr>\n",
       "      <th>385</th>\n",
       "      <td>0.901408</td>\n",
       "      <td>0.903338</td>\n",
       "    </tr>\n",
       "    <tr>\n",
       "      <th>1140</th>\n",
       "      <td>0.971831</td>\n",
       "      <td>0.796213</td>\n",
       "    </tr>\n",
       "    <tr>\n",
       "      <th>1504</th>\n",
       "      <td>0.985915</td>\n",
       "      <td>0.975087</td>\n",
       "    </tr>\n",
       "  </tbody>\n",
       "</table>\n",
       "</div>"
      ],
      "text/plain": [
       "        tenure  monthly_charges\n",
       "119   0.971831         0.569008\n",
       "1424  0.760563         0.018934\n",
       "385   0.901408         0.903338\n",
       "1140  0.971831         0.796213\n",
       "1504  0.985915         0.975087"
      ]
     },
     "execution_count": 130,
     "metadata": {},
     "output_type": "execute_result"
    }
   ],
   "source": [
    "X_mm_scaler = MinMaxScaler(copy=True, feature_range=(0,1)).fit(X_train)\n",
    "y_mm_scaler = MinMaxScaler(copy=True, feature_range=(0,1)).fit(y_train)\n",
    "\n",
    "X_train_mm_scaled = pd.DataFrame(X_mm_scaler.transform(X_train), columns=X_train.columns.values).set_index([X_train.index.values])\n",
    "X_test_mm_scaled = pd.DataFrame(X_mm_scaler.transform(X_test), columns=X_test.columns.values).set_index([X_test.index.values])\n",
    "\n",
    "y_train_mm_scaled = pd.DataFrame(y_mm_scaler.transform(y_train), columns=y_train.columns.values).set_index([y_train.index.values])\n",
    "y_test_mm_scaled = pd.DataFrame(y_mm_scaler.transform(y_test), columns=y_test.columns.values).set_index([y_test.index.values])\n",
    "\n",
    "X_train_mm_scaled.head()"
   ]
  },
  {
   "cell_type": "markdown",
   "metadata": {},
   "source": [
    "**Robust**"
   ]
  },
  {
   "cell_type": "code",
   "execution_count": 131,
   "metadata": {},
   "outputs": [
    {
     "data": {
      "text/html": [
       "<div>\n",
       "<style scoped>\n",
       "    .dataframe tbody tr th:only-of-type {\n",
       "        vertical-align: middle;\n",
       "    }\n",
       "\n",
       "    .dataframe tbody tr th {\n",
       "        vertical-align: top;\n",
       "    }\n",
       "\n",
       "    .dataframe thead th {\n",
       "        text-align: right;\n",
       "    }\n",
       "</style>\n",
       "<table border=\"1\" class=\"dataframe\">\n",
       "  <thead>\n",
       "    <tr style=\"text-align: right;\">\n",
       "      <th></th>\n",
       "      <th>tenure</th>\n",
       "      <th>monthly_charges</th>\n",
       "    </tr>\n",
       "  </thead>\n",
       "  <tbody>\n",
       "    <tr>\n",
       "      <th>119</th>\n",
       "      <td>0.272727</td>\n",
       "      <td>0.166168</td>\n",
       "    </tr>\n",
       "    <tr>\n",
       "      <th>1424</th>\n",
       "      <td>-0.409091</td>\n",
       "      <td>-0.660180</td>\n",
       "    </tr>\n",
       "    <tr>\n",
       "      <th>385</th>\n",
       "      <td>0.045455</td>\n",
       "      <td>0.668413</td>\n",
       "    </tr>\n",
       "    <tr>\n",
       "      <th>1140</th>\n",
       "      <td>0.272727</td>\n",
       "      <td>0.507485</td>\n",
       "    </tr>\n",
       "    <tr>\n",
       "      <th>1504</th>\n",
       "      <td>0.318182</td>\n",
       "      <td>0.776198</td>\n",
       "    </tr>\n",
       "  </tbody>\n",
       "</table>\n",
       "</div>"
      ],
      "text/plain": [
       "        tenure  monthly_charges\n",
       "119   0.272727         0.166168\n",
       "1424 -0.409091        -0.660180\n",
       "385   0.045455         0.668413\n",
       "1140  0.272727         0.507485\n",
       "1504  0.318182         0.776198"
      ]
     },
     "execution_count": 131,
     "metadata": {},
     "output_type": "execute_result"
    }
   ],
   "source": [
    "X_r_scaler = RobustScaler(quantile_range=(25.0,75.0), copy=True, with_centering=True, with_scaling=True).fit(X_train)\n",
    "y_r_scaler = RobustScaler(quantile_range=(25.0,75.0), copy=True, with_centering=True, with_scaling=True).fit(y_train)\n",
    "\n",
    "X_train_r_scaled = pd.DataFrame(X_r_scaler.transform(X_train), columns=X_train.columns.values).set_index([X_train.index.values])\n",
    "X_test_r_scaled = pd.DataFrame(X_r_scaler.transform(X_test), columns=X_test.columns.values).set_index([X_test.index.values])\n",
    "\n",
    "y_train_r_scaled = pd.DataFrame(y_r_scaler.transform(y_train), columns=y_train.columns.values).set_index([y_train.index.values])\n",
    "y_test_r_scaled = pd.DataFrame(y_r_scaler.transform(y_test), columns=y_test.columns.values).set_index([y_test.index.values])\n",
    "\n",
    "X_train_r_scaled.head()"
   ]
  },
  {
   "cell_type": "code",
   "execution_count": null,
   "metadata": {},
   "outputs": [],
   "source": []
  }
 ],
 "metadata": {
  "kernelspec": {
   "display_name": "Python 3",
   "language": "python",
   "name": "python3"
  },
  "language_info": {
   "codemirror_mode": {
    "name": "ipython",
    "version": 3
   },
   "file_extension": ".py",
   "mimetype": "text/x-python",
   "name": "python",
   "nbconvert_exporter": "python",
   "pygments_lexer": "ipython3",
   "version": "3.7.3"
  },
  "toc": {
   "base_numbering": 1,
   "nav_menu": {},
   "number_sections": true,
   "sideBar": true,
   "skip_h1_title": false,
   "title_cell": "Table of Contents",
   "title_sidebar": "Contents",
   "toc_cell": false,
   "toc_position": {},
   "toc_section_display": true,
   "toc_window_display": false
  },
  "varInspector": {
   "cols": {
    "lenName": 16,
    "lenType": 16,
    "lenVar": 40
   },
   "kernels_config": {
    "python": {
     "delete_cmd_postfix": "",
     "delete_cmd_prefix": "del ",
     "library": "var_list.py",
     "varRefreshCmd": "print(var_dic_list())"
    },
    "r": {
     "delete_cmd_postfix": ") ",
     "delete_cmd_prefix": "rm(",
     "library": "var_list.r",
     "varRefreshCmd": "cat(var_dic_list()) "
    }
   },
   "types_to_exclude": [
    "module",
    "function",
    "builtin_function_or_method",
    "instance",
    "_Feature"
   ],
   "window_display": false
  }
 },
 "nbformat": 4,
 "nbformat_minor": 2
}
