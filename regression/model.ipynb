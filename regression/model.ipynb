{
 "cells": [
  {
   "cell_type": "markdown",
   "metadata": {},
   "source": [
    "- Run all scripts: \n",
    "\n",
    "- data_acquisition & pre-process (wrangle.py), \n",
    "\n",
    "- split & scale data, split_scale.py \n",
    "\n",
    "- feature selecting script\n",
    "\n",
    "- fit 2 different linear models to your data\n",
    "\n",
    "- evaluate the 2 models and your baseline.\n",
    "\n",
    "- select the one that performed the best.\n",
    "\n",
    "- apply selected model to your test data\n",
    "\n",
    "**GOAL** produce a function: \n",
    "creates the model object, fits and predicts, given X_train, X_test, y_train, y_test\n",
    "```python\n",
    "def plot_residuals(x, y, dataframe):\n",
    "    return sns.residplot()\n",
    "plot_residuals(feature, target, dataframe)\n",
    "```\n",
    "\n",
    "```python\n",
    "def plot_regression(x, y):\n",
    "    return datapoints, sns.reg(), confidence interval\n",
    "plot_regression(feature, target)\n",
    "```"
   ]
  }
 ],
 "metadata": {
  "kernelspec": {
   "display_name": "Python 3",
   "language": "python",
   "name": "python3"
  },
  "language_info": {
   "codemirror_mode": {
    "name": "ipython",
    "version": 3
   },
   "file_extension": ".py",
   "mimetype": "text/x-python",
   "name": "python",
   "nbconvert_exporter": "python",
   "pygments_lexer": "ipython3",
   "version": "3.7.3"
  },
  "toc": {
   "base_numbering": 1,
   "nav_menu": {},
   "number_sections": true,
   "sideBar": true,
   "skip_h1_title": false,
   "title_cell": "Table of Contents",
   "title_sidebar": "Contents",
   "toc_cell": false,
   "toc_position": {},
   "toc_section_display": true,
   "toc_window_display": false
  },
  "varInspector": {
   "cols": {
    "lenName": 16,
    "lenType": 16,
    "lenVar": 40
   },
   "kernels_config": {
    "python": {
     "delete_cmd_postfix": "",
     "delete_cmd_prefix": "del ",
     "library": "var_list.py",
     "varRefreshCmd": "print(var_dic_list())"
    },
    "r": {
     "delete_cmd_postfix": ") ",
     "delete_cmd_prefix": "rm(",
     "library": "var_list.r",
     "varRefreshCmd": "cat(var_dic_list()) "
    }
   },
   "types_to_exclude": [
    "module",
    "function",
    "builtin_function_or_method",
    "instance",
    "_Feature"
   ],
   "window_display": false
  }
 },
 "nbformat": 4,
 "nbformat_minor": 2
}
