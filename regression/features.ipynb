{
 "cells": [
  {
   "cell_type": "code",
   "execution_count": 1,
   "metadata": {},
   "outputs": [],
   "source": [
    "import matplotlib.pyplot as plt\n",
    "import seaborn as sns"
   ]
  },
  {
   "cell_type": "code",
   "execution_count": 2,
   "metadata": {},
   "outputs": [],
   "source": [
    "import warnings\n",
    "warnings.filterwarnings(\"ignore\")\n",
    "\n",
    "import pandas as pd\n",
    "import numpy as np\n",
    "\n",
    "import wrangle\n",
    "import split_scale\n",
    "import env\n",
    "\n",
    "from sklearn.preprocessing import StandardScaler, QuantileTransformer, PowerTransformer, RobustScaler, MinMaxScaler\n",
    "from sklearn.model_selection import train_test_split"
   ]
  },
  {
   "cell_type": "code",
   "execution_count": 3,
   "metadata": {},
   "outputs": [],
   "source": [
    "df = wrangle.wrangle_telco().set_index(\"customer_id\")\n",
    "X = df.loc[:, (\"tenure\", \"monthly_charges\")]\n",
    "y = pd.DataFrame(df.total_charges)"
   ]
  },
  {
   "cell_type": "code",
   "execution_count": 4,
   "metadata": {},
   "outputs": [
    {
     "data": {
      "text/html": [
       "<div>\n",
       "<style scoped>\n",
       "    .dataframe tbody tr th:only-of-type {\n",
       "        vertical-align: middle;\n",
       "    }\n",
       "\n",
       "    .dataframe tbody tr th {\n",
       "        vertical-align: top;\n",
       "    }\n",
       "\n",
       "    .dataframe thead th {\n",
       "        text-align: right;\n",
       "    }\n",
       "</style>\n",
       "<table border=\"1\" class=\"dataframe\">\n",
       "  <thead>\n",
       "    <tr style=\"text-align: right;\">\n",
       "      <th></th>\n",
       "      <th>tenure</th>\n",
       "      <th>monthly_charges</th>\n",
       "      <th>total_charges</th>\n",
       "    </tr>\n",
       "    <tr>\n",
       "      <th>customer_id</th>\n",
       "      <th></th>\n",
       "      <th></th>\n",
       "      <th></th>\n",
       "    </tr>\n",
       "  </thead>\n",
       "  <tbody>\n",
       "    <tr>\n",
       "      <th>0013-SMEOE</th>\n",
       "      <td>71</td>\n",
       "      <td>109.70</td>\n",
       "      <td>7904.25</td>\n",
       "    </tr>\n",
       "    <tr>\n",
       "      <th>0014-BMAQU</th>\n",
       "      <td>63</td>\n",
       "      <td>84.65</td>\n",
       "      <td>5377.80</td>\n",
       "    </tr>\n",
       "    <tr>\n",
       "      <th>0016-QLJIS</th>\n",
       "      <td>65</td>\n",
       "      <td>90.45</td>\n",
       "      <td>5957.90</td>\n",
       "    </tr>\n",
       "    <tr>\n",
       "      <th>0017-DINOC</th>\n",
       "      <td>54</td>\n",
       "      <td>45.20</td>\n",
       "      <td>2460.55</td>\n",
       "    </tr>\n",
       "    <tr>\n",
       "      <th>0017-IUDMW</th>\n",
       "      <td>72</td>\n",
       "      <td>116.80</td>\n",
       "      <td>8456.75</td>\n",
       "    </tr>\n",
       "  </tbody>\n",
       "</table>\n",
       "</div>"
      ],
      "text/plain": [
       "             tenure  monthly_charges  total_charges\n",
       "customer_id                                        \n",
       "0013-SMEOE       71           109.70        7904.25\n",
       "0014-BMAQU       63            84.65        5377.80\n",
       "0016-QLJIS       65            90.45        5957.90\n",
       "0017-DINOC       54            45.20        2460.55\n",
       "0017-IUDMW       72           116.80        8456.75"
      ]
     },
     "execution_count": 4,
     "metadata": {},
     "output_type": "execute_result"
    }
   ],
   "source": [
    "df.head()"
   ]
  },
  {
   "cell_type": "code",
   "execution_count": 8,
   "metadata": {},
   "outputs": [],
   "source": [
    "# split into train & test\n",
    "train,test=split_scale.split_my_data(df)\n",
    "# use standard scaler to scale all data, this step fit and scale\n",
    "scaler,train_sc,test_sc=split_scale.perform_standard_scaler(train,test)"
   ]
  },
  {
   "cell_type": "code",
   "execution_count": 9,
   "metadata": {},
   "outputs": [
    {
     "data": {
      "text/html": [
       "<div>\n",
       "<style scoped>\n",
       "    .dataframe tbody tr th:only-of-type {\n",
       "        vertical-align: middle;\n",
       "    }\n",
       "\n",
       "    .dataframe tbody tr th {\n",
       "        vertical-align: top;\n",
       "    }\n",
       "\n",
       "    .dataframe thead th {\n",
       "        text-align: right;\n",
       "    }\n",
       "</style>\n",
       "<table border=\"1\" class=\"dataframe\">\n",
       "  <thead>\n",
       "    <tr style=\"text-align: right;\">\n",
       "      <th></th>\n",
       "      <th>tenure</th>\n",
       "      <th>monthly_charges</th>\n",
       "      <th>total_charges</th>\n",
       "    </tr>\n",
       "  </thead>\n",
       "  <tbody>\n",
       "    <tr>\n",
       "      <th>count</th>\n",
       "      <td>1.348000e+03</td>\n",
       "      <td>1.348000e+03</td>\n",
       "      <td>1.348000e+03</td>\n",
       "    </tr>\n",
       "    <tr>\n",
       "      <th>mean</th>\n",
       "      <td>-4.513370e-17</td>\n",
       "      <td>1.047629e-16</td>\n",
       "      <td>3.887428e-17</td>\n",
       "    </tr>\n",
       "    <tr>\n",
       "      <th>std</th>\n",
       "      <td>1.000371e+00</td>\n",
       "      <td>1.000371e+00</td>\n",
       "      <td>1.000371e+00</td>\n",
       "    </tr>\n",
       "    <tr>\n",
       "      <th>min</th>\n",
       "      <td>-3.226512e+00</td>\n",
       "      <td>-1.223843e+00</td>\n",
       "      <td>-1.447170e+00</td>\n",
       "    </tr>\n",
       "    <tr>\n",
       "      <th>25%</th>\n",
       "      <td>-4.745646e-01</td>\n",
       "      <td>-1.065902e+00</td>\n",
       "      <td>-9.582201e-01</td>\n",
       "    </tr>\n",
       "    <tr>\n",
       "      <th>50%</th>\n",
       "      <td>3.854189e-01</td>\n",
       "      <td>1.001273e-01</td>\n",
       "      <td>-2.270583e-03</td>\n",
       "    </tr>\n",
       "    <tr>\n",
       "      <th>75%</th>\n",
       "      <td>7.867446e-01</td>\n",
       "      <td>8.567334e-01</td>\n",
       "      <td>8.741470e-01</td>\n",
       "    </tr>\n",
       "    <tr>\n",
       "      <th>max</th>\n",
       "      <td>8.440768e-01</td>\n",
       "      <td>1.664427e+00</td>\n",
       "      <td>1.918537e+00</td>\n",
       "    </tr>\n",
       "  </tbody>\n",
       "</table>\n",
       "</div>"
      ],
      "text/plain": [
       "             tenure  monthly_charges  total_charges\n",
       "count  1.348000e+03     1.348000e+03   1.348000e+03\n",
       "mean  -4.513370e-17     1.047629e-16   3.887428e-17\n",
       "std    1.000371e+00     1.000371e+00   1.000371e+00\n",
       "min   -3.226512e+00    -1.223843e+00  -1.447170e+00\n",
       "25%   -4.745646e-01    -1.065902e+00  -9.582201e-01\n",
       "50%    3.854189e-01     1.001273e-01  -2.270583e-03\n",
       "75%    7.867446e-01     8.567334e-01   8.741470e-01\n",
       "max    8.440768e-01     1.664427e+00   1.918537e+00"
      ]
     },
     "execution_count": 9,
     "metadata": {},
     "output_type": "execute_result"
    }
   ],
   "source": [
    "train_sc.describe() #std scaler scaled the spread of distributions for all var"
   ]
  },
  {
   "cell_type": "code",
   "execution_count": 10,
   "metadata": {},
   "outputs": [],
   "source": [
    "# split into Xy_unscaled data\n",
    "X_train = train.drop(columns = 'total_charges')\n",
    "y_train = train.total_charges\n",
    "X_test = test.drop(columns = 'total_charges')\n",
    "y_test = test.total_charges"
   ]
  },
  {
   "cell_type": "code",
   "execution_count": 11,
   "metadata": {},
   "outputs": [],
   "source": [
    "# split into Xy_scaled data\n",
    "X_train_sc = train_sc.drop(columns = \"total_charges\")\n",
    "y_train_sc = train_sc[[\"total_charges\"]]\n",
    "X_test_sc = test_sc.drop(columns = \"total_charges\")\n",
    "y_test_sc = test_sc[[\"total_charges\"]]"
   ]
  },
  {
   "cell_type": "code",
   "execution_count": 109,
   "metadata": {},
   "outputs": [
    {
     "data": {
      "text/plain": [
       "(['tenure', 'monthly_charges'], array([2.8954156e-150, 0.0000000e+000]))"
      ]
     },
     "execution_count": 109,
     "metadata": {},
     "output_type": "execute_result"
    }
   ],
   "source": [
    "feature_nonscale, p_val_nonscale = select_kbest_freg(X_train, y_train, 2) \n",
    "feature_nonscale, p_val_nonscale"
   ]
  },
  {
   "cell_type": "code",
   "execution_count": 110,
   "metadata": {},
   "outputs": [
    {
     "data": {
      "text/plain": [
       "(['tenure', 'monthly_charges'], array([2.8954156e-150, 0.0000000e+000]))"
      ]
     },
     "execution_count": 110,
     "metadata": {},
     "output_type": "execute_result"
    }
   ],
   "source": [
    "feature_scaled, p_val_scaled = select_kbest_freg(X_train_sc, y_train_sc, 2) \n",
    "feature_scaled, p_val_scaled"
   ]
  },
  {
   "cell_type": "code",
   "execution_count": 17,
   "metadata": {},
   "outputs": [
    {
     "data": {
      "text/html": [
       "<div>\n",
       "<style scoped>\n",
       "    .dataframe tbody tr th:only-of-type {\n",
       "        vertical-align: middle;\n",
       "    }\n",
       "\n",
       "    .dataframe tbody tr th {\n",
       "        vertical-align: top;\n",
       "    }\n",
       "\n",
       "    .dataframe thead th {\n",
       "        text-align: right;\n",
       "    }\n",
       "</style>\n",
       "<table border=\"1\" class=\"dataframe\">\n",
       "  <thead>\n",
       "    <tr style=\"text-align: right;\">\n",
       "      <th></th>\n",
       "      <th>unscaled</th>\n",
       "      <th>scaled</th>\n",
       "    </tr>\n",
       "    <tr>\n",
       "      <th>metric</th>\n",
       "      <th></th>\n",
       "      <th></th>\n",
       "    </tr>\n",
       "  </thead>\n",
       "  <tbody>\n",
       "    <tr>\n",
       "      <th>1st Feature</th>\n",
       "      <td>tenure</td>\n",
       "      <td>tenure</td>\n",
       "    </tr>\n",
       "    <tr>\n",
       "      <th>1st p-value</th>\n",
       "      <td>2.895415602153489e-150</td>\n",
       "      <td>2.895415602152008e-150</td>\n",
       "    </tr>\n",
       "    <tr>\n",
       "      <th>2nd Feature</th>\n",
       "      <td>monthly_charges</td>\n",
       "      <td>monthly_charges</td>\n",
       "    </tr>\n",
       "    <tr>\n",
       "      <th>2nd p-value</th>\n",
       "      <td>0.0</td>\n",
       "      <td>0.0</td>\n",
       "    </tr>\n",
       "  </tbody>\n",
       "</table>\n",
       "</div>"
      ],
      "text/plain": [
       "                           unscaled                  scaled\n",
       "metric                                                     \n",
       "1st Feature                  tenure                  tenure\n",
       "1st p-value  2.895415602153489e-150  2.895415602152008e-150\n",
       "2nd Feature         monthly_charges         monthly_charges\n",
       "2nd p-value                     0.0                     0.0"
      ]
     },
     "execution_count": 17,
     "metadata": {},
     "output_type": "execute_result"
    }
   ],
   "source": [
    "present_kbest = pd.DataFrame(np.array([\"1st Feature\", \"1st p-value\", \"2nd Feature\", \"2nd p-value\"]), columns=['metric']).set_index(\"metric\")\n",
    "present_kbest[\"unscaled\"] = np.array([feature_nonscale[0], p_val_nonscale[0], feature_nonscale[1], p_val_nonscale[1]])\n",
    "present_kbest['scaled'] = np.array([feature_scaled[0], p_val_scaled[0], feature_scaled[1], p_val_scaled[1]])\n",
    "present_kbest"
   ]
  },
  {
   "cell_type": "code",
   "execution_count": 114,
   "metadata": {},
   "outputs": [
    {
     "data": {
      "text/plain": [
       "['tenure', 'monthly_charges']"
      ]
     },
     "execution_count": 114,
     "metadata": {},
     "output_type": "execute_result"
    }
   ],
   "source": [
    "back_elim = ols_backward_elimination(X_train_sc, y_train_sc)\n",
    "back_elim"
   ]
  },
  {
   "cell_type": "code",
   "execution_count": 117,
   "metadata": {},
   "outputs": [
    {
     "data": {
      "text/plain": [
       "monthly_charges    0.825586\n",
       "tenure             0.287812\n",
       "dtype: float64"
      ]
     },
     "execution_count": 117,
     "metadata": {},
     "output_type": "execute_result"
    }
   ],
   "source": [
    "feature = lasso_cv_coef(X_train_sc, y_train_sc)\n",
    "feature"
   ]
  },
  {
   "cell_type": "code",
   "execution_count": 107,
   "metadata": {},
   "outputs": [
    {
     "name": "stdout",
     "output_type": "stream",
     "text": [
      "Index(['tenure', 'monthly_charges'], dtype='object')\n",
      "tenure             True\n",
      "monthly_charges    True\n",
      "dtype: bool\n"
     ]
    }
   ],
   "source": [
    "n = find_optimum(X_train, y_train)\n",
    "selected_features = find_feature_name(X_train, y_train, n)\n",
    "result = recursive_feature_elimination(selected_features, n)\n",
    "print(selected_features)\n",
    "print(result)"
   ]
  },
  {
   "cell_type": "code",
   "execution_count": 111,
   "metadata": {},
   "outputs": [],
   "source": [
    "def select_kbest_freg(X_train, y_train, k): \n",
    "    from sklearn.feature_selection import SelectKBest\n",
    "    from sklearn.feature_selection import f_regression\n",
    "\n",
    "    f_selector = SelectKBest(f_regression, k).fit(X_train,y_train)\n",
    "    \n",
    "    #f_support return T/F for select feature or not\n",
    "    f_support = f_selector.get_support()\n",
    "    \n",
    "    # f_feature return the selected features\n",
    "    f_feature = X_train.loc[:,f_support].columns.tolist()\n",
    "\n",
    "    return f_feature"
   ]
  },
  {
   "cell_type": "code",
   "execution_count": 115,
   "metadata": {},
   "outputs": [],
   "source": [
    "# perform backward_elimination provide ols as model\n",
    "# return stats summary and selected feature\n",
    "def ols_backward_elimination(X_train, y_train):\n",
    "    \n",
    "    import statsmodels.api as sm\n",
    "    \n",
    "    # loop over each (X_train) columns, \n",
    "    # find relationship between the particular var and target\n",
    "    cols = list(X_train.columns)\n",
    "    #pmax = 1\n",
    "    while (len(cols)>0):\n",
    "        # store p-value\n",
    "        # take in the column name when looped over\n",
    "        X_1 = X_train[cols]\n",
    "        #X_1 = sm.add_constant(X_1)\n",
    "        # extract all info for OLS summary table, name and p-val\n",
    "        model = sm.OLS(y_train,X_1).fit()\n",
    "        p = model.pvalues\n",
    "        #p = pd.Series(model.pvalues.values[1:],index = cols)\n",
    "        pmax = max(p)\n",
    "        feature_with_p_max = p.idxmax()\n",
    "        \n",
    "        if(pmax>0.05):\n",
    "            cols.remove(feature_with_p_max)\n",
    "        else:\n",
    "            break\n",
    "\n",
    "    selected_features_BE = cols    \n",
    "    return selected_features_BE"
   ]
  },
  {
   "cell_type": "code",
   "execution_count": 116,
   "metadata": {},
   "outputs": [],
   "source": [
    "def lasso_cv_coef(X_train, y_train): \n",
    "    from sklearn.linear_model import LassoCV\n",
    "    import matplotlib\n",
    "\n",
    "    reg = LassoCV().fit(X_train, y_train)\n",
    "\n",
    "    coef = pd.Series(reg.coef_, index = X_train.columns).sort_values(ascending = False)\n",
    "\n",
    "#     matplotlib.rcParams['figure.figsize'] = (4.0, 5.0)\n",
    "#     imp_coef.plot(kind = \"barh\")\n",
    "#     plt.title(\"Feature importance using Lasso Model\")\n",
    "\n",
    "    return coef"
   ]
  },
  {
   "cell_type": "code",
   "execution_count": 119,
   "metadata": {},
   "outputs": [
    {
     "data": {
      "text/plain": [
       "2"
      ]
     },
     "execution_count": 119,
     "metadata": {},
     "output_type": "execute_result"
    }
   ],
   "source": [
    "find_optimum(X_train, y_train)"
   ]
  },
  {
   "cell_type": "code",
   "execution_count": 5,
   "metadata": {},
   "outputs": [],
   "source": [
    "def optimal_number_of_features(X_train, y_train): \n",
    "    from sklearn.linear_model import LinearRegression\n",
    "    from sklearn.feature_selection import RFE\n",
    "\n",
    "    features_range = range(1, len(X_train.columns) +1 )\n",
    "    # set high score to be the lowest\n",
    "    high_score = 0\n",
    "    #Variable to store the optimum features\n",
    "    number_of_features = 0\n",
    "    score_list = []\n",
    "\n",
    "    for n in features_range:\n",
    "        model = LinearRegression() # use model to generate performance metrics\n",
    "        train_rfe  = RFE(model, n).fit_transform(X_train, y_train) # fit_transform to RFE\n",
    "        model.fit(train_rfe, y_train) # fit to LinearRegression\n",
    "        score = model.score(train_rfe, y_train)\n",
    "        score_list.append(score)\n",
    "        if (score>high_score):\n",
    "            high_score = score\n",
    "            number_of_features = n \n",
    "    return number_of_features"
   ]
  },
  {
   "cell_type": "code",
   "execution_count": 14,
   "metadata": {},
   "outputs": [],
   "source": [
    "number_of_features = optimal_number_of_features(X_train, y_train)"
   ]
  },
  {
   "cell_type": "code",
   "execution_count": 23,
   "metadata": {},
   "outputs": [],
   "source": [
    "def RFE_feature_name(X_train, y_train, X_test, number_of_features):\n",
    "    from sklearn.linear_model import LinearRegression\n",
    "    from sklearn.feature_selection import RFE\n",
    "\n",
    "    cols = list(X_train.columns)\n",
    "    model = LinearRegression()\n",
    "    \n",
    "    rfe = RFE(model, number_of_features)\n",
    "    \n",
    "    train_rfe = rfe.fit_transform(X_train, y_train)\n",
    "    test_rfe = rfe.transform(X_test)\n",
    "    \n",
    "    model.fit(train_rfe, y_train)\n",
    "    temp = pd.Series(rfe.support_,index = cols)\n",
    "    selected_features_rfe = temp[temp == True].index\n",
    "    \n",
    "    X_train_rfe = pd.DataFrame(train_rfe, columns = selected_features_rfe)\n",
    "    X_test_rfe = pd.DataFrame(test_rfe, columns = selected_features_rfe)\n",
    "    \n",
    "    return selected_features_rfe, X_train_rfe, X_test_rfe"
   ]
  },
  {
   "cell_type": "code",
   "execution_count": null,
   "metadata": {},
   "outputs": [],
   "source": []
  },
  {
   "cell_type": "code",
   "execution_count": null,
   "metadata": {},
   "outputs": [],
   "source": []
  },
  {
   "cell_type": "code",
   "execution_count": 7,
   "metadata": {},
   "outputs": [
    {
     "data": {
      "text/plain": [
       "<matplotlib.axes._subplots.AxesSubplot at 0x1a1de9bdd8>"
      ]
     },
     "execution_count": 7,
     "metadata": {},
     "output_type": "execute_result"
    },
    {
     "data": {
      "image/png": "[encoded data removed]",
      "text/plain": [
       "<Figure size 432x360 with 2 Axes>"
      ]
     },
     "metadata": {
      "needs_background": "light"
     },
     "output_type": "display_data"
    }
   ],
   "source": [
    "plt.figure(figsize=(6,5))\n",
    "cor = df.corr()\n",
    "sns.heatmap(cor, annot=True, cmap=plt.cm.Reds)"
   ]
  },
  {
   "cell_type": "code",
   "execution_count": 8,
   "metadata": {},
   "outputs": [
    {
     "data": {
      "text/html": [
       "<div>\n",
       "<style scoped>\n",
       "    .dataframe tbody tr th:only-of-type {\n",
       "        vertical-align: middle;\n",
       "    }\n",
       "\n",
       "    .dataframe tbody tr th {\n",
       "        vertical-align: top;\n",
       "    }\n",
       "\n",
       "    .dataframe thead th {\n",
       "        text-align: right;\n",
       "    }\n",
       "</style>\n",
       "<table border=\"1\" class=\"dataframe\">\n",
       "  <thead>\n",
       "    <tr style=\"text-align: right;\">\n",
       "      <th></th>\n",
       "      <th>tenure</th>\n",
       "      <th>monthly_charges</th>\n",
       "      <th>total_charges</th>\n",
       "    </tr>\n",
       "  </thead>\n",
       "  <tbody>\n",
       "    <tr>\n",
       "      <th>count</th>\n",
       "      <td>1685.00000</td>\n",
       "      <td>1685.000000</td>\n",
       "      <td>1685.000000</td>\n",
       "    </tr>\n",
       "    <tr>\n",
       "      <th>mean</th>\n",
       "      <td>57.07181</td>\n",
       "      <td>60.872374</td>\n",
       "      <td>3728.933947</td>\n",
       "    </tr>\n",
       "    <tr>\n",
       "      <th>std</th>\n",
       "      <td>17.72913</td>\n",
       "      <td>34.712210</td>\n",
       "      <td>2571.252806</td>\n",
       "    </tr>\n",
       "    <tr>\n",
       "      <th>min</th>\n",
       "      <td>1.00000</td>\n",
       "      <td>18.400000</td>\n",
       "      <td>20.350000</td>\n",
       "    </tr>\n",
       "    <tr>\n",
       "      <th>25%</th>\n",
       "      <td>48.00000</td>\n",
       "      <td>24.050000</td>\n",
       "      <td>1278.800000</td>\n",
       "    </tr>\n",
       "    <tr>\n",
       "      <th>50%</th>\n",
       "      <td>64.00000</td>\n",
       "      <td>64.450000</td>\n",
       "      <td>3623.950000</td>\n",
       "    </tr>\n",
       "    <tr>\n",
       "      <th>75%</th>\n",
       "      <td>71.00000</td>\n",
       "      <td>90.550000</td>\n",
       "      <td>5999.850000</td>\n",
       "    </tr>\n",
       "    <tr>\n",
       "      <th>max</th>\n",
       "      <td>72.00000</td>\n",
       "      <td>118.750000</td>\n",
       "      <td>8672.450000</td>\n",
       "    </tr>\n",
       "  </tbody>\n",
       "</table>\n",
       "</div>"
      ],
      "text/plain": [
       "           tenure  monthly_charges  total_charges\n",
       "count  1685.00000      1685.000000    1685.000000\n",
       "mean     57.07181        60.872374    3728.933947\n",
       "std      17.72913        34.712210    2571.252806\n",
       "min       1.00000        18.400000      20.350000\n",
       "25%      48.00000        24.050000    1278.800000\n",
       "50%      64.00000        64.450000    3623.950000\n",
       "75%      71.00000        90.550000    5999.850000\n",
       "max      72.00000       118.750000    8672.450000"
      ]
     },
     "execution_count": 8,
     "metadata": {},
     "output_type": "execute_result"
    }
   ],
   "source": [
    "df.describe()"
   ]
  },
  {
   "cell_type": "markdown",
   "metadata": {},
   "source": []
  },
  {
   "cell_type": "code",
   "execution_count": 9,
   "metadata": {},
   "outputs": [],
   "source": [
    "def perform_standard_scaler(train, test):\n",
    "    scaler = StandardScaler(copy=True, with_mean=True, with_std=True).fit(train)\n",
    "    train_scaled = pd.DataFrame(scaler.transform(train), columns=train.columns.values).set_index([train.index.values])\n",
    "    test_scaled = pd.DataFrame(scaler.transform(test), columns=test.columns.values).set_index([test.index.values])\n",
    "    return scaler, train_scaled, test_scaled\n",
    "\n",
    "\n",
    "sc, train_sc, test_sc = perform_standard_scaler(train, test)"
   ]
  },
  {
   "cell_type": "code",
   "execution_count": 10,
   "metadata": {},
   "outputs": [],
   "source": [
    "def perform_uniform_scaler(train, test):\n",
    "    u_scaler = QuantileTransformer(n_quantiles=100, output_distribution='uniform', random_state=123, copy=True).fit(train)\n",
    "    u_train_scaled = pd.DataFrame(u_scaler.transform(train), columns=train.columns.values).set_index([train.index.values])\n",
    "    u_test_scaled = pd.DataFrame(u_scaler.transform(test), columns=test.columns.values).set_index([test.index.values])\n",
    "\n",
    "    return u_scaler, u_train_scaled, u_test_scaled\n",
    "scu, train_scu, test_scu = perform_uniform_scaler(train, test)"
   ]
  },
  {
   "cell_type": "code",
   "execution_count": 11,
   "metadata": {},
   "outputs": [],
   "source": [
    "def gaussian_scaler(train, test):\n",
    "    p_scaler = PowerTransformer(method='yeo-johnson', standardize=False, copy=True).fit(train)\n",
    "    p_train_scaled = pd.DataFrame(p_scaler.transform(train), columns=train.columns.values).set_index([train.index.values])\n",
    "    p_test_scaled = pd.DataFrame(p_scaler.transform(test), columns=test.columns.values).set_index([test.index.values])\n",
    "    return p_scaler, p_train_scaled, p_test_scaled\n",
    "scg, train_scg, test_scg = gaussian_scaler(train, test)"
   ]
  },
  {
   "cell_type": "code",
   "execution_count": 12,
   "metadata": {},
   "outputs": [],
   "source": [
    "def min_max_scaler(train, test):\n",
    "\tmm_scaler = MinMaxScaler(copy=True, feature_range=(0,1)).fit(train)\n",
    "\tmm_train_scaled = pd.DataFrame(mm_scaler.transform(train), columns= train.columns.values).set_index([train.index.values])\n",
    "\tmm_test_scaled = pd.DataFrame(mm_scaler.transform(test), columns= test.columns.values).set_index([test.index.values])\n",
    "\treturn mm_scaler, mm_train_scaled, mm_test_scaled\n",
    "scmm, train_scmm, test_scmm = min_max_scaler(train, test)"
   ]
  },
  {
   "cell_type": "code",
   "execution_count": 13,
   "metadata": {},
   "outputs": [],
   "source": [
    "def iqr_robust_scaler(train, test):\n",
    "    r_scaler = RobustScaler(quantile_range=(25.0,75.0), copy=True, with_centering=True, with_scaling=True).fit(train)\n",
    "    r_train_scaled = pd.DataFrame(r_scaler.transform(train), columns= train.columns.values).set_index([train.index.values])\n",
    "    r_test_scaled = pd.DataFrame(r_scaler.transform(test), columns= test.columns.values).set_index([test.index.values])\n",
    "    return r_scaler, r_train_scaled, r_test_scaled\n",
    "scr, train_scr, test_scr = iqr_robust_scaler(train, test)"
   ]
  },
  {
   "cell_type": "code",
   "execution_count": 14,
   "metadata": {},
   "outputs": [
    {
     "data": {
      "text/plain": [
       "<matplotlib.axes._subplots.AxesSubplot at 0x1a1de2eac8>"
      ]
     },
     "execution_count": 14,
     "metadata": {},
     "output_type": "execute_result"
    },
    {
     "data": {
      "image/png": "[encoded data removed]",
      "text/plain": [
       "<Figure size 1800x1800 with 8 Axes>"
      ]
     },
     "metadata": {
      "needs_background": "light"
     },
     "output_type": "display_data"
    }
   ],
   "source": [
    "from matplotlib import gridspec\n",
    "\n",
    "fig = plt.figure(figsize=(25, 25))\n",
    "gs = gridspec.GridSpec(4, 4)\n",
    "sns.set(font_scale=1.4)\n",
    "\n",
    "ax1 = plt.subplot(gs[0, 0])\n",
    "ax2 = plt.subplot(gs[0, 1])\n",
    "ax3 = plt.subplot(gs[0, 3])\n",
    "ax4 = plt.subplot(gs[1, 1])\n",
    "ax5 = plt.subplot(gs[1, 2])\n",
    "ax6 = plt.subplot(gs[1, 3])\n",
    "ax7 = plt.subplot(gs[1, 0])\n",
    "ax8 = plt.subplot(gs[0, 2])\n",
    "\n",
    "\n",
    "ax1.set_title(\"raw data from df, no scaled\")\n",
    "ax2.set_title(\"raw data from X_train, no scaled\")\n",
    "ax3.set_title(\"result from standard scaler\")\n",
    "ax4.set_title(\"result from uniform scaler\")\n",
    "ax5.set_title(\"result from gaussian_yeo-johnson scaler\")\n",
    "ax6.set_title(\"result from min-max scaler\")\n",
    "ax7.set_title(\"result from IQR_robust scaler\")\n",
    "ax8.set_title(\"Graphic Summary of Data Scaling\")\n",
    "\n",
    "sns.boxplot(data=train, ax = ax1)\n",
    "sns.boxplot(data=X_train, ax = ax2)\n",
    "sns.boxplot(data=train_sc, ax = ax3)\n",
    "sns.boxplot(data = train_scu, ax = ax4)\n",
    "sns.boxplot(data = train_scg, ax = ax5)\n",
    "sns.boxplot(data = train_scmm, ax = ax6)\n",
    "sns.boxplot(data = train_scr, ax = ax7)\n",
    "\n"
   ]
  },
  {
   "cell_type": "code",
   "execution_count": 15,
   "metadata": {},
   "outputs": [
    {
     "data": {
      "text/plain": [
       "<matplotlib.axes._subplots.AxesSubplot at 0x1a1ddb3ac8>"
      ]
     },
     "execution_count": 15,
     "metadata": {},
     "output_type": "execute_result"
    },
    {
     "data": {
      "image/png": "[encoded data removed]",
      "text/plain": [
       "<Figure size 432x288 with 1 Axes>"
      ]
     },
     "metadata": {},
     "output_type": "display_data"
    }
   ],
   "source": [
    "sns.scatterplot(x = train_sc.tenure, y = train.tenure)"
   ]
  },
  {
   "cell_type": "code",
   "execution_count": 16,
   "metadata": {},
   "outputs": [
    {
     "data": {
      "text/html": [
       "<div>\n",
       "<style scoped>\n",
       "    .dataframe tbody tr th:only-of-type {\n",
       "        vertical-align: middle;\n",
       "    }\n",
       "\n",
       "    .dataframe tbody tr th {\n",
       "        vertical-align: top;\n",
       "    }\n",
       "\n",
       "    .dataframe thead th {\n",
       "        text-align: right;\n",
       "    }\n",
       "</style>\n",
       "<table border=\"1\" class=\"dataframe\">\n",
       "  <thead>\n",
       "    <tr style=\"text-align: right;\">\n",
       "      <th></th>\n",
       "      <th>tenure</th>\n",
       "      <th>monthly_charges</th>\n",
       "      <th>total_charges</th>\n",
       "    </tr>\n",
       "  </thead>\n",
       "  <tbody>\n",
       "    <tr>\n",
       "      <th>0707-HOVVN</th>\n",
       "      <td>0.686869</td>\n",
       "      <td>0.580710</td>\n",
       "      <td>0.657682</td>\n",
       "    </tr>\n",
       "    <tr>\n",
       "      <th>8380-MQINP</th>\n",
       "      <td>0.323232</td>\n",
       "      <td>0.181818</td>\n",
       "      <td>0.181987</td>\n",
       "    </tr>\n",
       "    <tr>\n",
       "      <th>2307-FYNNL</th>\n",
       "      <td>0.515152</td>\n",
       "      <td>0.898309</td>\n",
       "      <td>0.872947</td>\n",
       "    </tr>\n",
       "    <tr>\n",
       "      <th>6797-LNAQX</th>\n",
       "      <td>0.686869</td>\n",
       "      <td>0.800304</td>\n",
       "      <td>0.850193</td>\n",
       "    </tr>\n",
       "    <tr>\n",
       "      <th>8879-XUAHX</th>\n",
       "      <td>0.752525</td>\n",
       "      <td>0.987325</td>\n",
       "      <td>0.995336</td>\n",
       "    </tr>\n",
       "  </tbody>\n",
       "</table>\n",
       "</div>"
      ],
      "text/plain": [
       "              tenure  monthly_charges  total_charges\n",
       "0707-HOVVN  0.686869         0.580710       0.657682\n",
       "8380-MQINP  0.323232         0.181818       0.181987\n",
       "2307-FYNNL  0.515152         0.898309       0.872947\n",
       "6797-LNAQX  0.686869         0.800304       0.850193\n",
       "8879-XUAHX  0.752525         0.987325       0.995336"
      ]
     },
     "execution_count": 16,
     "metadata": {},
     "output_type": "execute_result"
    }
   ],
   "source": [
    "train_scu.head()"
   ]
  },
  {
   "cell_type": "code",
   "execution_count": null,
   "metadata": {},
   "outputs": [],
   "source": [
    "from sklearn.linear_model import LinearRegression\n",
    "from sklearn.feature_selection import RFE\n",
    "import pandas as pd\n",
    "import numpy as np"
   ]
  },
  {
   "cell_type": "code",
   "execution_count": 41,
   "metadata": {},
   "outputs": [],
   "source": [
    "def optimal_features(X_train, y_train, number_of_features):\n",
    "    '''Taking the output of optimal_number_of_features, as n, and use that value to \n",
    "    run recursive feature elimination to find the n best features'''\n",
    "    cols = list(X_train.columns)\n",
    "    model = LinearRegression()\n",
    "    \n",
    "    #Initializing RFE model\n",
    "    rfe = RFE(model, number_of_features)\n",
    "\n",
    "    #Transforming data using RFE\n",
    "    X_rfe = rfe.fit_transform(X_train,y_train)  \n",
    "\n",
    "    #Fitting the data to model\n",
    "    model.fit(X_rfe,y_train)\n",
    "    temp = pd.Series(rfe.support_,index = cols)\n",
    "    selected_features_rfe = temp[temp==True].index\n",
    "    \n",
    "    return selected_features_rfe"
   ]
  },
  {
   "cell_type": "code",
   "execution_count": 30,
   "metadata": {},
   "outputs": [
    {
     "name": "stdout",
     "output_type": "stream",
     "text": [
      "rfe_support:  [ True  True]\n",
      "rfe.ranking:      [1 1]\n"
     ]
    }
   ],
   "source": [
    "from sklearn.linear_model import LinearRegression\n",
    "from sklearn.feature_selection import RFE\n",
    "\n",
    "model = LinearRegression()\n",
    "\n",
    "#Initializing RFE model, with parameter to select top 2 features. \n",
    "rfe = RFE(model, 2)\n",
    "\n",
    "#Transforming data using RFE\n",
    "X_rfe = rfe.fit_transform(X_train_sc,y_train_sc)  \n",
    "\n",
    "#Fitting the data to model\n",
    "model.fit(X_rfe,y_train_sc)\n",
    "\n",
    "print(\"rfe_support: \", rfe.support_)\n",
    "print(\"rfe.ranking: \", '   ', rfe.ranking_)"
   ]
  },
  {
   "cell_type": "markdown",
   "metadata": {},
   "source": [
    "RMSE <= $5\n",
    "\n",
    "don't scale your y"
   ]
  },
  {
   "cell_type": "code",
   "execution_count": null,
   "metadata": {},
   "outputs": [],
   "source": []
  }
 ],
 "metadata": {
  "kernelspec": {
   "display_name": "Python 3",
   "language": "python",
   "name": "python3"
  },
  "language_info": {
   "codemirror_mode": {
    "name": "ipython",
    "version": 3
   },
   "file_extension": ".py",
   "mimetype": "text/x-python",
   "name": "python",
   "nbconvert_exporter": "python",
   "pygments_lexer": "ipython3",
   "version": "3.7.3"
  },
  "toc": {
   "base_numbering": 1,
   "nav_menu": {},
   "number_sections": true,
   "sideBar": true,
   "skip_h1_title": false,
   "title_cell": "Table of Contents",
   "title_sidebar": "Contents",
   "toc_cell": false,
   "toc_position": {},
   "toc_section_display": true,
   "toc_window_display": false
  },
  "varInspector": {
   "cols": {
    "lenName": 16,
    "lenType": 16,
    "lenVar": 40
   },
   "kernels_config": {
    "python": {
     "delete_cmd_postfix": "",
     "delete_cmd_prefix": "del ",
     "library": "var_list.py",
     "varRefreshCmd": "print(var_dic_list())"
    },
    "r": {
     "delete_cmd_postfix": ") ",
     "delete_cmd_prefix": "rm(",
     "library": "var_list.r",
     "varRefreshCmd": "cat(var_dic_list()) "
    }
   },
   "types_to_exclude": [
    "module",
    "function",
    "builtin_function_or_method",
    "instance",
    "_Feature"
   ],
   "window_display": false
  }
 },
 "nbformat": 4,
 "nbformat_minor": 2
}
