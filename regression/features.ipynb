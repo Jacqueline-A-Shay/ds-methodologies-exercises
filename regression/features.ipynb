{
 "cells": [
  {
   "cell_type": "code",
   "execution_count": 35,
   "metadata": {},
   "outputs": [],
   "source": [
    "import matplotlib.pyplot as plt\n",
    "import seaborn as sns"
   ]
  },
  {
   "cell_type": "code",
   "execution_count": 1,
   "metadata": {},
   "outputs": [],
   "source": [
    "import warnings\n",
    "warnings.filterwarnings(\"ignore\")\n",
    "\n",
    "import pandas as pd\n",
    "import numpy as np\n",
    "\n",
    "import wrangle\n",
    "import env\n",
    "\n",
    "from sklearn.preprocessing import StandardScaler, QuantileTransformer, PowerTransformer, RobustScaler, MinMaxScaler\n",
    "from sklearn.model_selection import train_test_split\n",
    "\n",
    "df = wrangle.wrangle_telco().set_index(\"customer_id\")\n",
    "X = df.loc[:, (\"tenure\", \"monthly_charges\")]\n",
    "y = pd.DataFrame(df.total_charges)\n"
   ]
  },
  {
   "cell_type": "code",
   "execution_count": 2,
   "metadata": {},
   "outputs": [
    {
     "data": {
      "text/html": [
       "<div>\n",
       "<style scoped>\n",
       "    .dataframe tbody tr th:only-of-type {\n",
       "        vertical-align: middle;\n",
       "    }\n",
       "\n",
       "    .dataframe tbody tr th {\n",
       "        vertical-align: top;\n",
       "    }\n",
       "\n",
       "    .dataframe thead th {\n",
       "        text-align: right;\n",
       "    }\n",
       "</style>\n",
       "<table border=\"1\" class=\"dataframe\">\n",
       "  <thead>\n",
       "    <tr style=\"text-align: right;\">\n",
       "      <th></th>\n",
       "      <th>tenure</th>\n",
       "      <th>monthly_charges</th>\n",
       "      <th>total_charges</th>\n",
       "    </tr>\n",
       "    <tr>\n",
       "      <th>customer_id</th>\n",
       "      <th></th>\n",
       "      <th></th>\n",
       "      <th></th>\n",
       "    </tr>\n",
       "  </thead>\n",
       "  <tbody>\n",
       "    <tr>\n",
       "      <th>0013-SMEOE</th>\n",
       "      <td>71</td>\n",
       "      <td>109.70</td>\n",
       "      <td>7904.25</td>\n",
       "    </tr>\n",
       "    <tr>\n",
       "      <th>0014-BMAQU</th>\n",
       "      <td>63</td>\n",
       "      <td>84.65</td>\n",
       "      <td>5377.80</td>\n",
       "    </tr>\n",
       "    <tr>\n",
       "      <th>0016-QLJIS</th>\n",
       "      <td>65</td>\n",
       "      <td>90.45</td>\n",
       "      <td>5957.90</td>\n",
       "    </tr>\n",
       "    <tr>\n",
       "      <th>0017-DINOC</th>\n",
       "      <td>54</td>\n",
       "      <td>45.20</td>\n",
       "      <td>2460.55</td>\n",
       "    </tr>\n",
       "    <tr>\n",
       "      <th>0017-IUDMW</th>\n",
       "      <td>72</td>\n",
       "      <td>116.80</td>\n",
       "      <td>8456.75</td>\n",
       "    </tr>\n",
       "  </tbody>\n",
       "</table>\n",
       "</div>"
      ],
      "text/plain": [
       "             tenure  monthly_charges  total_charges\n",
       "customer_id                                        \n",
       "0013-SMEOE       71           109.70        7904.25\n",
       "0014-BMAQU       63            84.65        5377.80\n",
       "0016-QLJIS       65            90.45        5957.90\n",
       "0017-DINOC       54            45.20        2460.55\n",
       "0017-IUDMW       72           116.80        8456.75"
      ]
     },
     "execution_count": 2,
     "metadata": {},
     "output_type": "execute_result"
    }
   ],
   "source": [
    "df.head()"
   ]
  },
  {
   "cell_type": "code",
   "execution_count": 25,
   "metadata": {},
   "outputs": [],
   "source": [
    "# split dataframe into train(train_percent: 80%) & test(20%)\n",
    "def split_my_data(df):\n",
    "    train, test = train_test_split(df, train_size = 0.8, random_state = 123)\n",
    "    \n",
    "    # assign variable vs target\n",
    "    X_train = train.drop(columns = 'total_charges')\n",
    "    y_train = train.total_charges\n",
    "    \n",
    "    X_test = test.drop(columns = 'total_charges')\n",
    "    y_test = test.total_charges\n",
    "\n",
    "    return X_train, y_train, X_test, y_test\n",
    "X_train, y_train, X_test, y_test = split_my_data(df)"
   ]
  },
  {
   "cell_type": "code",
   "execution_count": 27,
   "metadata": {},
   "outputs": [
    {
     "data": {
      "text/html": [
       "<div>\n",
       "<style scoped>\n",
       "    .dataframe tbody tr th:only-of-type {\n",
       "        vertical-align: middle;\n",
       "    }\n",
       "\n",
       "    .dataframe tbody tr th {\n",
       "        vertical-align: top;\n",
       "    }\n",
       "\n",
       "    .dataframe thead th {\n",
       "        text-align: right;\n",
       "    }\n",
       "</style>\n",
       "<table border=\"1\" class=\"dataframe\">\n",
       "  <thead>\n",
       "    <tr style=\"text-align: right;\">\n",
       "      <th></th>\n",
       "      <th>tenure</th>\n",
       "      <th>monthly_charges</th>\n",
       "    </tr>\n",
       "    <tr>\n",
       "      <th>customer_id</th>\n",
       "      <th></th>\n",
       "      <th></th>\n",
       "    </tr>\n",
       "  </thead>\n",
       "  <tbody>\n",
       "    <tr>\n",
       "      <th>0707-HOVVN</th>\n",
       "      <td>70</td>\n",
       "      <td>75.50</td>\n",
       "    </tr>\n",
       "    <tr>\n",
       "      <th>8380-MQINP</th>\n",
       "      <td>55</td>\n",
       "      <td>20.30</td>\n",
       "    </tr>\n",
       "    <tr>\n",
       "      <th>2307-FYNNL</th>\n",
       "      <td>65</td>\n",
       "      <td>109.05</td>\n",
       "    </tr>\n",
       "    <tr>\n",
       "      <th>6797-LNAQX</th>\n",
       "      <td>70</td>\n",
       "      <td>98.30</td>\n",
       "    </tr>\n",
       "    <tr>\n",
       "      <th>8879-XUAHX</th>\n",
       "      <td>71</td>\n",
       "      <td>116.25</td>\n",
       "    </tr>\n",
       "  </tbody>\n",
       "</table>\n",
       "</div>"
      ],
      "text/plain": [
       "             tenure  monthly_charges\n",
       "customer_id                         \n",
       "0707-HOVVN       70            75.50\n",
       "8380-MQINP       55            20.30\n",
       "2307-FYNNL       65           109.05\n",
       "6797-LNAQX       70            98.30\n",
       "8879-XUAHX       71           116.25"
      ]
     },
     "execution_count": 27,
     "metadata": {},
     "output_type": "execute_result"
    }
   ],
   "source": [
    "X_train.head()"
   ]
  },
  {
   "cell_type": "code",
   "execution_count": 36,
   "metadata": {},
   "outputs": [
    {
     "data": {
      "text/plain": [
       "<matplotlib.axes._subplots.AxesSubplot at 0x1a1c79c748>"
      ]
     },
     "execution_count": 36,
     "metadata": {},
     "output_type": "execute_result"
    },
    {
     "data": {
      "image/png": "[encoded data removed]",
      "text/plain": [
       "<Figure size 432x360 with 2 Axes>"
      ]
     },
     "metadata": {
      "needs_background": "light"
     },
     "output_type": "display_data"
    }
   ],
   "source": [
    "plt.figure(figsize=(6,5))\n",
    "cor = df.corr()\n",
    "sns.heatmap(cor, annot=True, cmap=plt.cm.Reds)"
   ]
  },
  {
   "cell_type": "code",
   "execution_count": 38,
   "metadata": {},
   "outputs": [
    {
     "data": {
      "text/html": [
       "<div>\n",
       "<style scoped>\n",
       "    .dataframe tbody tr th:only-of-type {\n",
       "        vertical-align: middle;\n",
       "    }\n",
       "\n",
       "    .dataframe tbody tr th {\n",
       "        vertical-align: top;\n",
       "    }\n",
       "\n",
       "    .dataframe thead th {\n",
       "        text-align: right;\n",
       "    }\n",
       "</style>\n",
       "<table border=\"1\" class=\"dataframe\">\n",
       "  <thead>\n",
       "    <tr style=\"text-align: right;\">\n",
       "      <th></th>\n",
       "      <th>tenure</th>\n",
       "      <th>monthly_charges</th>\n",
       "      <th>total_charges</th>\n",
       "    </tr>\n",
       "  </thead>\n",
       "  <tbody>\n",
       "    <tr>\n",
       "      <th>count</th>\n",
       "      <td>1685.00000</td>\n",
       "      <td>1685.000000</td>\n",
       "      <td>1685.000000</td>\n",
       "    </tr>\n",
       "    <tr>\n",
       "      <th>mean</th>\n",
       "      <td>57.07181</td>\n",
       "      <td>60.872374</td>\n",
       "      <td>3728.933947</td>\n",
       "    </tr>\n",
       "    <tr>\n",
       "      <th>std</th>\n",
       "      <td>17.72913</td>\n",
       "      <td>34.712210</td>\n",
       "      <td>2571.252806</td>\n",
       "    </tr>\n",
       "    <tr>\n",
       "      <th>min</th>\n",
       "      <td>1.00000</td>\n",
       "      <td>18.400000</td>\n",
       "      <td>20.350000</td>\n",
       "    </tr>\n",
       "    <tr>\n",
       "      <th>25%</th>\n",
       "      <td>48.00000</td>\n",
       "      <td>24.050000</td>\n",
       "      <td>1278.800000</td>\n",
       "    </tr>\n",
       "    <tr>\n",
       "      <th>50%</th>\n",
       "      <td>64.00000</td>\n",
       "      <td>64.450000</td>\n",
       "      <td>3623.950000</td>\n",
       "    </tr>\n",
       "    <tr>\n",
       "      <th>75%</th>\n",
       "      <td>71.00000</td>\n",
       "      <td>90.550000</td>\n",
       "      <td>5999.850000</td>\n",
       "    </tr>\n",
       "    <tr>\n",
       "      <th>max</th>\n",
       "      <td>72.00000</td>\n",
       "      <td>118.750000</td>\n",
       "      <td>8672.450000</td>\n",
       "    </tr>\n",
       "  </tbody>\n",
       "</table>\n",
       "</div>"
      ],
      "text/plain": [
       "           tenure  monthly_charges  total_charges\n",
       "count  1685.00000      1685.000000    1685.000000\n",
       "mean     57.07181        60.872374    3728.933947\n",
       "std      17.72913        34.712210    2571.252806\n",
       "min       1.00000        18.400000      20.350000\n",
       "25%      48.00000        24.050000    1278.800000\n",
       "50%      64.00000        64.450000    3623.950000\n",
       "75%      71.00000        90.550000    5999.850000\n",
       "max      72.00000       118.750000    8672.450000"
      ]
     },
     "execution_count": 38,
     "metadata": {},
     "output_type": "execute_result"
    }
   ],
   "source": [
    "df.describe()"
   ]
  },
  {
   "cell_type": "markdown",
   "metadata": {},
   "source": [
    "Write a function, select_kbest_chisquared() that takes X_train, y_train and k as input (X_train and y_train should not be scaled!) and returns a list of the top k features.\n",
    "\n"
   ]
  },
  {
   "cell_type": "code",
   "execution_count": 51,
   "metadata": {},
   "outputs": [],
   "source": [
    "def perform_standard_scaler(train, test):\n",
    "    scaler = StandardScaler(copy=True, with_mean=True, with_std=True).fit(train)\n",
    "    train_scaled = pd.DataFrame(scaler.transform(train), columns=train.columns.values).set_index([train.index.values])\n",
    "    test_scaled = pd.DataFrame(scaler.transform(test), columns=test.columns.values).set_index([test.index.values])\n",
    "    return scaler, train_scaled, test_scaled\n",
    "\n",
    "\n",
    "sc, train_sc, test_sc = perform_standard_scaler(train, test)"
   ]
  },
  {
   "cell_type": "code",
   "execution_count": 63,
   "metadata": {},
   "outputs": [],
   "source": [
    "def perform_uniform_scaler(train, test):\n",
    "    u_scaler = QuantileTransformer(n_quantiles=100, output_distribution='uniform', random_state=123, copy=True).fit(train)\n",
    "    u_train_scaled = pd.DataFrame(u_scaler.transform(train), columns=train.columns.values).set_index([train.index.values])\n",
    "    u_test_scaled = pd.DataFrame(u_scaler.transform(test), columns=test.columns.values).set_index([test.index.values])\n",
    "\n",
    "    return u_scaler, u_train_scaled, u_test_scaled\n",
    "scu, train_scu, test_scu = perform_uniform_scaler(train, test)"
   ]
  },
  {
   "cell_type": "code",
   "execution_count": 74,
   "metadata": {},
   "outputs": [],
   "source": [
    "def gaussian_scaler(train, test):\n",
    "    p_scaler = PowerTransformer(method='yeo-johnson', standardize=False, copy=True).fit(train)\n",
    "    p_train_scaled = pd.DataFrame(p_scaler.transform(train), columns=train.columns.values).set_index([train.index.values])\n",
    "    p_test_scaled = pd.DataFrame(p_scaler.transform(test), columns=test.columns.values).set_index([test.index.values])\n",
    "    return p_scaler, p_train_scaled, p_test_scaled\n",
    "scg, train_scg, test_scg = gaussian_scaler(train, test)"
   ]
  },
  {
   "cell_type": "code",
   "execution_count": 77,
   "metadata": {},
   "outputs": [],
   "source": [
    "def min_max_scaler(train, test):\n",
    "\tmm_scaler = MinMaxScaler(copy=True, feature_range=(0,1)).fit(train)\n",
    "\tmm_train_scaled = pd.DataFrame(mm_scaler.transform(train), columns= train.columns.values).set_index([train.index.values])\n",
    "\tmm_test_scaled = pd.DataFrame(mm_scaler.transform(test), columns= test.columns.values).set_index([test.index.values])\n",
    "\treturn mm_scaler, mm_train_scaled, mm_test_scaled\n",
    "scmm, train_scmm, test_scmm = min_max_scaler(train, test)"
   ]
  },
  {
   "cell_type": "code",
   "execution_count": 82,
   "metadata": {},
   "outputs": [],
   "source": [
    "def iqr_robust_scaler(train, test):\n",
    "    r_scaler = RobustScaler(quantile_range=(25.0,75.0), copy=True, with_centering=True, with_scaling=True).fit(train)\n",
    "    r_train_scaled = pd.DataFrame(r_scaler.transform(train), columns= train.columns.values).set_index([train.index.values])\n",
    "    r_test_scaled = pd.DataFrame(r_scaler.transform(test), columns= test.columns.values).set_index([test.index.values])\n",
    "    return r_scaler, r_train_scaled, r_test_scaled\n",
    "scr, train_scr, test_scr = iqr_robust_scaler(train, test)"
   ]
  },
  {
   "cell_type": "code",
   "execution_count": 90,
   "metadata": {},
   "outputs": [
    {
     "data": {
      "text/plain": [
       "<matplotlib.axes._subplots.AxesSubplot at 0x1a236591d0>"
      ]
     },
     "execution_count": 90,
     "metadata": {},
     "output_type": "execute_result"
    },
    {
     "data": {
      "image/png": "[encoded data removed]",
      "text/plain": [
       "<Figure size 1800x1800 with 8 Axes>"
      ]
     },
     "metadata": {},
     "output_type": "display_data"
    }
   ],
   "source": [
    "from matplotlib import gridspec\n",
    "\n",
    "fig = plt.figure(figsize=(25, 25))\n",
    "gs = gridspec.GridSpec(4, 4)\n",
    "sns.set(font_scale=1.4)\n",
    "\n",
    "ax1 = plt.subplot(gs[0, 0])\n",
    "ax2 = plt.subplot(gs[0, 1])\n",
    "ax3 = plt.subplot(gs[0, 3])\n",
    "ax4 = plt.subplot(gs[1, 1])\n",
    "ax5 = plt.subplot(gs[1, 2])\n",
    "ax6 = plt.subplot(gs[1, 3])\n",
    "ax7 = plt.subplot(gs[1, 0])\n",
    "ax8 = plt.subplot(gs[0, 2])\n",
    "\n",
    "\n",
    "ax1.set_title(\"raw data from df, no scaled\")\n",
    "ax2.set_title(\"raw data from X_train, no scaled\")\n",
    "ax3.set_title(\"result from standard scaler\")\n",
    "ax4.set_title(\"result from uniform scaler\")\n",
    "ax5.set_title(\"result from gaussian_yeo-johnson scaler\")\n",
    "ax6.set_title(\"result from min-max scaler\")\n",
    "ax7.set_title(\"result from IQR_robust scaler\")\n",
    "ax8.set_title(\"Graphic Summary of Data Scaling\")\n",
    "\n",
    "sns.boxplot(data=train, ax = ax1)\n",
    "sns.boxplot(data=X_train, ax = ax2)\n",
    "sns.boxplot(data=train_sc, ax = ax3)\n",
    "sns.boxplot(data = train_scu, ax = ax4)\n",
    "sns.boxplot(data = train_scg, ax = ax5)\n",
    "sns.boxplot(data = train_scmm, ax = ax6)\n",
    "sns.boxplot(data = train_scr, ax = ax7)\n",
    "\n"
   ]
  },
  {
   "cell_type": "code",
   "execution_count": 57,
   "metadata": {},
   "outputs": [
    {
     "data": {
      "text/plain": [
       "<matplotlib.axes._subplots.AxesSubplot at 0x1a1cc6b550>"
      ]
     },
     "execution_count": 57,
     "metadata": {},
     "output_type": "execute_result"
    },
    {
     "data": {
      "image/png": "[encoded data removed]",
      "text/plain": [
       "<Figure size 432x288 with 1 Axes>"
      ]
     },
     "metadata": {
      "needs_background": "light"
     },
     "output_type": "display_data"
    }
   ],
   "source": [
    "sns.scatterplot(x = train_sc.tenure, y = train.tenure)"
   ]
  },
  {
   "cell_type": "code",
   "execution_count": 92,
   "metadata": {},
   "outputs": [
    {
     "data": {
      "text/html": [
       "<div>\n",
       "<style scoped>\n",
       "    .dataframe tbody tr th:only-of-type {\n",
       "        vertical-align: middle;\n",
       "    }\n",
       "\n",
       "    .dataframe tbody tr th {\n",
       "        vertical-align: top;\n",
       "    }\n",
       "\n",
       "    .dataframe thead th {\n",
       "        text-align: right;\n",
       "    }\n",
       "</style>\n",
       "<table border=\"1\" class=\"dataframe\">\n",
       "  <thead>\n",
       "    <tr style=\"text-align: right;\">\n",
       "      <th></th>\n",
       "      <th>tenure</th>\n",
       "      <th>monthly_charges</th>\n",
       "      <th>total_charges</th>\n",
       "    </tr>\n",
       "  </thead>\n",
       "  <tbody>\n",
       "    <tr>\n",
       "      <th>0707-HOVVN</th>\n",
       "      <td>0.686869</td>\n",
       "      <td>0.580710</td>\n",
       "      <td>0.657682</td>\n",
       "    </tr>\n",
       "    <tr>\n",
       "      <th>8380-MQINP</th>\n",
       "      <td>0.323232</td>\n",
       "      <td>0.181818</td>\n",
       "      <td>0.181987</td>\n",
       "    </tr>\n",
       "    <tr>\n",
       "      <th>2307-FYNNL</th>\n",
       "      <td>0.515152</td>\n",
       "      <td>0.898309</td>\n",
       "      <td>0.872947</td>\n",
       "    </tr>\n",
       "    <tr>\n",
       "      <th>6797-LNAQX</th>\n",
       "      <td>0.686869</td>\n",
       "      <td>0.800304</td>\n",
       "      <td>0.850193</td>\n",
       "    </tr>\n",
       "    <tr>\n",
       "      <th>8879-XUAHX</th>\n",
       "      <td>0.752525</td>\n",
       "      <td>0.987325</td>\n",
       "      <td>0.995336</td>\n",
       "    </tr>\n",
       "  </tbody>\n",
       "</table>\n",
       "</div>"
      ],
      "text/plain": [
       "              tenure  monthly_charges  total_charges\n",
       "0707-HOVVN  0.686869         0.580710       0.657682\n",
       "8380-MQINP  0.323232         0.181818       0.181987\n",
       "2307-FYNNL  0.515152         0.898309       0.872947\n",
       "6797-LNAQX  0.686869         0.800304       0.850193\n",
       "8879-XUAHX  0.752525         0.987325       0.995336"
      ]
     },
     "execution_count": 92,
     "metadata": {},
     "output_type": "execute_result"
    }
   ],
   "source": [
    "train_scu.head()"
   ]
  },
  {
   "cell_type": "code",
   "execution_count": 112,
   "metadata": {},
   "outputs": [
    {
     "data": {
      "text/plain": [
       "(['tenure', 'monthly_charges'], array([2.8954156e-150, 0.0000000e+000]))"
      ]
     },
     "execution_count": 112,
     "metadata": {},
     "output_type": "execute_result"
    }
   ],
   "source": [
    "def select_kbest_freg(X_train, y_train, k): #no1 unscaled #no2 scaled()\n",
    "    from sklearn.feature_selection import SelectKBest\n",
    "    from sklearn.feature_selection import f_regression\n",
    "\n",
    "    f_selector = SelectKBest(f_regression, k=2)\n",
    "    f_selector.fit(X_train,y_train)\n",
    "    f_support = f_selector.get_support()\n",
    "\n",
    "    f_feature = X_train.loc[:,f_support].columns.tolist()\n",
    "    \n",
    "    feature_nonscale = f_feature\n",
    "    p_val_nonscale = f_selector.pvalues_\n",
    "    return feature_nonscale, p_val_nonscale\n",
    "\n",
    "feature_nonscale, p_val_nonscale = select_kbest_freg(X_train, y_train, 2) \n",
    "feature_nonscale, p_val_nonscale"
   ]
  },
  {
   "cell_type": "code",
   "execution_count": 114,
   "metadata": {},
   "outputs": [],
   "source": [
    "X_train_scu = train_scu.drop(columns = \"total_charges\")\n",
    "y_train_scu = train_scu[[\"total_charges\"]]\n",
    "\n",
    "X_test_scu = test_scu.drop(columns = \"total_charges\")\n",
    "y_test_scu = test_scu[[\"total_charges\"]]"
   ]
  },
  {
   "cell_type": "code",
   "execution_count": 128,
   "metadata": {},
   "outputs": [
    {
     "data": {
      "text/plain": [
       "(['tenure', 'monthly_charges'], array([6.00594513e-193, 0.00000000e+000]))"
      ]
     },
     "execution_count": 128,
     "metadata": {},
     "output_type": "execute_result"
    }
   ],
   "source": [
    "def select_kbest_freg(X_train_scu, y_train_scu, k): \n",
    "    from sklearn.feature_selection import SelectKBest\n",
    "    from sklearn.feature_selection import f_regression\n",
    "\n",
    "    f_selector = SelectKBest(f_regression, k=2)\n",
    "    f_selector.fit(X_train_scu,y_train_scu)\n",
    "    f_support = f_selector.get_support()\n",
    "\n",
    "    f_feature = X_train_scu.loc[:,f_support].columns.tolist()\n",
    "    feature_scaled = f_feature\n",
    "    p_val_scaled = f_selector.pvalues_\n",
    "    return feature_scaled, p_val_scaled\n",
    "#     print(f_selector.pvalues_)\n",
    "#     print(str(len(f_feature)), 'selected features')\n",
    "#     print(f_feature)\n",
    "\n",
    "feature_scaled, p_val_scaled = select_kbest_freg(X_train_scu, y_train_scu, 2) \n",
    "feature_scaled, p_val_scaled\n",
    "# [2.8954156e-150 0.0000000e+000]\n",
    "# 2 selected features\n",
    "# ['tenure', 'monthly_charges']"
   ]
  },
  {
   "cell_type": "code",
   "execution_count": 113,
   "metadata": {},
   "outputs": [
    {
     "data": {
      "text/html": [
       "<div>\n",
       "<style scoped>\n",
       "    .dataframe tbody tr th:only-of-type {\n",
       "        vertical-align: middle;\n",
       "    }\n",
       "\n",
       "    .dataframe tbody tr th {\n",
       "        vertical-align: top;\n",
       "    }\n",
       "\n",
       "    .dataframe thead th {\n",
       "        text-align: right;\n",
       "    }\n",
       "</style>\n",
       "<table border=\"1\" class=\"dataframe\">\n",
       "  <thead>\n",
       "    <tr style=\"text-align: right;\">\n",
       "      <th></th>\n",
       "      <th>un_scaled</th>\n",
       "      <th>scaled</th>\n",
       "    </tr>\n",
       "    <tr>\n",
       "      <th>metric</th>\n",
       "      <th></th>\n",
       "      <th></th>\n",
       "    </tr>\n",
       "  </thead>\n",
       "  <tbody>\n",
       "    <tr>\n",
       "      <th>1st Feature</th>\n",
       "      <td>tenure</td>\n",
       "      <td>tenure</td>\n",
       "    </tr>\n",
       "    <tr>\n",
       "      <th>1st p-value</th>\n",
       "      <td>2.895415602153489e-150</td>\n",
       "      <td>6.005945129485199e-193</td>\n",
       "    </tr>\n",
       "    <tr>\n",
       "      <th>2nd Feature</th>\n",
       "      <td>monthly_charges</td>\n",
       "      <td>monthly_charges</td>\n",
       "    </tr>\n",
       "    <tr>\n",
       "      <th>2nd p-value</th>\n",
       "      <td>0.0</td>\n",
       "      <td>0.0</td>\n",
       "    </tr>\n",
       "  </tbody>\n",
       "</table>\n",
       "</div>"
      ],
      "text/plain": [
       "                          un_scaled                  scaled\n",
       "metric                                                     \n",
       "1st Feature                  tenure                  tenure\n",
       "1st p-value  2.895415602153489e-150  6.005945129485199e-193\n",
       "2nd Feature         monthly_charges         monthly_charges\n",
       "2nd p-value                     0.0                     0.0"
      ]
     },
     "execution_count": 113,
     "metadata": {},
     "output_type": "execute_result"
    }
   ],
   "source": [
    "#     df_eval = pd.DataFrame(np.array(['SSE','MSE','RMSE']), columns=['metric'])\n",
    "#     df_eval['model_error'] = np.array([SSE, MSE, RMSE])\n",
    "\n",
    "present_kbest = pd.DataFrame(np.array([\"1st Feature\", \"1st p-value\", \"2nd Feature\", \"2nd p-value\"]), columns=['metric']).set_index(\"metric\")\n",
    "\n",
    "present_kbest[\"un_scaled\"] = np.array([feature_nonscale[0], p_val_nonscale[0], feature_nonscale[1], p_val_nonscale[1]])\n",
    "\n",
    "present_kbest['scaled'] = np.array([feature_scaled[0], p_val_scaled[0], feature_scaled[1], p_val_scaled[1]])\n",
    "\n",
    "present_kbest"
   ]
  },
  {
   "cell_type": "markdown",
   "metadata": {},
   "source": [
    "Write a function, ols_backware_elimination() that takes X_train and y_train (scaled) as input and returns selected features based on the ols backwards elimination method.\n",
    "Write a function, lasso_cv_coef() that takes X_train and y_train as input and returns the coefficients for each feature, along with a plot of the features and their weights.\n",
    "Write 3 functions, the first computes the number of optimum features (n) using rfe, the second takes n as input and returns the top n features, and the third takes the list of the top n features as input and returns a new X_train and X_test dataframe with those top features , recursive_feature_elimination() that computes the optimum number of features (n) and returns the top n features."
   ]
  },
  {
   "cell_type": "code",
   "execution_count": null,
   "metadata": {},
   "outputs": [],
   "source": [
    "def ols_backware_elimination(X_train, y_train (scaled)):\n",
    "    return selected features based on the ols backwards elimination method"
   ]
  },
  {
   "cell_type": "code",
   "execution_count": null,
   "metadata": {},
   "outputs": [],
   "source": [
    "def lasso_cv_coef(X_train, y_train): \n",
    "    plot(features & their weights)\n",
    "    return the coefficients for each feature, "
   ]
  },
  {
   "cell_type": "code",
   "execution_count": null,
   "metadata": {},
   "outputs": [],
   "source": [
    "def #computes the number of optimum features (n) using rfe:\n",
    "\n",
    "def (input = computes the number of optimum features, n):\n",
    "    return top n features\n",
    "\n",
    "def (list of the top n features)\n",
    "    return new X_train new X_test dataframe: with those top features \n",
    "\n",
    "# FINAL\n",
    "def recursive_feature_elimination() \n",
    "# computes the optimum number of features (n) \n",
    "# returns the top n features."
   ]
  },
  {
   "cell_type": "code",
   "execution_count": null,
   "metadata": {},
   "outputs": [],
   "source": [
    "from sklearn.linear_model import LinearRegression\n",
    "from sklearn.feature_selection import RFE\n",
    "\n",
    "model = LinearRegression()\n",
    "\n",
    "#Initializing RFE model, with parameter to select top 2 features. \n",
    "rfe = RFE(model, 2)\n",
    "\n",
    "#Transforming data using RFE\n",
    "X_rfe = rfe.fit_transform(X_train,y_train)  \n",
    "\n",
    "#Fitting the data to model\n",
    "model.fit(X_rfe,y_train)\n",
    "\n",
    "print(rfe.support_)\n",
    "print(rfe.ranking_)"
   ]
  },
  {
   "cell_type": "code",
   "execution_count": null,
   "metadata": {},
   "outputs": [],
   "source": [
    "number_of_features_list=np.arange(1,3)\n",
    "high_score=0\n",
    "\n",
    "#Variable to store the optimum features\n",
    "number_of_features=0           \n",
    "score_list =[]\n",
    "\n",
    "for n in range(len(number_of_features_list)):\n",
    "    model = LinearRegression()\n",
    "    rfe = RFE(model,number_of_features_list[n])\n",
    "    X_train_rfe = rfe.fit_transform(X_train,y_train)\n",
    "    X_test_rfe = rfe.transform(X_test)\n",
    "    model.fit(X_train_rfe,y_train)\n",
    "    score = model.score(X_test_rfe,y_test)\n",
    "    score_list.append(score)\n",
    "    if(score>high_score):\n",
    "        high_score = score\n",
    "        number_of_features = number_of_features_list[n]\n",
    "\n",
    "print(\"Optimum number of features: %d\" %number_of_features)\n",
    "print(\"Score with %d features: %f\" % (number_of_features, high_score))\n",
    "\n",
    "# output \n",
    "# Optimum number of features: 2\n",
    "# Score with 2 features: 0.965926"
   ]
  },
  {
   "cell_type": "code",
   "execution_count": null,
   "metadata": {},
   "outputs": [],
   "source": [
    "cols = list(X_train.columns)\n",
    "model = LinearRegression()\n",
    "\n",
    "#Initializing RFE model\n",
    "rfe = RFE(model, 2)\n",
    "\n",
    "#Transforming data using RFE\n",
    "X_rfe = rfe.fit_transform(X_train,y_train)  \n",
    "\n",
    "#Fitting the data to model\n",
    "model.fit(X_rfe,y_train)\n",
    "temp = pd.Series(rfe.support_,index = cols)\n",
    "selected_features_rfe = temp[temp==True].index\n",
    "\n",
    "print(selected_features_rfe)\n",
    "\n",
    "# output\n",
    "# Index(['exam1', 'exam3'], dtype='object')"
   ]
  }
 ],
 "metadata": {
  "kernelspec": {
   "display_name": "Python 3",
   "language": "python",
   "name": "python3"
  },
  "language_info": {
   "codemirror_mode": {
    "name": "ipython",
    "version": 3
   },
   "file_extension": ".py",
   "mimetype": "text/x-python",
   "name": "python",
   "nbconvert_exporter": "python",
   "pygments_lexer": "ipython3",
   "version": "3.7.3"
  },
  "toc": {
   "base_numbering": 1,
   "nav_menu": {},
   "number_sections": true,
   "sideBar": true,
   "skip_h1_title": false,
   "title_cell": "Table of Contents",
   "title_sidebar": "Contents",
   "toc_cell": false,
   "toc_position": {},
   "toc_section_display": true,
   "toc_window_display": false
  },
  "varInspector": {
   "cols": {
    "lenName": 16,
    "lenType": 16,
    "lenVar": 40
   },
   "kernels_config": {
    "python": {
     "delete_cmd_postfix": "",
     "delete_cmd_prefix": "del ",
     "library": "var_list.py",
     "varRefreshCmd": "print(var_dic_list())"
    },
    "r": {
     "delete_cmd_postfix": ") ",
     "delete_cmd_prefix": "rm(",
     "library": "var_list.r",
     "varRefreshCmd": "cat(var_dic_list()) "
    }
   },
   "types_to_exclude": [
    "module",
    "function",
    "builtin_function_or_method",
    "instance",
    "_Feature"
   ],
   "window_display": false
  }
 },
 "nbformat": 4,
 "nbformat_minor": 2
}
