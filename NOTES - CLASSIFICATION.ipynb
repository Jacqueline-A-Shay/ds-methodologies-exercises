{
 "cells": [
  {
   "cell_type": "markdown",
   "metadata": {},
   "source": [
    "1. Logistic Regression (sklearn.linear_model.LogisticRegression)\n",
    "2. Decision Tree (sklearn.tree.DecisionTreeClassifier)\n",
    "3. Naive Bayes (sklearn.naive_bayes.BernoulliNB)\n",
    "4. K-Nearest Neighbors (sklearn.neighbors.KNeighborsClassifier)\n",
    "5. Random Forest (sklearn.ensemble.RandomForestClassifier)\n",
    "6. Support Vector Machine (sklearn.svm.SVC)\n",
    "7. Stochastic Gradient Descent (sklearn.linear_model.SGDClassifier)\n",
    "8. AdaBoost (sklearn.ensemble.AdaBoostClassifier)\n",
    "9. Bagging (sklearn.ensemble.BaggingClassifier)\n",
    "10. Gradient Boosting (sklearn.ensemble.GradientBoostingClassifier)"
   ]
  },
  {
   "cell_type": "markdown",
   "metadata": {},
   "source": [
    "6. vectors > parameters"
   ]
  },
  {
   "cell_type": "markdown",
   "metadata": {},
   "source": [
    "Naive Bayes - imbalance class\n",
    "Ex: \n",
    "P(fish) = 0.001%\n",
    "P(f/certain_domain_email) = 90%\n",
    "boost classifier when using naive bayes\n",
    "\n",
    "random forest \n",
    "knearest have all trianing, find which class is closest using given\n",
    "svm find separation plane, based on features\n",
    "naive bayes, prob of something, same prob in certain scenario"
   ]
  },
  {
   "cell_type": "markdown",
   "metadata": {},
   "source": [
    "**Acquire**\n",
    "Data prep > data conversion ex: from cat to num\n",
    "csv stored in aws > aws s3\n",
    "\n",
    "pd.read_clipboard() # convert the copied data into dataframe (seroiusly, right click copy copy) can use sep = ' ' to process the data ex: if data looks like 123,apple,unit\n",
    "supposed to be 3 columns can do pd.read_clipboard(sep = ',') to break into 123 apple unit\n",
    "help(#key in function you needing help with)\n",
    "\n",
    "when getting data from g-excel\n",
    "copy link\n",
    "sheet_url = \"  \"\n",
    "csv_export_url = sheet_url.replace('/dit#gid=', #總之需要變更 詳見codeup筆記）\n",
    "\n",
    "\n"
   ]
  },
  {
   "cell_type": "markdown",
   "metadata": {},
   "source": []
  }
 ],
 "metadata": {
  "kernelspec": {
   "display_name": "Python 3",
   "language": "python",
   "name": "python3"
  },
  "language_info": {
   "codemirror_mode": {
    "name": "ipython",
    "version": 3
   },
   "file_extension": ".py",
   "mimetype": "text/x-python",
   "name": "python",
   "nbconvert_exporter": "python",
   "pygments_lexer": "ipython3",
   "version": "3.7.3"
  },
  "toc": {
   "base_numbering": 1,
   "nav_menu": {},
   "number_sections": true,
   "sideBar": true,
   "skip_h1_title": false,
   "title_cell": "Table of Contents",
   "title_sidebar": "Contents",
   "toc_cell": false,
   "toc_position": {},
   "toc_section_display": true,
   "toc_window_display": false
  },
  "varInspector": {
   "cols": {
    "lenName": 16,
    "lenType": 16,
    "lenVar": 40
   },
   "kernels_config": {
    "python": {
     "delete_cmd_postfix": "",
     "delete_cmd_prefix": "del ",
     "library": "var_list.py",
     "varRefreshCmd": "print(var_dic_list())"
    },
    "r": {
     "delete_cmd_postfix": ") ",
     "delete_cmd_prefix": "rm(",
     "library": "var_list.r",
     "varRefreshCmd": "cat(var_dic_list()) "
    }
   },
   "types_to_exclude": [
    "module",
    "function",
    "builtin_function_or_method",
    "instance",
    "_Feature"
   ],
   "window_display": false
  }
 },
 "nbformat": 4,
 "nbformat_minor": 2
}
