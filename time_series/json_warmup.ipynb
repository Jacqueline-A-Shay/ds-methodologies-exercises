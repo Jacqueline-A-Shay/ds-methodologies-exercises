{
 "cells": [
  {
   "cell_type": "code",
   "execution_count": 58,
   "metadata": {},
   "outputs": [
    {
     "name": "stdout",
     "output_type": "stream",
     "text": [
      "{'Floor': 6,\n",
      " 'Instructors': [{'favoriteLanguages': ['python', 'clojure'], 'name': 'Ryan'},\n",
      "                 {'favoriteLanguages': ['python', 'R', 'java'],\n",
      "                  'name': 'Maggie'},\n",
      "                 {'favoriteLanguages': ['python', 'matlab'], 'name': 'David'},\n",
      "                 {'favoriteLanguages': ['python', 'bash'], 'name': 'Zach'}],\n",
      " 'Location': 'Blanco',\n",
      " 'Students': [{'examGrades': [62, 85, 80], 'name': 'Sally'},\n",
      "              {'examGrades': [88, 79, 67], 'name': 'Jane'},\n",
      "              {'examGrades': [94, 74, 95], 'name': 'Suzie'},\n",
      "              {'examGrades': [98, 96, 88], 'name': 'Billy'},\n",
      "              {'examGrades': [77, 92, 98], 'name': 'Ada'},\n",
      "              {'examGrades': [79, 76, 93], 'name': 'John'},\n",
      "              {'examGrades': [82, 64, 81], 'name': 'Thomas'},\n",
      "              {'examGrades': [93, 63, 90], 'name': 'Marie'},\n",
      "              {'examGrades': [92, 62, 87], 'name': 'Albert'},\n",
      "              {'examGrades': [69, 80, 94], 'name': 'Richard'},\n",
      "              {'examGrades': [92, 99, 93], 'name': 'Isaac'},\n",
      "              {'examGrades': [92, 62, 72], 'name': 'Alan'}],\n",
      " 'isActive': True}\n"
     ]
    }
   ],
   "source": [
    "from pprint import pprint\n",
    "import json\n",
    "\n",
    "with open('./bayes.json') as f:\n",
    "    bayes = json.load(f)\n",
    "\n",
    "pprint(bayes)"
   ]
  },
  {
   "cell_type": "code",
   "execution_count": null,
   "metadata": {},
   "outputs": [],
   "source": [
    "# Print out a message that gives the location of the class using the location and the floor properties."
   ]
  },
  {
   "cell_type": "code",
   "execution_count": 7,
   "metadata": {},
   "outputs": [
    {
     "name": "stdout",
     "output_type": "stream",
     "text": [
      "6\n",
      "Blanco\n"
     ]
    }
   ],
   "source": [
    "print(bayes['Floor'])\n",
    "print(bayes['Location'])"
   ]
  },
  {
   "cell_type": "code",
   "execution_count": 62,
   "metadata": {},
   "outputs": [
    {
     "name": "stdout",
     "output_type": "stream",
     "text": [
      "Cohort Active!\n"
     ]
    }
   ],
   "source": [
    "# If the class is active, print a message that says so.\n",
    "if bayes['isActive']:\n",
    "    print('Cohort Active!')"
   ]
  },
  {
   "cell_type": "code",
   "execution_count": 63,
   "metadata": {},
   "outputs": [
    {
     "name": "stdout",
     "output_type": "stream",
     "text": [
      "4\n"
     ]
    }
   ],
   "source": [
    "# Print out the number of students and number of instructors.\n",
    "n_instructor = len(bayes['Instructors'])\n",
    "print(n_instructor)"
   ]
  },
  {
   "cell_type": "code",
   "execution_count": null,
   "metadata": {},
   "outputs": [],
   "source": [
    "# Print out the name of the instructor that has the most favorite languages."
   ]
  },
  {
   "cell_type": "code",
   "execution_count": 31,
   "metadata": {},
   "outputs": [
    {
     "name": "stdout",
     "output_type": "stream",
     "text": [
      "python\n",
      "clojure\n"
     ]
    }
   ],
   "source": [
    "for k in bayes['Instructors'][0]['favoriteLanguages']:\n",
    "    print(k)"
   ]
  },
  {
   "cell_type": "code",
   "execution_count": 65,
   "metadata": {},
   "outputs": [
    {
     "name": "stdout",
     "output_type": "stream",
     "text": [
      "['python', 'clojure']\n",
      "['python', 'R', 'java']\n",
      "['python', 'matlab']\n",
      "['python', 'bash']\n"
     ]
    }
   ],
   "source": [
    "for k in bayes['Instructors']:\n",
    "    fav_lan = ([(l) for l in (k['favoriteLanguages'])])\n",
    "    print (fav_lan)\n"
   ]
  },
  {
   "cell_type": "code",
   "execution_count": 69,
   "metadata": {},
   "outputs": [
    {
     "name": "stdout",
     "output_type": "stream",
     "text": [
      "{'name': 'Ryan', 'favoriteLanguages': ['python', 'clojure']}\n",
      "{'name': 'Maggie', 'favoriteLanguages': ['python', 'R', 'java']}\n",
      "{'name': 'David', 'favoriteLanguages': ['python', 'matlab']}\n",
      "{'name': 'Zach', 'favoriteLanguages': ['python', 'bash']}\n"
     ]
    }
   ],
   "source": [
    "instructors = bayes['Instructors']\n",
    "for instructor in instructors:\n",
    "    print(instructor)"
   ]
  },
  {
   "cell_type": "code",
   "execution_count": 70,
   "metadata": {},
   "outputs": [
    {
     "data": {
      "text/html": [
       "<div>\n",
       "<style scoped>\n",
       "    .dataframe tbody tr th:only-of-type {\n",
       "        vertical-align: middle;\n",
       "    }\n",
       "\n",
       "    .dataframe tbody tr th {\n",
       "        vertical-align: top;\n",
       "    }\n",
       "\n",
       "    .dataframe thead th {\n",
       "        text-align: right;\n",
       "    }\n",
       "</style>\n",
       "<table border=\"1\" class=\"dataframe\">\n",
       "  <thead>\n",
       "    <tr style=\"text-align: right;\">\n",
       "      <th></th>\n",
       "      <th>examGrades</th>\n",
       "      <th>name</th>\n",
       "      <th>0</th>\n",
       "      <th>1</th>\n",
       "      <th>2</th>\n",
       "    </tr>\n",
       "  </thead>\n",
       "  <tbody>\n",
       "    <tr>\n",
       "      <th>0</th>\n",
       "      <td>[62, 85, 80]</td>\n",
       "      <td>Sally</td>\n",
       "      <td>62</td>\n",
       "      <td>85</td>\n",
       "      <td>80</td>\n",
       "    </tr>\n",
       "    <tr>\n",
       "      <th>1</th>\n",
       "      <td>[88, 79, 67]</td>\n",
       "      <td>Jane</td>\n",
       "      <td>88</td>\n",
       "      <td>79</td>\n",
       "      <td>67</td>\n",
       "    </tr>\n",
       "    <tr>\n",
       "      <th>2</th>\n",
       "      <td>[94, 74, 95]</td>\n",
       "      <td>Suzie</td>\n",
       "      <td>94</td>\n",
       "      <td>74</td>\n",
       "      <td>95</td>\n",
       "    </tr>\n",
       "    <tr>\n",
       "      <th>3</th>\n",
       "      <td>[98, 96, 88]</td>\n",
       "      <td>Billy</td>\n",
       "      <td>98</td>\n",
       "      <td>96</td>\n",
       "      <td>88</td>\n",
       "    </tr>\n",
       "    <tr>\n",
       "      <th>4</th>\n",
       "      <td>[77, 92, 98]</td>\n",
       "      <td>Ada</td>\n",
       "      <td>77</td>\n",
       "      <td>92</td>\n",
       "      <td>98</td>\n",
       "    </tr>\n",
       "    <tr>\n",
       "      <th>5</th>\n",
       "      <td>[79, 76, 93]</td>\n",
       "      <td>John</td>\n",
       "      <td>79</td>\n",
       "      <td>76</td>\n",
       "      <td>93</td>\n",
       "    </tr>\n",
       "    <tr>\n",
       "      <th>6</th>\n",
       "      <td>[82, 64, 81]</td>\n",
       "      <td>Thomas</td>\n",
       "      <td>82</td>\n",
       "      <td>64</td>\n",
       "      <td>81</td>\n",
       "    </tr>\n",
       "    <tr>\n",
       "      <th>7</th>\n",
       "      <td>[93, 63, 90]</td>\n",
       "      <td>Marie</td>\n",
       "      <td>93</td>\n",
       "      <td>63</td>\n",
       "      <td>90</td>\n",
       "    </tr>\n",
       "    <tr>\n",
       "      <th>8</th>\n",
       "      <td>[92, 62, 87]</td>\n",
       "      <td>Albert</td>\n",
       "      <td>92</td>\n",
       "      <td>62</td>\n",
       "      <td>87</td>\n",
       "    </tr>\n",
       "    <tr>\n",
       "      <th>9</th>\n",
       "      <td>[69, 80, 94]</td>\n",
       "      <td>Richard</td>\n",
       "      <td>69</td>\n",
       "      <td>80</td>\n",
       "      <td>94</td>\n",
       "    </tr>\n",
       "    <tr>\n",
       "      <th>10</th>\n",
       "      <td>[92, 99, 93]</td>\n",
       "      <td>Isaac</td>\n",
       "      <td>92</td>\n",
       "      <td>99</td>\n",
       "      <td>93</td>\n",
       "    </tr>\n",
       "    <tr>\n",
       "      <th>11</th>\n",
       "      <td>[92, 62, 72]</td>\n",
       "      <td>Alan</td>\n",
       "      <td>92</td>\n",
       "      <td>62</td>\n",
       "      <td>72</td>\n",
       "    </tr>\n",
       "  </tbody>\n",
       "</table>\n",
       "</div>"
      ],
      "text/plain": [
       "      examGrades     name   0   1   2\n",
       "0   [62, 85, 80]    Sally  62  85  80\n",
       "1   [88, 79, 67]     Jane  88  79  67\n",
       "2   [94, 74, 95]    Suzie  94  74  95\n",
       "3   [98, 96, 88]    Billy  98  96  88\n",
       "4   [77, 92, 98]      Ada  77  92  98\n",
       "5   [79, 76, 93]     John  79  76  93\n",
       "6   [82, 64, 81]   Thomas  82  64  81\n",
       "7   [93, 63, 90]    Marie  93  63  90\n",
       "8   [92, 62, 87]   Albert  92  62  87\n",
       "9   [69, 80, 94]  Richard  69  80  94\n",
       "10  [92, 99, 93]    Isaac  92  99  93\n",
       "11  [92, 62, 72]     Alan  92  62  72"
      ]
     },
     "execution_count": 70,
     "metadata": {},
     "output_type": "execute_result"
    }
   ],
   "source": [
    "#Import pandas and create a dataframe from the student data. What do you notice?\n",
    "import pandas as pd\n",
    "df = pd.DataFrame(bayes['Students'])\n",
    "grades = df.examGrades.apply(pd.Series)\n",
    "df.join(grades)"
   ]
  },
  {
   "cell_type": "code",
   "execution_count": 34,
   "metadata": {},
   "outputs": [
    {
     "data": {
      "text/plain": [
       "{'Floor': 6,\n",
       " 'Instructors': [{'name': 'Ryan', 'favoriteLanguages': ['python', 'clojure']},\n",
       "  {'name': 'Maggie', 'favoriteLanguages': ['python', 'R', 'java']},\n",
       "  {'name': 'David', 'favoriteLanguages': ['python', 'matlab']},\n",
       "  {'name': 'Zach', 'favoriteLanguages': ['python', 'bash']}],\n",
       " 'Location': 'Blanco',\n",
       " 'Students': [{'name': 'Sally', 'examGrades': [62, 85, 80]},\n",
       "  {'name': 'Jane', 'examGrades': [88, 79, 67]},\n",
       "  {'name': 'Suzie', 'examGrades': [94, 74, 95]},\n",
       "  {'name': 'Billy', 'examGrades': [98, 96, 88]},\n",
       "  {'name': 'Ada', 'examGrades': [77, 92, 98]},\n",
       "  {'name': 'John', 'examGrades': [79, 76, 93]},\n",
       "  {'name': 'Thomas', 'examGrades': [82, 64, 81]},\n",
       "  {'name': 'Marie', 'examGrades': [93, 63, 90]},\n",
       "  {'name': 'Albert', 'examGrades': [92, 62, 87]},\n",
       "  {'name': 'Richard', 'examGrades': [69, 80, 94]},\n",
       "  {'name': 'Isaac', 'examGrades': [92, 99, 93]},\n",
       "  {'name': 'Alan', 'examGrades': [92, 62, 72]}],\n",
       " 'isActive': True}"
      ]
     },
     "execution_count": 34,
     "metadata": {},
     "output_type": "execute_result"
    }
   ],
   "source": [
    "bayes"
   ]
  },
  {
   "cell_type": "code",
   "execution_count": null,
   "metadata": {},
   "outputs": [],
   "source": []
  }
 ],
 "metadata": {
  "kernelspec": {
   "display_name": "Python 3",
   "language": "python",
   "name": "python3"
  },
  "language_info": {
   "codemirror_mode": {
    "name": "ipython",
    "version": 3
   },
   "file_extension": ".py",
   "mimetype": "text/x-python",
   "name": "python",
   "nbconvert_exporter": "python",
   "pygments_lexer": "ipython3",
   "version": "3.7.3"
  },
  "toc": {
   "base_numbering": 1,
   "nav_menu": {},
   "number_sections": true,
   "sideBar": true,
   "skip_h1_title": false,
   "title_cell": "Table of Contents",
   "title_sidebar": "Contents",
   "toc_cell": false,
   "toc_position": {},
   "toc_section_display": true,
   "toc_window_display": false
  },
  "varInspector": {
   "cols": {
    "lenName": 16,
    "lenType": 16,
    "lenVar": 40
   },
   "kernels_config": {
    "python": {
     "delete_cmd_postfix": "",
     "delete_cmd_prefix": "del ",
     "library": "var_list.py",
     "varRefreshCmd": "print(var_dic_list())"
    },
    "r": {
     "delete_cmd_postfix": ") ",
     "delete_cmd_prefix": "rm(",
     "library": "var_list.r",
     "varRefreshCmd": "cat(var_dic_list()) "
    }
   },
   "types_to_exclude": [
    "module",
    "function",
    "builtin_function_or_method",
    "instance",
    "_Feature"
   ],
   "window_display": false
  }
 },
 "nbformat": 4,
 "nbformat_minor": 2
}
