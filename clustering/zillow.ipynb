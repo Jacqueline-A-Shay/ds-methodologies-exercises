{
 "cells": [
  {
   "cell_type": "code",
   "execution_count": 1,
   "metadata": {},
   "outputs": [],
   "source": [
    "import env\n",
    "import acquire\n",
    "import numpy as np\n",
    "import pandas as pd"
   ]
  },
  {
   "cell_type": "markdown",
   "metadata": {},
   "source": [
    "Acquire data from mySQL using the python module to connect and query. \n",
    "**Objective: create acquire.py**\n",
    "\n",
    "- single dataframe\n",
    "\n",
    "- content requirements:\n",
    "> logerror\n",
    ">\n",
    "> all fields\n",
    ">\n",
    "> airconditioningtypeid\n",
    ">\n",
    "> all properties having transaction in 2017, \n",
    ">\n",
    "> include only the last transaction for each properity = no duplicate property id's\n",
    ">\n",
    "> zestimate error \n",
    ">\n",
    "> date of transaction\n",
    "> \n",
    "> only include properties that include a latitude and longitude value"
   ]
  },
  {
   "cell_type": "code",
   "execution_count": 2,
   "metadata": {},
   "outputs": [],
   "source": [
    "df = acquire.get_data_from_mysql()\n",
    "df = acquire.basic_clean(df)"
   ]
  },
  {
   "cell_type": "code",
   "execution_count": 4,
   "metadata": {},
   "outputs": [
    {
     "name": "stdout",
     "output_type": "stream",
     "text": [
      "<class 'pandas.core.frame.DataFrame'>\n",
      "Int64Index: 77381 entries, 17052889 to 14447871\n",
      "Data columns (total 64 columns):\n",
      "county                          77381 non-null object\n",
      "state                           77381 non-null object\n",
      "logerror                        77381 non-null float64\n",
      "transactiondate                 77381 non-null object\n",
      "id                              77381 non-null int64\n",
      "basementsqft                    50 non-null float64\n",
      "bathroomcnt                     77381 non-null float64\n",
      "bedroomcnt                      77381 non-null float64\n",
      "buildingqualitytypeid           49672 non-null float64\n",
      "calculatedbathnbr               76772 non-null float64\n",
      "decktypeid                      614 non-null float64\n",
      "finishedfloor1squarefeet        6023 non-null float64\n",
      "calculatedfinishedsquarefeet    77185 non-null float64\n",
      "finishedsquarefeet12            73749 non-null float64\n",
      "finishedsquarefeet13            41 non-null float64\n",
      "finishedsquarefeet15            3009 non-null float64\n",
      "finishedsquarefeet50            6023 non-null float64\n",
      "finishedsquarefeet6             386 non-null float64\n",
      "fips                            77381 non-null float64\n",
      "fireplacecnt                    8276 non-null float64\n",
      "fullbathcnt                     76772 non-null float64\n",
      "garagecarcnt                    25474 non-null float64\n",
      "garagetotalsqft                 25474 non-null float64\n",
      "hashottuborspa                  1538 non-null float64\n",
      "latitude                        77381 non-null float64\n",
      "longitude                       77381 non-null float64\n",
      "lotsizesquarefeet               69142 non-null float64\n",
      "poolcnt                         16137 non-null float64\n",
      "poolsizesum                     867 non-null float64\n",
      "pooltypeid10                    464 non-null float64\n",
      "pooltypeid2                     1074 non-null float64\n",
      "pooltypeid7                     15042 non-null float64\n",
      "propertycountylandusecode       77381 non-null object\n",
      "propertylandusetypeid           77381 non-null float64\n",
      "propertyzoningdesc              50331 non-null object\n",
      "rawcensustractandblock          77381 non-null float64\n",
      "regionidcity                    75910 non-null float64\n",
      "regionidcounty                  77381 non-null float64\n",
      "regionidneighborhood            30890 non-null float64\n",
      "regionidzip                     77331 non-null float64\n",
      "roomcnt                         77381 non-null float64\n",
      "storytypeid                     50 non-null float64\n",
      "threequarterbathnbr             10096 non-null float64\n",
      "unitcnt                         50563 non-null float64\n",
      "yardbuildingsqft17              2388 non-null float64\n",
      "yardbuildingsqft26              70 non-null float64\n",
      "yearbuilt                       77118 non-null float64\n",
      "numberofstories                 17560 non-null float64\n",
      "fireplaceflag                   172 non-null float64\n",
      "structuretaxvaluedollarcnt      77269 non-null float64\n",
      "taxvaluedollarcnt               77380 non-null float64\n",
      "assessmentyear                  77381 non-null float64\n",
      "landtaxvaluedollarcnt           77379 non-null float64\n",
      "taxamount                       77376 non-null float64\n",
      "taxdelinquencyflag              2886 non-null object\n",
      "taxdelinquencyyear              2886 non-null float64\n",
      "censustractandblock             77137 non-null float64\n",
      "airconditioningdesc             24953 non-null object\n",
      "architecturalstyledesc          206 non-null object\n",
      "buildingclassdesc               15 non-null object\n",
      "heatingorsystemdesc             49440 non-null object\n",
      "propertylandusedesc             77381 non-null object\n",
      "storydesc                       50 non-null object\n",
      "typeconstructiondesc            222 non-null object\n",
      "dtypes: float64(50), int64(1), object(13)\n",
      "memory usage: 38.4+ MB\n"
     ]
    }
   ],
   "source": [
    "df.info()"
   ]
  },
  {
   "cell_type": "markdown",
   "metadata": {},
   "source": [
    "Summarize data (summary stats, info, dtypes, shape, distributions, value_counts, etc.)"
   ]
  },
  {
   "cell_type": "code",
   "execution_count": 20,
   "metadata": {},
   "outputs": [],
   "source": [
    "def nulls_by_col(df):\n",
    "    num_missing = df.isnull().sum()\n",
    "    rows = df.shape[0]\n",
    "    pct_missing = num_missing/rows\n",
    "    cols_missing = pd.DataFrame({'num_rows_missing': num_missing, 'pct_rows_missing': pct_missing}).sort_values(by = 'pct_rows_missing', ascending = False)\n",
    "    return cols_missing"
   ]
  },
  {
   "cell_type": "code",
   "execution_count": 24,
   "metadata": {},
   "outputs": [],
   "source": [
    "def nulls_by_row(df):\n",
    "    num_cols_missing = df.isnull().sum(axis=1)\n",
    "    pct_cols_missing = df.isnull().sum(axis=1)/df.shape[1]*100\n",
    "    rows_missing = pd.DataFrame({'num_cols_missing': num_cols_missing,\\\n",
    "                                 'pct_cols_missing': pct_cols_missing})\\\n",
    "                                .reset_index()\\\n",
    "                                .groupby(['num_cols_missing','pct_cols_missing'])\\\n",
    "                                .count()\\\n",
    "                                .rename(index=str, columns={'index': 'num_rows'}).reset_index()\n",
    "    return rows_missing"
   ]
  },
  {
   "cell_type": "code",
   "execution_count": 3,
   "metadata": {},
   "outputs": [],
   "source": [
    "def df_value_counts(df):\n",
    "    counts = pd.Series([])\n",
    "    for i, col in enumerate(df.columns.values):\n",
    "        if df[col].dtype == 'object':\n",
    "            col_count = df[col].value_counts()\n",
    "        else:\n",
    "            col_count = df[col].value_counts(bins=10, sort=False)\n",
    "        counts = counts.append(col_count)\n",
    "    return counts\n",
    "\n",
    "\n",
    "def sam_df_value_counts(df):\n",
    "    for col in df.columns:\n",
    "        print(f'{col}:')\n",
    "        if df[col].dtype == 'object':\n",
    "            col_count = df[col].value_counts()\n",
    "        else:\n",
    "            if df[col].nunique() >= 35:\n",
    "                col_count = df[col].value_counts(bins=10, sort=False)\n",
    "            else:\n",
    "                col_count = df[col].value_counts()\n",
    "        print(col_count)"
   ]
  },
  {
   "cell_type": "markdown",
   "metadata": {},
   "source": [
    "- Keep only single unit properties. (e.g. no duplexes, no land/lot, ...)\n",
    "> not only filter unitcnt\n",
    ">\n",
    "> consider logics like: bed#, sqft, unit type...etc.\n",
    ">\n",
    "> identify those with unitcnt not defined"
   ]
  },
  {
   "cell_type": "markdown",
   "metadata": {},
   "source": [
    "create a function that will drop rows or columns based on the percent of values that are missing: handle_missing_values(df, prop_required_column, prop_required_row).\n",
    "\n",
    "The input:\n",
    "a dataframe\n",
    "a number between 0 and 1 that represents the proportion, for each column, of rows with non-missing values required to keep the column. i.e. if prop_required_column = .6, then you are requiring a column to have at least 60% of values not-NA (no more than 40% missing)\n",
    "a number between 0 and 1 that represents the proportion, for each row, of columns/variables with non-missing values required to keep the row. i.e. if prop_required_row = .75, then you are requiring a row to have at least 75% of variables with a non-missing value (no more that 25% missing)\n",
    "The output:\n",
    "the dataframe with the columns and rows dropped as indicated. Be sure to drop the columns prior to the rows in your function.\n",
    "hint:\n",
    "look up the dropna documentation\n",
    "you will want to compute a threshold from your input values (prop_required) and total number of rows or columns\n",
    "make use of inplace"
   ]
  }
 ],
 "metadata": {
  "kernelspec": {
   "display_name": "Python 3",
   "language": "python",
   "name": "python3"
  },
  "language_info": {
   "codemirror_mode": {
    "name": "ipython",
    "version": 3
   },
   "file_extension": ".py",
   "mimetype": "text/x-python",
   "name": "python",
   "nbconvert_exporter": "python",
   "pygments_lexer": "ipython3",
   "version": "3.7.3"
  },
  "toc": {
   "base_numbering": 1,
   "nav_menu": {},
   "number_sections": true,
   "sideBar": true,
   "skip_h1_title": false,
   "title_cell": "Table of Contents",
   "title_sidebar": "Contents",
   "toc_cell": false,
   "toc_position": {},
   "toc_section_display": true,
   "toc_window_display": false
  },
  "varInspector": {
   "cols": {
    "lenName": 16,
    "lenType": 16,
    "lenVar": 40
   },
   "kernels_config": {
    "python": {
     "delete_cmd_postfix": "",
     "delete_cmd_prefix": "del ",
     "library": "var_list.py",
     "varRefreshCmd": "print(var_dic_list())"
    },
    "r": {
     "delete_cmd_postfix": ") ",
     "delete_cmd_prefix": "rm(",
     "library": "var_list.r",
     "varRefreshCmd": "cat(var_dic_list()) "
    }
   },
   "types_to_exclude": [
    "module",
    "function",
    "builtin_function_or_method",
    "instance",
    "_Feature"
   ],
   "window_display": false
  }
 },
 "nbformat": 4,
 "nbformat_minor": 2
}
