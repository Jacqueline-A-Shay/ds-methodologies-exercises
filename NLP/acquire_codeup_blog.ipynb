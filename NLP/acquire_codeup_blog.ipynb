{
 "cells": [
  {
   "cell_type": "code",
   "execution_count": 19,
   "metadata": {},
   "outputs": [],
   "source": [
    "from requests import get\n",
    "from bs4 import BeautifulSoup\n",
    "\n",
    "import acquire"
   ]
  },
  {
   "cell_type": "markdown",
   "metadata": {},
   "source": [
    "Codeup Blog Articles\n",
    "\n",
    "Scrape the article text from the following pages:\n",
    "\n",
    "https://codeup.com/codeups-data-science-career-accelerator-is-here/\n",
    "https://codeup.com/data-science-myths/\n",
    "https://codeup.com/data-science-vs-data-analytics-whats-the-difference/\n",
    "https://codeup.com/10-tips-to-crush-it-at-the-sa-tech-job-fair/\n",
    "https://codeup.com/competitor-bootcamps-are-closing-is-the-model-in-danger/\n",
    "Encapsulate your work in a function named get_blog_articles that will return a list of dictionaries, with each dictionary representing one article. The shape of each dictionary should look like this:\n",
    "\n",
    "{\n",
    "    'title': 'the title of the article',\n",
    "    'content': 'the full text content of the article'\n",
    "}\n",
    "Plus any additional properties you think might be helpful.\n",
    "\n",
    "Bonus:\n",
    "\n",
    "Scrape the text of all the articles linked on codeup's blog page.\n",
    "Bonus Bonus:\n",
    "\n",
    "Starting from the blog homepage, scrape the full text of every article linked on the page, then move on to the next page and keep doing the same thing until you have scraped the entire text of Codeup's blog."
   ]
  },
  {
   "cell_type": "code",
   "execution_count": 67,
   "metadata": {},
   "outputs": [],
   "source": [
    "def get_article(url):\n",
    "    headers = {'User-Agent': 'JQ'} # identify myself \n",
    "    # use get function w/in request pkg to get content\n",
    "    response = get(url, headers = headers) \n",
    "    \n",
    "    soup = BeautifulSoup(response.text)\n",
    "    title = soup.select('h1')[0].get_text()\n",
    "    content = soup.select('body')[0].get_text().strip()\n",
    "    \n",
    "    return {'title':title, 'content':content}"
   ]
  },
  {
   "cell_type": "code",
   "execution_count": 68,
   "metadata": {},
   "outputs": [],
   "source": [
    "def get_blog_articles():\n",
    "    urls = ['https://codeup.com/codeups-data-science-career-accelerator-is-here/',\n",
    "        'https://codeup.com/data-science-myths/',\n",
    "        'https://codeup.com/data-science-vs-data-analytics-whats-the-difference/',\n",
    "        'https://codeup.com/10-tips-to-crush-it-at-the-sa-tech-job-fair/',\n",
    "        'https://codeup.com/competitor-bootcamps-are-closing-is-the-model-in-danger/']\n",
    "    output = []\n",
    "    for url in urls:\n",
    "        output.append(get_article(url))\n",
    "    return output"
   ]
  },
  {
   "cell_type": "code",
   "execution_count": 2,
   "metadata": {
    "scrolled": false
   },
   "outputs": [
    {
     "name": "stderr",
     "output_type": "stream",
     "text": [
      "/Users/lonilanistea/Documents/codeup-data-science/ds-methodologies-exercises/NLP/acquire.py:15: UserWarning: No parser was explicitly specified, so I'm using the best available HTML parser for this system (\"lxml\"). This usually isn't a problem, but if you run this code on another system, or in a different virtual environment, it may use a different parser and behave differently.\n",
      "\n",
      "The code that caused this warning is on line 15 of the file /Users/lonilanistea/Documents/codeup-data-science/ds-methodologies-exercises/NLP/acquire.py. To get rid of this warning, pass the additional argument 'features=\"lxml\"' to the BeautifulSoup constructor.\n",
      "\n",
      "  soup = BeautifulSoup(response.text)\n"
     ]
    }
   ],
   "source": [
    "output = acquire.get_blog_articles()"
   ]
  },
  {
   "cell_type": "code",
   "execution_count": 3,
   "metadata": {
    "scrolled": true
   },
   "outputs": [
    {
     "data": {
      "text/plain": [
       "[{'title': 'Codeup’s Data Science Career Accelerator is Here!',\n",
       "  'content': 'Locations\\n\\nSan Antonio\\nDallas\\n\\n\\nStudents\\n\\nFull Stack Web Development\\nData Science\\nFinancial Options\\nPartnership Benefits\\nFrequently Asked Questions\\n\\n\\nEmployers\\n\\nAlumni\\n\\n\\nEvents\\nBlog\\nAbout\\nContact\\nApply Now\\n \\n\\n\\n\\n\\n\\n\\n \\n\\n\\n\\n\\n\\n\\n\\n\\n\\n\\nLocations\\n\\nSan Antonio\\nDallas\\n\\n\\nStudents\\n\\nFull Stack Web Development\\nData Science\\nFinancial Options\\nPartnership Benefits\\nFrequently Asked Questions\\n\\n\\nEmployers\\n\\nAlumni\\n\\n\\nEvents\\nBlog\\nAbout\\nContact\\nApply Now\\n\\n\\n\\n\\nCodeup’s Data Science Career Accelerator is Here!Home » Codeup’s Data Science Career Accelerator is Here!\\n\\n\\n\\n\\n\\n\\n\\n\\n\\n\\xa0\\n\\nBy Yumi Jeon \\n\\n\\t\\t\\t\\xa0Posted September 30, 2018\\n\\n\\xa0In San Antonio, Uncategorized\\nCodeup’s Data Science Career Accelerator is Here!2018-09-302019-11-15https://tribucodeup.wpengine.com/wp-content/uploads/2018/08/logo.pngCodeuphttps://codeup.com/wp-content/uploads/2018/10/data-science-3-1.jpg200px200px\\n\\n\\n\\n\\n\\n\\n\\n\\n\\n\\n\\n\\n\\n\\n\\nThe rumors are true! The time has arrived. Codeup has officially opened applications to our new Data Science career accelerator, with only 25 seats available! This immersive program is one of a kind in San Antonio, and will help you land a job in\\xa0Glassdoor’s #1 Best Job in America.\\nData Science is a method of providing actionable intelligence from data.\\xa0The data revolution has hit San Antonio,\\xa0resulting in an explosion in Data Scientist positions\\xa0across companies like USAA, Accenture, Booz Allen Hamilton, and HEB. We’ve even seen\\xa0UTSA invest $70 M for a Cybersecurity Center and School of Data Science.\\xa0We built a program to specifically meet the growing demands of this industry.\\nOur program will be 18 weeks long, full-time, hands-on, and project-based. Our curriculum development and instruction is led by Senior Data Scientist, Maggie Giust, who has worked at HEB, Capital Group, and Rackspace, along with input from dozens of practitioners and hiring partners. Students will work with real data sets, realistic problems, and the entire data science pipeline from collection to deployment. They will receive professional development training in resume writing, interviewing, and continuing education to prepare for a smooth transition to the workforce.\\nWe focus on applied data science for immediate impact and ROI in a business, which is how we can back it all up with a 6 month tuition refund guarantee – just like our existing Web Dev program. We’re focusing on Data Science with Python, SQL, and ML, covered in\\xa014 modules: 1) Fundamentals; 2) Applied statistics; 3) SQL; 4) Python; 5) Supervised machine learning – regression; 6) Supervised machine learning – classification; 7) Unsupervised machine learning – clustering; 8) Time series analysis; 9) Anomaly detection; 10) Natural language processing; 11) Distributed machine learning; 12) Advanced topics (deep learning, NoSQL, cloud deployment, etc.); 13) Storytelling with data; and 14) Domain expertise development.\\nApplications are now open\\xa0for Codeup’s first Data Science cohort, which will start class on February 4, 2019. Hurry – there are only 25 seats available! To further our mission of cultivating inclusive growth, scholarships will be available to women, minorities, LGBTQIA+ individuals, veterans, first responders, and people relocating to San Antonio.\\nIf you want to learn about joining our program or hiring our graduates, email datascience@codeup.com!\\n\\n\\ndata science \\n\\n\\n\\n\\n\\n\\n\\n\\n\\n\\n\\n\\nGeneral_ Home\\nOur Program\\nEmployers\\nAlumni\\n\\n\\nStudents_ Students\\nFinancial Aid\\nScholarships\\n\\n\\nInfo\\xad_ Resources\\nFAQ\\nContact\\n\\n\\nLegal_ Compliant Policy\\nPrivacy Center\\nApply Now\\n\\n\\n\\n\\n\\n\\n\\n\\n\\n\\n\\n\\n\\n    php = {\\n        hasAdminbar: false,\\n        json: (null != null) ? null : \"\",\\n        jsPath: \\'https://codeup.com/wp-content/themes/jupiter/assets/js\\'\\n      };\\n    \\n\\n\\n\\nWe use cookies to personalise\\xa0site content, for social media features and to analyse our traffic. We also share information about your use of this site with our advertising and social media partners.\\n\\n\\nPrivacy Center\\n\\n\\nAccept\\n\\n\\n\\n\\n\\n#rs-demo-id {}\\n\\n\\n/* <![CDATA[ */\\nvar leadin_wordpress = {\"userRole\":\"visitor\",\"pageType\":\"post\",\"leadinPluginVersion\":\"7.17.2\"};;;var wp_konami_code_js_local = {\"wp_konami_code_page\":\"https:\\\\/\\\\/codeup.com\\\\/konami-easter-egg\\\\/\"};\\n/* ]]> */\\n\\n\\n\\n\\t\\tvar ga_fired = false;\\n\\t\\twindow.addEventListener(\"scroll\", function(){\\n\\t\\t\\tif ((document.documentElement.scrollTop != 0 && ga_fired === false) || (document.body.scrollTop != 0 && ga_fired === false)) {\\n\\t\\t\\t\\t(function(i,s,o,g,r,a,m){i[\\'GoogleAnalyticsObject\\']=r;i[r]=i[r]||function(){\\n\\t\\t\\t\\t(i[r].q=i[r].q||[]).push(arguments)},i[r].l=1*new Date();a=s.createElement(o),\\n\\t\\t\\t\\tm=s.getElementsByTagName(o)[0];a.async=1;a.src=g;m.parentNode.insertBefore(a,m)\\n\\t\\t\\t\\t})(window,document,\\'script\\',\\'//www.google-analytics.com/analytics.js\\',\\'ga\\');\\n\\n\\t\\t\\t\\tga(\\'create\\', \\'UA-80979492-1\\', \\'auto\\');\\n\\t\\t\\t\\tga(\\'send\\', \\'pageview\\');\\n\\t\\t\\t\\t\\t\\t\\t\\tga_fired = true;\\n\\t\\t\\t}\\n\\t\\t}, true);\\n\\t\\t\\n\\twindow.get = {};\\twindow.get.captcha = function(enteredCaptcha) {\\n                  return jQuery.get(ajaxurl, { action : \"mk_validate_captcha_input\", captcha: enteredCaptcha });\\n              \\t};(function($) { $.countdown.regional[\\'custom\\'] = { labels: [\\'Years\\', \\'Months\\', \\'Weeks\\', \\'Days\\', \\'Hours\\', \\'Minutes\\', \\'Seconds\\'], labels1: [\\'Year\\', \\'Month\\', \\'Week\\', \\'Day\\', \\'Hour\\', \\'Minute\\', \\'Second\\'], compactLabels: [\\'y\\', \\'a\\', \\'h\\', \\'g\\'], whichLabels: null, timeSeparator: \\':\\', isRTL: false}; $.countdown.setDefaults($.countdown.regional[\\'custom\\']); })(jQuery);'},\n",
       " {'title': 'Data Science Myths',\n",
       "  'content': 'Locations\\n\\nSan Antonio\\nDallas\\n\\n\\nStudents\\n\\nFull Stack Web Development\\nData Science\\nFinancial Options\\nPartnership Benefits\\nFrequently Asked Questions\\n\\n\\nEmployers\\n\\nAlumni\\n\\n\\nEvents\\nBlog\\nAbout\\nContact\\nApply Now\\n \\n\\n\\n\\n\\n\\n\\n \\n\\n\\n\\n\\n\\n\\n\\n\\n\\n\\nLocations\\n\\nSan Antonio\\nDallas\\n\\n\\nStudents\\n\\nFull Stack Web Development\\nData Science\\nFinancial Options\\nPartnership Benefits\\nFrequently Asked Questions\\n\\n\\nEmployers\\n\\nAlumni\\n\\n\\nEvents\\nBlog\\nAbout\\nContact\\nApply Now\\n\\n\\n\\n\\nData Science MythsHome » Data Science Myths\\n\\n\\n\\n\\n\\n\\n\\n\\n\\n\\xa0\\n\\nBy Yumi Jeon \\n\\n\\t\\t\\t\\xa0Posted October 31, 2018\\n\\n\\xa0In Data Science\\nData Science Myths2018-10-312019-02-14https://tribucodeup.wpengine.com/wp-content/uploads/2018/08/logo.pngCodeuphttps://codeup.com/wp-content/uploads/2018/10/bustingthemyth.png200px200px\\n\\n\\n\\n\\n\\n\\n\\n\\n\\n\\n\\n\\n\\n\\n\\nBy Dimitri Antoniou and Maggie Giust\\nData Science, Big Data, Machine Learning, NLP, Neural Networks…these buzzwords have rapidly spread into mainstream use over the last few years. Unfortunately, definitions are varied and sources of truth are limited. Data Scientists are in fact not magical unicorn wizards who can snap their fingers and turn a business around! Today, we’ll take a cue from our favorite Mythbusters to tackle some common myths and misconceptions in the field of Data Science.\\n\\nvia GIPHY\\nMyth #1: Data Science = Statistics\\nAt first glance, this one doesn’t sound unreasonable. Statistics is defined as, “A branch of mathematics dealing with the collection, analysis, interpretation, and presentation of masses of numerical data.” That sounds a lot like our definition of Data Science: a method of drawing actionable intelligence from data. \\nIn truth, statistics is actually one small piece of Data Science. As our Senior Data Scientist puts it, “Statistics forces us to make assumptions about the nature of the relationship between variables, the distribution of the data, etc.” In the traditional Data Science venn diagram, you’ll see that math/stats make up ⅓ of a working professional. These are tools and skills to leverage, but data science itself is about drawing intelligence from data.\\nBUSTED\\n\\nvia GIPHY\\n\\xa0\\nMyth #2: Data Scientist = Business/Data Analyst\\nThis one is so common that we wrote a whole post about it! These are separate and different roles within the data field. While a data scientist will often do analytics, their spectrum of work is wider. A data analyst will use structured data to create dashboards and KPIs, while a Data Scientist deals with unstructured and messy data for a range of outputs. If they’re interested, business analysts will often progress to data scientists.\\nBUSTED\\n\\nvia GIPHY\\n\\xa0\\nMyth #3: Data Science = Data Science\\nThis one’s tricky, because it’s impossible to either confirm or bust! The ‘myth’ is that one person or company using the term Data Science is not necessarily the same as another person or company using the same term. Depending on organizational capacity, individual experience, educational background, and many other variables, we might be using the same name for different animals.\\nTl;dr: don’t assume a common understanding across hiring managers, recruiters, and practitioners. Look instead for specifics of tools, techniques, methodologies, and outputs. That being said, this one falls in the “plausible” category, because it may actually be true in some circumstances, while false in others.\\nPLAUSIBLE\\n\\nvia GIPHY\\n\\xa0\\nMyth #4: Data Science curricula are well-defined and consistent.\\nWe recommend checking this one out for yourself! A quick google search for bootcamps, master’s degree programs, and online courses will reveal that different organizations teach different things. There is no commonly accepted framework for teaching data science! Some focus more on the engineering, others focus more on machine learning, some think deep learning is foundational, and some prefer to use R. \\nOur curriculum was built through employer interviews, practitioner interviews, market research, and company partnerships. But we’re based in San Antonio! A bootcamp in New York might follow the same process and end up with a different syllabus. Keep in mind, whatever your learning path, that there will be gaps in your learning. The most important thing is to recognize those gaps.\\nBUSTED\\n\\nvia GIPHY\\n\\xa0\\nMyth #5: If I want to be a data scientist, I just need to learn Python or R.\\nThis one is common and dangerous! Just like statistics, programming languages like Python and R are tools. They’re just pieces of a larger puzzle! Knowing Python without understanding the data science pipeline is like knowing how to build a floor without having a floor plan. Of course, these are valuable technical skills that give you a leg up, but they’re second in importance to asking the right questions, knowing what tools to use when, and communicating your findings.\\nBUSTED\\n\\nvia GIPHY\\nStill have questions? Reach out to us at (210) 802-7289 or DataScience@codeup.com! Want to learn more about Data Science? Check out our recent blog posts at tribucodeup.wpengine.com/blog. And of course, if data science gets you excited, get started with us today at tribucodeup.wpengine.com/apply!\\n\\n\\n\\n \\n\\n\\n\\n\\n\\n \\n\\n \\n\\n\\n \\n\\nSan Antonio: 600 Navarro St. #600, San Antonio, Texas \\n\\n \\n\\n \\n\\n \\n\\n|   info@codeup.com \\n\\n   |   210 - 802 - 7289   \\n\\n \\n\\nDallas: 701 Commerce St #100A, Dallas, TX 75202 \\n\\n\\n \\nvar htmlDiv = document.getElementById(\"rs-plugin-settings-inline-css\"); var htmlDivCss=\"\";\\r\\n\\t\\t\\t\\tif(htmlDiv) {\\r\\n\\t\\t\\t\\t\\thtmlDiv.innerHTML = htmlDiv.innerHTML + htmlDivCss;\\r\\n\\t\\t\\t\\t}else{\\r\\n\\t\\t\\t\\t\\tvar htmlDiv = document.createElement(\"div\");\\r\\n\\t\\t\\t\\t\\thtmlDiv.innerHTML = \"<style>\" + htmlDivCss + \"</style>\";\\r\\n\\t\\t\\t\\t\\tdocument.getElementsByTagName(\"head\")[0].appendChild(htmlDiv.childNodes[0]);\\r\\n\\t\\t\\t\\t}\\r\\n\\t\\t\\t\\n\\r\\nif (setREVStartSize!==undefined) setREVStartSize(\\r\\n\\t{c: \\'#rev_slider_1_1\\', responsiveLevels: [1240,1024,778,480], gridwidth: [1240,1024,778,480], gridheight: [283,283,239,239], sliderLayout: \\'fullwidth\\'});\\r\\n\\t\\t\\t\\r\\nvar revapi1,\\r\\n\\ttpj;\\t\\r\\n(function() {\\t\\t\\t\\r\\n\\tif (!/loaded|interactive|complete/.test(document.readyState)) document.addEventListener(\"DOMContentLoaded\",onLoad); else onLoad();\\t\\r\\n\\tfunction onLoad() {\\t\\t\\t\\t\\r\\n\\t\\tif (tpj===undefined) { tpj = jQuery; if(\"off\" == \"on\") tpj.noConflict();}\\r\\n\\tif(tpj(\"#rev_slider_1_1\").revolution == undefined){\\n\\t\\trevslider_showDoubleJqueryError(\"#rev_slider_1_1\");\\n\\t}else{\\n\\t\\trevapi1 = tpj(\"#rev_slider_1_1\").show().revolution({\\n\\t\\t\\tsliderType:\"hero\",\\n\\t\\t\\tjsFileLocation:\"//codeup.com/wp-content/plugins/revslider/public/assets/js/\",\\n\\t\\t\\tsliderLayout:\"fullwidth\",\\n\\t\\t\\tdottedOverlay:\"none\",\\n\\t\\t\\tdelay:9000,\\n\\t\\t\\tresponsiveLevels:[1240,1024,778,480],\\n\\t\\t\\tvisibilityLevels:[1240,1024,778,480],\\n\\t\\t\\tgridwidth:[1240,1024,778,480],\\n\\t\\t\\tgridheight:[283,283,239,239],\\n\\t\\t\\tlazyType:\"none\",\\n\\t\\t\\tshadow:0,\\n\\t\\t\\tspinner:\"spinner0\",\\n\\t\\t\\tautoHeight:\"off\",\\n\\t\\t\\tdisableProgressBar:\"on\",\\n\\t\\t\\thideThumbsOnMobile:\"off\",\\n\\t\\t\\thideSliderAtLimit:0,\\n\\t\\t\\thideCaptionAtLimit:0,\\n\\t\\t\\thideAllCaptionAtLilmit:0,\\n\\t\\t\\tdebugMode:false,\\n\\t\\t\\tfallbacks: {\\n\\t\\t\\t\\tsimplifyAll:\"off\",\\n\\t\\t\\t\\tdisableFocusListener:false,\\n\\t\\t\\t}\\n\\t\\t});\\n\\t}; /* END OF revapi call */\\n\\t\\n }; /* END OF ON LOAD FUNCTION */\\r\\n}()); /* END OF WRAPPING FUNCTION */\\r\\n\\n\\n\\n\\ndata science \\n\\n\\n\\n\\n\\n\\n\\n\\n\\n\\n\\n\\nGeneral_ Home\\nOur Program\\nEmployers\\nAlumni\\n\\n\\nStudents_ Students\\nFinancial Aid\\nScholarships\\n\\n\\nInfo\\xad_ Resources\\nFAQ\\nContact\\n\\n\\nLegal_ Compliant Policy\\nPrivacy Center\\nApply Now\\n\\n\\n\\n\\n\\n\\n\\n\\n\\n\\n\\n\\n\\n    php = {\\n        hasAdminbar: false,\\n        json: (null != null) ? null : \"\",\\n        jsPath: \\'https://codeup.com/wp-content/themes/jupiter/assets/js\\'\\n      };\\n    \\n\\n\\n\\nWe use cookies to personalise\\xa0site content, for social media features and to analyse our traffic. We also share information about your use of this site with our advertising and social media partners.\\n\\n\\nPrivacy Center\\n\\n\\nAccept\\n\\n\\n\\n\\r\\n\\t\\t\\t\\tfunction revslider_showDoubleJqueryError(sliderID) {\\r\\n\\t\\t\\t\\t\\tvar errorMessage = \"Revolution Slider Error: You have some jquery.js library include that comes after the revolution files js include.\";\\r\\n\\t\\t\\t\\t\\terrorMessage += \"<br> This includes make eliminates the revolution slider libraries, and make it not work.\";\\r\\n\\t\\t\\t\\t\\terrorMessage += \"<br><br> To fix it you can:<br>&nbsp;&nbsp;&nbsp; 1. In the Slider Settings -> Troubleshooting set option:  <strong><b>Put JS Includes To Body</b></strong> option to true.\";\\r\\n\\t\\t\\t\\t\\terrorMessage += \"<br>&nbsp;&nbsp;&nbsp; 2. Find the double jquery.js include and remove it.\";\\r\\n\\t\\t\\t\\t\\terrorMessage = \"<span style=\\'font-size:16px;color:#BC0C06;\\'>\" + errorMessage + \"</span>\";\\r\\n\\t\\t\\t\\t\\t\\tjQuery(sliderID).show().html(errorMessage);\\r\\n\\t\\t\\t\\t}\\r\\n\\t\\t\\t\\n\\n\\n#rs-demo-id {}\\n\\n\\n/* <![CDATA[ */\\nvar leadin_wordpress = {\"userRole\":\"visitor\",\"pageType\":\"post\",\"leadinPluginVersion\":\"7.17.2\"};;;var wp_konami_code_js_local = {\"wp_konami_code_page\":\"https:\\\\/\\\\/codeup.com\\\\/konami-easter-egg\\\\/\"};\\n/* ]]> */\\n\\n\\n\\n\\t\\tvar ga_fired = false;\\n\\t\\twindow.addEventListener(\"scroll\", function(){\\n\\t\\t\\tif ((document.documentElement.scrollTop != 0 && ga_fired === false) || (document.body.scrollTop != 0 && ga_fired === false)) {\\n\\t\\t\\t\\t(function(i,s,o,g,r,a,m){i[\\'GoogleAnalyticsObject\\']=r;i[r]=i[r]||function(){\\n\\t\\t\\t\\t(i[r].q=i[r].q||[]).push(arguments)},i[r].l=1*new Date();a=s.createElement(o),\\n\\t\\t\\t\\tm=s.getElementsByTagName(o)[0];a.async=1;a.src=g;m.parentNode.insertBefore(a,m)\\n\\t\\t\\t\\t})(window,document,\\'script\\',\\'//www.google-analytics.com/analytics.js\\',\\'ga\\');\\n\\n\\t\\t\\t\\tga(\\'create\\', \\'UA-80979492-1\\', \\'auto\\');\\n\\t\\t\\t\\tga(\\'send\\', \\'pageview\\');\\n\\t\\t\\t\\t\\t\\t\\t\\tga_fired = true;\\n\\t\\t\\t}\\n\\t\\t}, true);\\n\\t\\t\\n\\twindow.get = {};\\twindow.get.captcha = function(enteredCaptcha) {\\n                  return jQuery.get(ajaxurl, { action : \"mk_validate_captcha_input\", captcha: enteredCaptcha });\\n              \\t};(function($) { $.countdown.regional[\\'custom\\'] = { labels: [\\'Years\\', \\'Months\\', \\'Weeks\\', \\'Days\\', \\'Hours\\', \\'Minutes\\', \\'Seconds\\'], labels1: [\\'Year\\', \\'Month\\', \\'Week\\', \\'Day\\', \\'Hour\\', \\'Minute\\', \\'Second\\'], compactLabels: [\\'y\\', \\'a\\', \\'h\\', \\'g\\'], whichLabels: null, timeSeparator: \\':\\', isRTL: false}; $.countdown.setDefaults($.countdown.regional[\\'custom\\']); })(jQuery);'},\n",
       " {'title': 'Data Science VS Data Analytics: What’s The Difference?',\n",
       "  'content': 'Locations\\n\\nSan Antonio\\nDallas\\n\\n\\nStudents\\n\\nFull Stack Web Development\\nData Science\\nFinancial Options\\nPartnership Benefits\\nFrequently Asked Questions\\n\\n\\nEmployers\\n\\nAlumni\\n\\n\\nEvents\\nBlog\\nAbout\\nContact\\nApply Now\\n \\n\\n\\n\\n\\n\\n\\n \\n\\n\\n\\n\\n\\n\\n\\n\\n\\n\\nLocations\\n\\nSan Antonio\\nDallas\\n\\n\\nStudents\\n\\nFull Stack Web Development\\nData Science\\nFinancial Options\\nPartnership Benefits\\nFrequently Asked Questions\\n\\n\\nEmployers\\n\\nAlumni\\n\\n\\nEvents\\nBlog\\nAbout\\nContact\\nApply Now\\n\\n\\n\\n\\nData Science VS Data Analytics: What’s The Difference?Home » Data Science VS Data Analytics: What’s The Difference?\\n\\n\\n\\n\\n\\n\\n\\n\\n\\n\\xa0\\n\\nBy Yumi Jeon \\n\\n\\t\\t\\t\\xa0Posted October 17, 2018\\n\\n\\xa0In Data Science\\nData Science VS Data Analytics: What’s The Difference?2018-10-172018-12-06https://tribucodeup.wpengine.com/wp-content/uploads/2018/08/logo.pngCodeuphttps://codeup.com/wp-content/uploads/2018/10/datatoaction_v2-1.jpg200px200px\\n\\n\\n\\n\\n\\n\\n\\n\\n\\n\\n\\n\\n\\n\\n\\nBy Dimitri Antoniou\\nA week ago, Codeup launched our immersive Data Science career accelerator! With our first class kicking off in February and only 25 seats available, we’ve been answering a lot of questions from prospective students. One in particular has come up so many times we decided to dedicate a blog post to it. What is the difference between data science and data analytics?\\nFirst, let’s define some of our terms! Take a look at this blog to understand what Data Science is. In short, it is a method of turning raw data into action, leading to a desired outcome. Big Data refers to data sets that are large and complex, usually exceeding the capacity of computers and normal processing power to deal with. Machine Learning is the process of ‘learning’ underlying patterns of data in order to automate the extraction of intelligence from that data.\\n\\nNow, let’s look at the data pipeline that data scientists work through to reach the actionable insights and outcomes we mentioned:\\n\\nWe start by collecting data, which may come from social media channels, network logs, financials, employee records, or more.\\nWe then process that data into usable information stored in databases or streamed.\\nNext, we look back on the history of that data to summarize, describe, and explain, turning the data into meaningful knowledge. Here we’re primarily using mathematics, statistics, and visualization methods.\\nNow we convert that knowledge into intelligence, seeking to predict future events so that we can make decisions in the present. This is where practitioners will introduce mathematical/statistical modeling through machine learning to their data.\\nFinally, we enable action by building automations, running tests, building visualizations, monitoring new data, etc.\\n\\nData professionals work at different stages of the spectrum to move data through the pipeline. On the left, Big Data Engineers specialize in collecting, storing, and processing data, getting it from Data to Information. In the middle, analysts work to understand and convert that information to knowledge. Lastly, a Machine Learning Engineer utilizes machine learning algorithms to turn intelligence into action by building automations, visualizations, recommendations, and predictions.\\nData Scientists span multiple stages of this pipeline, from information to action. They will spend about 70% of their time wrangling data in the information stage. They will conduct statistical analysis to derive knowledge. Lastly, they predict future events and build automations using machine learning.\\nFor those technical folk out there, data science is to data engineering or machine learning engineering as full-stack development is to front-end or back-end development. For the non-technical folk, data science is the umbrella term that houses data analytics, machine learning, and other data professions.\\nSo what’s the biggest difference between a data analyst and a data scientist? Data scientists utilize computer programming and machine learning in addition to mathematics and statistics. \\nStill have questions? Reach out to us at (210) 802-7289 or DataScience@codeup.com! Wondering which of Codeup’s programs is right for you? We’ve got you covered. And of course, if data science gets you excited, get started with us today at tribucodeup.wpengine.com/apply!\\n\\n\\ncodeup, computer science, data science \\n\\n\\n\\n\\n\\n\\n\\n\\n\\n\\n\\n\\nGeneral_ Home\\nOur Program\\nEmployers\\nAlumni\\n\\n\\nStudents_ Students\\nFinancial Aid\\nScholarships\\n\\n\\nInfo\\xad_ Resources\\nFAQ\\nContact\\n\\n\\nLegal_ Compliant Policy\\nPrivacy Center\\nApply Now\\n\\n\\n\\n\\n\\n\\n\\n\\n\\n\\n\\n\\n\\n    php = {\\n        hasAdminbar: false,\\n        json: (null != null) ? null : \"\",\\n        jsPath: \\'https://codeup.com/wp-content/themes/jupiter/assets/js\\'\\n      };\\n    \\n\\n\\n\\nWe use cookies to personalise\\xa0site content, for social media features and to analyse our traffic. We also share information about your use of this site with our advertising and social media partners.\\n\\n\\nPrivacy Center\\n\\n\\nAccept\\n\\n\\n\\n\\n\\n#rs-demo-id {}\\n\\n\\n/* <![CDATA[ */\\nvar leadin_wordpress = {\"userRole\":\"visitor\",\"pageType\":\"post\",\"leadinPluginVersion\":\"7.17.2\"};;;var wp_konami_code_js_local = {\"wp_konami_code_page\":\"https:\\\\/\\\\/codeup.com\\\\/konami-easter-egg\\\\/\"};\\n/* ]]> */\\n\\n\\n\\n\\t\\tvar ga_fired = false;\\n\\t\\twindow.addEventListener(\"scroll\", function(){\\n\\t\\t\\tif ((document.documentElement.scrollTop != 0 && ga_fired === false) || (document.body.scrollTop != 0 && ga_fired === false)) {\\n\\t\\t\\t\\t(function(i,s,o,g,r,a,m){i[\\'GoogleAnalyticsObject\\']=r;i[r]=i[r]||function(){\\n\\t\\t\\t\\t(i[r].q=i[r].q||[]).push(arguments)},i[r].l=1*new Date();a=s.createElement(o),\\n\\t\\t\\t\\tm=s.getElementsByTagName(o)[0];a.async=1;a.src=g;m.parentNode.insertBefore(a,m)\\n\\t\\t\\t\\t})(window,document,\\'script\\',\\'//www.google-analytics.com/analytics.js\\',\\'ga\\');\\n\\n\\t\\t\\t\\tga(\\'create\\', \\'UA-80979492-1\\', \\'auto\\');\\n\\t\\t\\t\\tga(\\'send\\', \\'pageview\\');\\n\\t\\t\\t\\t\\t\\t\\t\\tga_fired = true;\\n\\t\\t\\t}\\n\\t\\t}, true);\\n\\t\\t\\n\\twindow.get = {};\\twindow.get.captcha = function(enteredCaptcha) {\\n                  return jQuery.get(ajaxurl, { action : \"mk_validate_captcha_input\", captcha: enteredCaptcha });\\n              \\t};(function($) { $.countdown.regional[\\'custom\\'] = { labels: [\\'Years\\', \\'Months\\', \\'Weeks\\', \\'Days\\', \\'Hours\\', \\'Minutes\\', \\'Seconds\\'], labels1: [\\'Year\\', \\'Month\\', \\'Week\\', \\'Day\\', \\'Hour\\', \\'Minute\\', \\'Second\\'], compactLabels: [\\'y\\', \\'a\\', \\'h\\', \\'g\\'], whichLabels: null, timeSeparator: \\':\\', isRTL: false}; $.countdown.setDefaults($.countdown.regional[\\'custom\\']); })(jQuery);'},\n",
       " {'title': '10 Tips to Crush It at the SA Tech Job Fair',\n",
       "  'content': 'Locations\\n\\nSan Antonio\\nDallas\\n\\n\\nStudents\\n\\nFull Stack Web Development\\nData Science\\nFinancial Options\\nPartnership Benefits\\nFrequently Asked Questions\\n\\n\\nEmployers\\n\\nAlumni\\n\\n\\nEvents\\nBlog\\nAbout\\nContact\\nApply Now\\n \\n\\n\\n\\n\\n\\n\\n \\n\\n\\n\\n\\n\\n\\n\\n\\n\\n\\nLocations\\n\\nSan Antonio\\nDallas\\n\\n\\nStudents\\n\\nFull Stack Web Development\\nData Science\\nFinancial Options\\nPartnership Benefits\\nFrequently Asked Questions\\n\\n\\nEmployers\\n\\nAlumni\\n\\n\\nEvents\\nBlog\\nAbout\\nContact\\nApply Now\\n\\n\\n\\n\\n10 Tips to Crush It at the SA Tech Job FairHome » 10 Tips to Crush It at the SA Tech Job Fair\\n\\n\\n\\n\\n\\n\\n\\n\\n\\n\\nBy Yumi Jeon \\n\\n\\t\\t\\t\\xa0Posted August 14, 2018\\n\\n\\xa0In Uncategorized\\n10 Tips to Crush It at the SA Tech Job Fair2018-08-142018-12-12https://tribucodeup.wpengine.com/wp-content/uploads/2018/08/logo.pngCodeuphttps://tribucodeup.wpengine.com/wp-content/uploads/2018/08/logo.png200px200px\\n\\n\\n\\n\\n\\n\\n\\n\\n\\n\\n\\n\\n\\n\\n\\n10 Tips to Crush It at the SA Tech Job Fair\\nSA Tech Job Fair\\nThe third bi-annual San Antonio Tech Job Fair is just around the corner. Over 25 companies will be at The Jack Guenther Pavilion\\xa0on April 10th, and they are hungry for new tech team members!\\nAt the job fair, companies want to quickly source a list of new talent leads. AKA they need to find qualified employees they can begin interviewing for jobs. Recruiters will represent their organization at tables with informational handouts and company swag. Your goal at a job fair is to set yourself apart from other candidates and ensure your name makes it to the top of those lead lists.\\nThink of your interaction with the company as a mini screening interview. The company rep will subtly evaluate basic qualities like your professionalism, communication and interpersonal skills, work experience, and interest level in the organization. Job fairs are also an opportunity for you to gain information about companies that may not be easily accessible online. \\xa0\\nAt Codeup, we’re passionate about bridging the gap between talent and demand, so we’ve outlined 10 tips to ensure you bring your A-game and leave a lasting impression!\\n10 Tips for Totally Crushing it at the SA Tech Job Fair\\n\\nUse keywords to describe your skills, but don’t go overboard. You’ll probably be talking to a recruiter or talent acquisition specialist. As a technical candidate, recognize these individuals usually aren’t developers or network administrators. They know terms like “JavaScript” and “Apache,” but haven’t written a line of code or spun up a server, so don’t get too caught up in industry jargon.\\nResearch the companies ahead of time. Review the list of attending companies and make sure you know what the company does and whether or not they hire people in your desired role. Look up recent news on the company and mention it during your conversation.\\nDefine your own goals for the job fair. Are you searching for a specific type of role or company culture? What matters most in your job search? Are there companies you want to prioritize? \\xa0Develop a game plan and be intentional with your time.\\nPrepare a stellar résumé. Bring about 20 copies of your résumé to the event, printed on nice paper. We won’t cover resume writing in this post, but there are a plethora of online resources you can consult. For job fairs, don’t worry about cover letters.\\nPolish your online profiles. If recruiters have a copy of your resume, you can be sure they will stalk you online soon. Make sure your online presence is professional and appropriate. A good place to start is by Googling yourself. Update your LinkedIn, and clean up any social media profiles.\\nCraft a 30-60 second elevator pitch. You may only have a few minutes with an employer. What will you say if they ask, “Tell me about yourself?” Consider structuring your pitch like this: Who you are + What you do + What your goals are + Why that matters to the company.\\nDon’t show up in a t-shirt, but trade in your suit for something more chill. Always keep it professional, but remember: tech is typically more casual than other industries. You’ll likely feel out of place if you look like you belong on Wall St., so refer to this guide on dressing for tech interviews.\\nDon’t forget the basics. Start and end each conversation with a firm handshake. Make eye contact while conversing. Smile! Thank the recruiter before you move on to the next table.\\nAsk educated questions. Don’t waste valuable face time with recruiters by asking questions like, “What does [Insert Company here] do?” They hate that question! Instead, try some of these:\\n\\nWhat are the top 3-5 examples of knowledge, skills, and abilities you look for in candidates?\\nWhat’s the best advice you have for someone who wants to work here?\\nWhat is your interview process like?\\nAre you hiring for any roles not currently listed on your websites?\\n\\n\\nFollow up. Collect business cards from each table. The next day, send a short note expressing your interest in the company’s opportunities and thanking the recruiter for his or her time.\\n\\nRSVP for the SA Tech Job Fair taking place at the Jack Guenther Pavilion – September 18th starting at 4 pm.\\xa0\\n\\n\\n\\n\\n\\n\\n\\n\\n\\n\\n\\n\\n\\n\\n\\nGeneral_ Home\\nOur Program\\nEmployers\\nAlumni\\n\\n\\nStudents_ Students\\nFinancial Aid\\nScholarships\\n\\n\\nInfo\\xad_ Resources\\nFAQ\\nContact\\n\\n\\nLegal_ Compliant Policy\\nPrivacy Center\\nApply Now\\n\\n\\n\\n\\n\\n\\n\\n\\n\\n\\n\\n\\n\\n    php = {\\n        hasAdminbar: false,\\n        json: (null != null) ? null : \"\",\\n        jsPath: \\'https://codeup.com/wp-content/themes/jupiter/assets/js\\'\\n      };\\n    \\n\\n\\n\\nWe use cookies to personalise\\xa0site content, for social media features and to analyse our traffic. We also share information about your use of this site with our advertising and social media partners.\\n\\n\\nPrivacy Center\\n\\n\\nAccept\\n\\n\\n\\n\\n\\n#rs-demo-id {}\\n\\n\\n/* <![CDATA[ */\\nvar leadin_wordpress = {\"userRole\":\"visitor\",\"pageType\":\"post\",\"leadinPluginVersion\":\"7.17.2\"};;;var wp_konami_code_js_local = {\"wp_konami_code_page\":\"https:\\\\/\\\\/codeup.com\\\\/konami-easter-egg\\\\/\"};\\n/* ]]> */\\n\\n\\n\\n\\t\\tvar ga_fired = false;\\n\\t\\twindow.addEventListener(\"scroll\", function(){\\n\\t\\t\\tif ((document.documentElement.scrollTop != 0 && ga_fired === false) || (document.body.scrollTop != 0 && ga_fired === false)) {\\n\\t\\t\\t\\t(function(i,s,o,g,r,a,m){i[\\'GoogleAnalyticsObject\\']=r;i[r]=i[r]||function(){\\n\\t\\t\\t\\t(i[r].q=i[r].q||[]).push(arguments)},i[r].l=1*new Date();a=s.createElement(o),\\n\\t\\t\\t\\tm=s.getElementsByTagName(o)[0];a.async=1;a.src=g;m.parentNode.insertBefore(a,m)\\n\\t\\t\\t\\t})(window,document,\\'script\\',\\'//www.google-analytics.com/analytics.js\\',\\'ga\\');\\n\\n\\t\\t\\t\\tga(\\'create\\', \\'UA-80979492-1\\', \\'auto\\');\\n\\t\\t\\t\\tga(\\'send\\', \\'pageview\\');\\n\\t\\t\\t\\t\\t\\t\\t\\tga_fired = true;\\n\\t\\t\\t}\\n\\t\\t}, true);\\n\\t\\t\\n\\twindow.get = {};\\twindow.get.captcha = function(enteredCaptcha) {\\n                  return jQuery.get(ajaxurl, { action : \"mk_validate_captcha_input\", captcha: enteredCaptcha });\\n              \\t};(function($) { $.countdown.regional[\\'custom\\'] = { labels: [\\'Years\\', \\'Months\\', \\'Weeks\\', \\'Days\\', \\'Hours\\', \\'Minutes\\', \\'Seconds\\'], labels1: [\\'Year\\', \\'Month\\', \\'Week\\', \\'Day\\', \\'Hour\\', \\'Minute\\', \\'Second\\'], compactLabels: [\\'y\\', \\'a\\', \\'h\\', \\'g\\'], whichLabels: null, timeSeparator: \\':\\', isRTL: false}; $.countdown.setDefaults($.countdown.regional[\\'custom\\']); })(jQuery);'},\n",
       " {'title': 'Competitor Bootcamps Are Closing. Is the Model in Danger?',\n",
       "  'content': 'Locations\\n\\nSan Antonio\\nDallas\\n\\n\\nStudents\\n\\nFull Stack Web Development\\nData Science\\nFinancial Options\\nPartnership Benefits\\nFrequently Asked Questions\\n\\n\\nEmployers\\n\\nAlumni\\n\\n\\nEvents\\nBlog\\nAbout\\nContact\\nApply Now\\n \\n\\n\\n\\n\\n\\n\\n \\n\\n\\n\\n\\n\\n\\n\\n\\n\\n\\nLocations\\n\\nSan Antonio\\nDallas\\n\\n\\nStudents\\n\\nFull Stack Web Development\\nData Science\\nFinancial Options\\nPartnership Benefits\\nFrequently Asked Questions\\n\\n\\nEmployers\\n\\nAlumni\\n\\n\\nEvents\\nBlog\\nAbout\\nContact\\nApply Now\\n\\n\\n\\n\\n\\n\\n\\n\\n\\n\\n\\n\\n\\n\\nBy Yumi Jeon \\n\\n\\t\\t\\t\\xa0Posted August 14, 2018\\n\\n\\xa0In Uncategorized\\nCompetitor Bootcamps Are Closing. Is the Model in Danger?2018-08-142018-12-12https://tribucodeup.wpengine.com/wp-content/uploads/2018/08/logo.pngCodeuphttps://tribucodeup.wpengine.com/wp-content/uploads/2018/08/logo.png200px200px\\n\\n\\n\\n\\n\\n\\n\\n\\n\\n\\n\\n\\n\\n\\n\\nCompetitor Bootcamps Are Closing. Is the Model in Danger?\\n\\xa0\\n\\nIs the programming bootcamp model in danger?\\nIn recent news, DevBootcamp and The Iron Yard announced that they are closing their doors. This is big news. DevBootcamp was the first programming bootcamp model and The Iron Yard is a national player with 15 campuses across the U.S. In both cases, the companies cited an unsustainable business model. Does that mean the boot-camp model is dead?\\n\\ntl;dr “Nope!”\\nBootcamps exist because traditional education models have failed to provide students job-ready skills for the 21st century. Students demand better employment options from their education. Employers demand skilled and job ready candidates. Big Education’s failure to meet those needs through traditional methods created the fertile ground for the new business model of the programming bootcamp.\\nEducation giant Kaplan and Apollo Education Group (owner of University of Phoenix) bought their way into this new educational model when they purchased The Iron Yard and DevBootcamp. They purchased their competition with the intent to scale up the model. Unfortunately, Big Education is too habituated to coming up short for students. They bought the upstarts that challenged them, tried making changes to run those bootcamps in the “Big Education” way, and, sadly, they’ve closed the doors when they realized that scaling education is more challenging when student outcomes truly matter.\\nThe bootcamp model is still new and there will be plenty consolidation, competition, and changes in the future. This model is based on actually being adaptive, innovative, and sustainable. And there’s always room for innovation.\\n\\n\\nWhat we’ve learned at Codeup…\\n\\n\\nEducation is challenging to scale.\\nPrioritizing quality over growth pays off.\\n\\nWhat we’re doing at Codeup…\\n\\nHigher standards in our application process are leading to better student outcomes.\\nOur reputation and commitment to quality is opening new doors to previously uninterested/unreachable employers.\\nIn the beginning, the majority of Codeup graduates went to work with startups and small businesses. We’re now seeing a larger amount of our graduates place at medium to large sized businesses.\\nDemand is growing and employers are learning that the results are in the graduates.\\nCodeup’s model is sustainable, inclusive, and works.\\n\\nCall or contact us today to see how Codeup’s commitment to quality and approach to being a career accelerator can make a profound difference in your life.\\n\\n\\n\\n\\n\\n\\n\\n\\n\\n\\n\\n\\n\\n\\n\\nGeneral_ Home\\nOur Program\\nEmployers\\nAlumni\\n\\n\\nStudents_ Students\\nFinancial Aid\\nScholarships\\n\\n\\nInfo\\xad_ Resources\\nFAQ\\nContact\\n\\n\\nLegal_ Compliant Policy\\nPrivacy Center\\nApply Now\\n\\n\\n\\n\\n\\n\\n\\n\\n\\n\\n\\n\\n\\n    php = {\\n        hasAdminbar: false,\\n        json: (null != null) ? null : \"\",\\n        jsPath: \\'https://codeup.com/wp-content/themes/jupiter/assets/js\\'\\n      };\\n    \\n\\n\\n\\nWe use cookies to personalise\\xa0site content, for social media features and to analyse our traffic. We also share information about your use of this site with our advertising and social media partners.\\n\\n\\nPrivacy Center\\n\\n\\nAccept\\n\\n\\n\\n\\n\\n#rs-demo-id {}\\n\\n\\n/* <![CDATA[ */\\nvar leadin_wordpress = {\"userRole\":\"visitor\",\"pageType\":\"post\",\"leadinPluginVersion\":\"7.17.2\"};;;var wp_konami_code_js_local = {\"wp_konami_code_page\":\"https:\\\\/\\\\/codeup.com\\\\/konami-easter-egg\\\\/\"};\\n/* ]]> */\\n\\n\\n\\n\\t\\tvar ga_fired = false;\\n\\t\\twindow.addEventListener(\"scroll\", function(){\\n\\t\\t\\tif ((document.documentElement.scrollTop != 0 && ga_fired === false) || (document.body.scrollTop != 0 && ga_fired === false)) {\\n\\t\\t\\t\\t(function(i,s,o,g,r,a,m){i[\\'GoogleAnalyticsObject\\']=r;i[r]=i[r]||function(){\\n\\t\\t\\t\\t(i[r].q=i[r].q||[]).push(arguments)},i[r].l=1*new Date();a=s.createElement(o),\\n\\t\\t\\t\\tm=s.getElementsByTagName(o)[0];a.async=1;a.src=g;m.parentNode.insertBefore(a,m)\\n\\t\\t\\t\\t})(window,document,\\'script\\',\\'//www.google-analytics.com/analytics.js\\',\\'ga\\');\\n\\n\\t\\t\\t\\tga(\\'create\\', \\'UA-80979492-1\\', \\'auto\\');\\n\\t\\t\\t\\tga(\\'send\\', \\'pageview\\');\\n\\t\\t\\t\\t\\t\\t\\t\\tga_fired = true;\\n\\t\\t\\t}\\n\\t\\t}, true);\\n\\t\\t\\n\\twindow.get = {};\\twindow.get.captcha = function(enteredCaptcha) {\\n                  return jQuery.get(ajaxurl, { action : \"mk_validate_captcha_input\", captcha: enteredCaptcha });\\n              \\t};(function($) { $.countdown.regional[\\'custom\\'] = { labels: [\\'Years\\', \\'Months\\', \\'Weeks\\', \\'Days\\', \\'Hours\\', \\'Minutes\\', \\'Seconds\\'], labels1: [\\'Year\\', \\'Month\\', \\'Week\\', \\'Day\\', \\'Hour\\', \\'Minute\\', \\'Second\\'], compactLabels: [\\'y\\', \\'a\\', \\'h\\', \\'g\\'], whichLabels: null, timeSeparator: \\':\\', isRTL: false}; $.countdown.setDefaults($.countdown.regional[\\'custom\\']); })(jQuery);'}]"
      ]
     },
     "execution_count": 3,
     "metadata": {},
     "output_type": "execute_result"
    }
   ],
   "source": [
    "output"
   ]
  },
  {
   "cell_type": "code",
   "execution_count": 4,
   "metadata": {},
   "outputs": [],
   "source": [
    "import pandas as pd"
   ]
  },
  {
   "cell_type": "code",
   "execution_count": 5,
   "metadata": {},
   "outputs": [
    {
     "data": {
      "text/html": [
       "<div>\n",
       "<style scoped>\n",
       "    .dataframe tbody tr th:only-of-type {\n",
       "        vertical-align: middle;\n",
       "    }\n",
       "\n",
       "    .dataframe tbody tr th {\n",
       "        vertical-align: top;\n",
       "    }\n",
       "\n",
       "    .dataframe thead th {\n",
       "        text-align: right;\n",
       "    }\n",
       "</style>\n",
       "<table border=\"1\" class=\"dataframe\">\n",
       "  <thead>\n",
       "    <tr style=\"text-align: right;\">\n",
       "      <th></th>\n",
       "      <th>content</th>\n",
       "      <th>title</th>\n",
       "    </tr>\n",
       "  </thead>\n",
       "  <tbody>\n",
       "    <tr>\n",
       "      <th>0</th>\n",
       "      <td>Locations\\n\\nSan Antonio\\nDallas\\n\\n\\nStudents...</td>\n",
       "      <td>Codeup’s Data Science Career Accelerator is Here!</td>\n",
       "    </tr>\n",
       "    <tr>\n",
       "      <th>1</th>\n",
       "      <td>Locations\\n\\nSan Antonio\\nDallas\\n\\n\\nStudents...</td>\n",
       "      <td>Data Science Myths</td>\n",
       "    </tr>\n",
       "    <tr>\n",
       "      <th>2</th>\n",
       "      <td>Locations\\n\\nSan Antonio\\nDallas\\n\\n\\nStudents...</td>\n",
       "      <td>Data Science VS Data Analytics: What’s The Dif...</td>\n",
       "    </tr>\n",
       "    <tr>\n",
       "      <th>3</th>\n",
       "      <td>Locations\\n\\nSan Antonio\\nDallas\\n\\n\\nStudents...</td>\n",
       "      <td>10 Tips to Crush It at the SA Tech Job Fair</td>\n",
       "    </tr>\n",
       "    <tr>\n",
       "      <th>4</th>\n",
       "      <td>Locations\\n\\nSan Antonio\\nDallas\\n\\n\\nStudents...</td>\n",
       "      <td>Competitor Bootcamps Are Closing. Is the Model...</td>\n",
       "    </tr>\n",
       "  </tbody>\n",
       "</table>\n",
       "</div>"
      ],
      "text/plain": [
       "                                             content  \\\n",
       "0  Locations\\n\\nSan Antonio\\nDallas\\n\\n\\nStudents...   \n",
       "1  Locations\\n\\nSan Antonio\\nDallas\\n\\n\\nStudents...   \n",
       "2  Locations\\n\\nSan Antonio\\nDallas\\n\\n\\nStudents...   \n",
       "3  Locations\\n\\nSan Antonio\\nDallas\\n\\n\\nStudents...   \n",
       "4  Locations\\n\\nSan Antonio\\nDallas\\n\\n\\nStudents...   \n",
       "\n",
       "                                               title  \n",
       "0  Codeup’s Data Science Career Accelerator is Here!  \n",
       "1                                 Data Science Myths  \n",
       "2  Data Science VS Data Analytics: What’s The Dif...  \n",
       "3        10 Tips to Crush It at the SA Tech Job Fair  \n",
       "4  Competitor Bootcamps Are Closing. Is the Model...  "
      ]
     },
     "execution_count": 5,
     "metadata": {},
     "output_type": "execute_result"
    }
   ],
   "source": [
    "pd.DataFrame(output)"
   ]
  },
  {
   "cell_type": "code",
   "execution_count": 65,
   "metadata": {
    "scrolled": false
   },
   "outputs": [],
   "source": [
    "title = soup.select(\"#mk-page-introduce > div > h1\")[0].get_text()"
   ]
  },
  {
   "cell_type": "code",
   "execution_count": 18,
   "metadata": {},
   "outputs": [],
   "source": [
    "content = soup.select('body')[0].get_text().strip()"
   ]
  },
  {
   "cell_type": "code",
   "execution_count": 20,
   "metadata": {},
   "outputs": [
    {
     "data": {
      "text/plain": [
       "'Codeup’s Data Science Career Accelerator is Here!'"
      ]
     },
     "execution_count": 20,
     "metadata": {},
     "output_type": "execute_result"
    }
   ],
   "source": [
    "title"
   ]
  },
  {
   "cell_type": "code",
   "execution_count": 21,
   "metadata": {},
   "outputs": [],
   "source": [
    "dictionary = {'title':title, 'content':content}"
   ]
  },
  {
   "cell_type": "code",
   "execution_count": 22,
   "metadata": {},
   "outputs": [
    {
     "data": {
      "text/plain": [
       "{'title': 'Codeup’s Data Science Career Accelerator is Here!',\n",
       " 'content': 'Locations\\n\\nSan Antonio\\nDallas\\n\\n\\nStudents\\n\\nFull Stack Web Development\\nData Science\\nFinancial Options\\nPartnership Benefits\\nFrequently Asked Questions\\n\\n\\nEmployers\\n\\nAlumni\\n\\n\\nEvents\\nBlog\\nAbout\\nContact\\nApply Now\\n \\n\\n\\n\\n\\n\\n\\n \\n\\n\\n\\n\\n\\n\\n\\n\\n\\n\\nLocations\\n\\nSan Antonio\\nDallas\\n\\n\\nStudents\\n\\nFull Stack Web Development\\nData Science\\nFinancial Options\\nPartnership Benefits\\nFrequently Asked Questions\\n\\n\\nEmployers\\n\\nAlumni\\n\\n\\nEvents\\nBlog\\nAbout\\nContact\\nApply Now\\n\\n\\n\\n\\nCodeup’s Data Science Career Accelerator is Here!Home » Codeup’s Data Science Career Accelerator is Here!\\n\\n\\n\\n\\n\\n\\n\\n\\n\\n\\xa0\\n\\nBy Yumi Jeon \\n\\n\\t\\t\\t\\xa0Posted September 30, 2018\\n\\n\\xa0In San Antonio, Uncategorized\\nCodeup’s Data Science Career Accelerator is Here!2018-09-302019-11-15https://tribucodeup.wpengine.com/wp-content/uploads/2018/08/logo.pngCodeuphttps://codeup.com/wp-content/uploads/2018/10/data-science-3-1.jpg200px200px\\n\\n\\n\\n\\n\\n\\n\\n\\n\\n\\n\\n\\n\\n\\n\\nThe rumors are true! The time has arrived. Codeup has officially opened applications to our new Data Science career accelerator, with only 25 seats available! This immersive program is one of a kind in San Antonio, and will help you land a job in\\xa0Glassdoor’s #1 Best Job in America.\\nData Science is a method of providing actionable intelligence from data.\\xa0The data revolution has hit San Antonio,\\xa0resulting in an explosion in Data Scientist positions\\xa0across companies like USAA, Accenture, Booz Allen Hamilton, and HEB. We’ve even seen\\xa0UTSA invest $70 M for a Cybersecurity Center and School of Data Science.\\xa0We built a program to specifically meet the growing demands of this industry.\\nOur program will be 18 weeks long, full-time, hands-on, and project-based. Our curriculum development and instruction is led by Senior Data Scientist, Maggie Giust, who has worked at HEB, Capital Group, and Rackspace, along with input from dozens of practitioners and hiring partners. Students will work with real data sets, realistic problems, and the entire data science pipeline from collection to deployment. They will receive professional development training in resume writing, interviewing, and continuing education to prepare for a smooth transition to the workforce.\\nWe focus on applied data science for immediate impact and ROI in a business, which is how we can back it all up with a 6 month tuition refund guarantee – just like our existing Web Dev program. We’re focusing on Data Science with Python, SQL, and ML, covered in\\xa014 modules: 1) Fundamentals; 2) Applied statistics; 3) SQL; 4) Python; 5) Supervised machine learning – regression; 6) Supervised machine learning – classification; 7) Unsupervised machine learning – clustering; 8) Time series analysis; 9) Anomaly detection; 10) Natural language processing; 11) Distributed machine learning; 12) Advanced topics (deep learning, NoSQL, cloud deployment, etc.); 13) Storytelling with data; and 14) Domain expertise development.\\nApplications are now open\\xa0for Codeup’s first Data Science cohort, which will start class on February 4, 2019. Hurry – there are only 25 seats available! To further our mission of cultivating inclusive growth, scholarships will be available to women, minorities, LGBTQIA+ individuals, veterans, first responders, and people relocating to San Antonio.\\nIf you want to learn about joining our program or hiring our graduates, email datascience@codeup.com!\\n\\n\\ndata science \\n\\n\\n\\n\\n\\n\\n\\n\\n\\n\\n\\n\\nGeneral_ Home\\nOur Program\\nEmployers\\nAlumni\\n\\n\\nStudents_ Students\\nFinancial Aid\\nScholarships\\n\\n\\nInfo\\xad_ Resources\\nFAQ\\nContact\\n\\n\\nLegal_ Compliant Policy\\nPrivacy Center\\nApply Now\\n\\n\\n\\n\\n\\n\\n\\n\\n\\n\\n\\n\\n\\n    php = {\\n        hasAdminbar: false,\\n        json: (null != null) ? null : \"\",\\n        jsPath: \\'https://codeup.com/wp-content/themes/jupiter/assets/js\\'\\n      };\\n    \\n\\n\\n\\nWe use cookies to personalise\\xa0site content, for social media features and to analyse our traffic. We also share information about your use of this site with our advertising and social media partners.\\n\\n\\nPrivacy Center\\n\\n\\nAccept\\n\\n\\n\\n\\n\\n#rs-demo-id {}\\n\\n\\n/* <![CDATA[ */\\nvar leadin_wordpress = {\"userRole\":\"visitor\",\"pageType\":\"post\",\"leadinPluginVersion\":\"7.17.2\"};;;var wp_konami_code_js_local = {\"wp_konami_code_page\":\"https:\\\\/\\\\/codeup.com\\\\/konami-easter-egg\\\\/\"};\\n/* ]]> */\\n\\n\\n\\n\\t\\tvar ga_fired = false;\\n\\t\\twindow.addEventListener(\"scroll\", function(){\\n\\t\\t\\tif ((document.documentElement.scrollTop != 0 && ga_fired === false) || (document.body.scrollTop != 0 && ga_fired === false)) {\\n\\t\\t\\t\\t(function(i,s,o,g,r,a,m){i[\\'GoogleAnalyticsObject\\']=r;i[r]=i[r]||function(){\\n\\t\\t\\t\\t(i[r].q=i[r].q||[]).push(arguments)},i[r].l=1*new Date();a=s.createElement(o),\\n\\t\\t\\t\\tm=s.getElementsByTagName(o)[0];a.async=1;a.src=g;m.parentNode.insertBefore(a,m)\\n\\t\\t\\t\\t})(window,document,\\'script\\',\\'//www.google-analytics.com/analytics.js\\',\\'ga\\');\\n\\n\\t\\t\\t\\tga(\\'create\\', \\'UA-80979492-1\\', \\'auto\\');\\n\\t\\t\\t\\tga(\\'send\\', \\'pageview\\');\\n\\t\\t\\t\\t\\t\\t\\t\\tga_fired = true;\\n\\t\\t\\t}\\n\\t\\t}, true);\\n\\t\\t\\n\\twindow.get = {};\\twindow.get.captcha = function(enteredCaptcha) {\\n                  return jQuery.get(ajaxurl, { action : \"mk_validate_captcha_input\", captcha: enteredCaptcha });\\n              \\t};(function($) { $.countdown.regional[\\'custom\\'] = { labels: [\\'Years\\', \\'Months\\', \\'Weeks\\', \\'Days\\', \\'Hours\\', \\'Minutes\\', \\'Seconds\\'], labels1: [\\'Year\\', \\'Month\\', \\'Week\\', \\'Day\\', \\'Hour\\', \\'Minute\\', \\'Second\\'], compactLabels: [\\'y\\', \\'a\\', \\'h\\', \\'g\\'], whichLabels: null, timeSeparator: \\':\\', isRTL: false}; $.countdown.setDefaults($.countdown.regional[\\'custom\\']); })(jQuery);'}"
      ]
     },
     "execution_count": 22,
     "metadata": {},
     "output_type": "execute_result"
    }
   ],
   "source": [
    "dictionary"
   ]
  },
  {
   "cell_type": "markdown",
   "metadata": {},
   "source": [
    "News Articles\n",
    "\n",
    "We will now be scraping text data from inshorts, a website that provides a brief overview of many different topics.\n",
    "\n",
    "Write a function that scrapes the news articles for the following topics:\n",
    "\n",
    "- Business\n",
    "- Sports\n",
    "- Technology\n",
    "- Entertainment\n",
    "\n",
    "The end product of this should be a function named get_news_articles that returns a list of dictionaries, where each dictionary has this shape:\n",
    "\n",
    "{\n",
    "    'title': 'The article title',\n",
    "    'content': 'The article content',\n",
    "    'category': 'business' # for example\n",
    "}\n",
    "Hints:\n",
    "\n",
    "Start by inspecting the website in your browser. Figure out which elements will be useful.\n",
    "Start by creating a function that handles a single article and produces a dictionary like the one above.\n",
    "Next create a function that will find all the articles on a single page and call the function you created in the last step for every article on the page.\n",
    "Now create a function that will use the previous two functions to scrape the articles from all the pages that you need, and do any additional processing that needs to be done.\n"
   ]
  },
  {
   "cell_type": "code",
   "execution_count": 28,
   "metadata": {},
   "outputs": [
    {
     "name": "stdout",
     "output_type": "stream",
     "text": [
      "body > div.container > div > div.card-stack > div:nth-child(5) > div > div.news-card-title.news-right-box > a > span\n"
     ]
    },
    {
     "ename": "SelectorSyntaxError",
     "evalue": "Invalid syntax for pseudo class ':nth-child'\n  line 1:\nbody > div.container > div > div.card-stack > div:nth-child({4}) > div > div.news-card-title.news-right-box > a > span\n                                                 ^ (<string>)",
     "output_type": "error",
     "traceback": [
      "Traceback \u001b[0;36m(most recent call last)\u001b[0m:\n",
      "  File \u001b[1;32m\"/usr/local/anaconda3/lib/python3.7/site-packages/IPython/core/interactiveshell.py\"\u001b[0m, line \u001b[1;32m3325\u001b[0m, in \u001b[1;35mrun_code\u001b[0m\n    exec(code_obj, self.user_global_ns, self.user_ns)\n",
      "  File \u001b[1;32m\"<ipython-input-28-e836aa2873c1>\"\u001b[0m, line \u001b[1;32m9\u001b[0m, in \u001b[1;35m<module>\u001b[0m\n    title = soup.select(\"body > div.container > div > div.card-stack > div:nth-child({4}) > div > div.news-card-title.news-right-box > a > span\")[0].get_text()\n",
      "  File \u001b[1;32m\"/usr/local/anaconda3/lib/python3.7/site-packages/bs4/element.py\"\u001b[0m, line \u001b[1;32m1376\u001b[0m, in \u001b[1;35mselect\u001b[0m\n    return soupsieve.select(selector, self, namespaces, limit, **kwargs)\n",
      "  File \u001b[1;32m\"/usr/local/anaconda3/lib/python3.7/site-packages/soupsieve/__init__.py\"\u001b[0m, line \u001b[1;32m112\u001b[0m, in \u001b[1;35mselect\u001b[0m\n    return compile(select, namespaces, flags, **kwargs).select(tag, limit)\n",
      "  File \u001b[1;32m\"/usr/local/anaconda3/lib/python3.7/site-packages/soupsieve/__init__.py\"\u001b[0m, line \u001b[1;32m63\u001b[0m, in \u001b[1;35mcompile\u001b[0m\n    return cp._cached_css_compile(pattern, namespaces, custom, flags)\n",
      "  File \u001b[1;32m\"/usr/local/anaconda3/lib/python3.7/site-packages/soupsieve/css_parser.py\"\u001b[0m, line \u001b[1;32m205\u001b[0m, in \u001b[1;35m_cached_css_compile\u001b[0m\n    CSSParser(pattern, custom=custom_selectors, flags=flags).process_selectors(),\n",
      "  File \u001b[1;32m\"/usr/local/anaconda3/lib/python3.7/site-packages/soupsieve/css_parser.py\"\u001b[0m, line \u001b[1;32m1010\u001b[0m, in \u001b[1;35mprocess_selectors\u001b[0m\n    return self.parse_selectors(self.selector_iter(self.pattern), index, flags)\n",
      "  File \u001b[1;32m\"/usr/local/anaconda3/lib/python3.7/site-packages/soupsieve/css_parser.py\"\u001b[0m, line \u001b[1;32m852\u001b[0m, in \u001b[1;35mparse_selectors\u001b[0m\n    has_selector, is_html = self.parse_pseudo_class(sel, m, has_selector, iselector, is_html)\n",
      "\u001b[0;36m  File \u001b[0;32m\"/usr/local/anaconda3/lib/python3.7/site-packages/soupsieve/css_parser.py\"\u001b[0;36m, line \u001b[0;32m581\u001b[0;36m, in \u001b[0;35mparse_pseudo_class\u001b[0;36m\u001b[0m\n\u001b[0;31m    m.start(0)\u001b[0m\n",
      "\u001b[0;36m  File \u001b[0;32m\"<string>\"\u001b[0;36m, line \u001b[0;32munknown\u001b[0m\n\u001b[0;31mSelectorSyntaxError\u001b[0m\u001b[0;31m:\u001b[0m Invalid syntax for pseudo class ':nth-child'\n  line 1:\nbody > div.container > div > div.card-stack > div:nth-child({4}) > div > div.news-card-title.news-right-box > a > span\n                                                 ^\n"
     ]
    }
   ],
   "source": [
    "headers = {'User-Agent': 'JQ'} # identify myself \n",
    "    # use get function w/in request pkg to get content\n",
    "response = get('https://inshorts.com/en/read/business', headers = headers) \n",
    "    \n",
    "soup = BeautifulSoup(response.text)\n",
    "\n",
    "#list_title = f\"body > div.container > div > div.card-stack > div:nth-child({i}) > div > div.news-card-title.news-right-box > a > span\"\n",
    "print(list_title)\n",
    "title = soup.select(\"body > div.container > div > div.card-stack > div:nth-child({4}) > div > div.news-card-title.news-right-box > a > span\")[0].get_text()\n",
    "print(title)"
   ]
  },
  {
   "cell_type": "code",
   "execution_count": 24,
   "metadata": {
    "scrolled": false
   },
   "outputs": [
    {
     "name": "stdout",
     "output_type": "stream",
     "text": [
      "body > div.container > div > div.card-stack > div:nth-child(1) > div > div.news-card-title.news-right-box > a > span\n",
      "RBI keeps repo rate unchanged at 5.15% after five cuts this year\n",
      "body > div.container > div > div.card-stack > div:nth-child(2) > div > div.news-card-title.news-right-box > a > span\n",
      "P Chidambaram walks out of Tihar Jail after 106 days\n",
      "body > div.container > div > div.card-stack > div:nth-child(3) > div > div.news-card-title.news-right-box > a > span\n",
      "8, 7, 6.6, 5.8, 5 & 4.5 is the state of economy: Chidambaram on GDP growth\n",
      "body > div.container > div > div.card-stack > div:nth-child(4) > div > div.news-card-title.news-right-box > a > span\n",
      "Google Co-founders gain $2.3B after Sundar Pichai made Alphabet CEO\n",
      "body > div.container > div > div.card-stack > div:nth-child(5) > div > div.news-card-title.news-right-box > a > span\n"
     ]
    },
    {
     "ename": "IndexError",
     "evalue": "list index out of range",
     "output_type": "error",
     "traceback": [
      "\u001b[0;31m---------------------------------------------------------------------------\u001b[0m",
      "\u001b[0;31mIndexError\u001b[0m                                Traceback (most recent call last)",
      "\u001b[0;32m<ipython-input-24-767dae17306e>\u001b[0m in \u001b[0;36m<module>\u001b[0;34m\u001b[0m\n\u001b[1;32m      7\u001b[0m     \u001b[0mlist_title\u001b[0m \u001b[0;34m=\u001b[0m \u001b[0;34mf\"body > div.container > div > div.card-stack > div:nth-child({i}) > div > div.news-card-title.news-right-box > a > span\"\u001b[0m\u001b[0;34m\u001b[0m\u001b[0;34m\u001b[0m\u001b[0m\n\u001b[1;32m      8\u001b[0m     \u001b[0mprint\u001b[0m\u001b[0;34m(\u001b[0m\u001b[0mlist_title\u001b[0m\u001b[0;34m)\u001b[0m\u001b[0;34m\u001b[0m\u001b[0;34m\u001b[0m\u001b[0m\n\u001b[0;32m----> 9\u001b[0;31m     \u001b[0mtitle\u001b[0m \u001b[0;34m=\u001b[0m \u001b[0msoup\u001b[0m\u001b[0;34m.\u001b[0m\u001b[0mselect\u001b[0m\u001b[0;34m(\u001b[0m\u001b[0mlist_title\u001b[0m\u001b[0;34m)\u001b[0m\u001b[0;34m[\u001b[0m\u001b[0;36m0\u001b[0m\u001b[0;34m]\u001b[0m\u001b[0;34m.\u001b[0m\u001b[0mget_text\u001b[0m\u001b[0;34m(\u001b[0m\u001b[0;34m)\u001b[0m\u001b[0;34m\u001b[0m\u001b[0;34m\u001b[0m\u001b[0m\n\u001b[0m\u001b[1;32m     10\u001b[0m     \u001b[0mprint\u001b[0m\u001b[0;34m(\u001b[0m\u001b[0mtitle\u001b[0m\u001b[0;34m)\u001b[0m\u001b[0;34m\u001b[0m\u001b[0;34m\u001b[0m\u001b[0m\n",
      "\u001b[0;31mIndexError\u001b[0m: list index out of range"
     ]
    }
   ],
   "source": [
    "headers = {'User-Agent': 'JQ'} # identify myself \n",
    "    # use get function w/in request pkg to get content\n",
    "response = get('https://inshorts.com/en/read/business', headers = headers) \n",
    "    \n",
    "soup = BeautifulSoup(response.text)\n",
    "for i in range(1,101):\n",
    "    list_title = f\"body > div.container > div > div.card-stack > div:nth-child({i}) > div > div.news-card-title.news-right-box > a > span\"\n",
    "    print(list_title)\n",
    "    title = soup.select(list_title)[0].get_text()\n",
    "    print(title)"
   ]
  },
  {
   "cell_type": "code",
   "execution_count": 25,
   "metadata": {},
   "outputs": [
    {
     "ename": "SelectorSyntaxError",
     "evalue": "Invalid syntax for pseudo class ':nth-child'\n  line 1:\nbody > div.container > div > div.card-stack > div:nth-child({1}) > div > div.news-card-title.news-right-box > a > span\n                                                 ^ (<string>)",
     "output_type": "error",
     "traceback": [
      "Traceback \u001b[0;36m(most recent call last)\u001b[0m:\n",
      "  File \u001b[1;32m\"/usr/local/anaconda3/lib/python3.7/site-packages/IPython/core/interactiveshell.py\"\u001b[0m, line \u001b[1;32m3325\u001b[0m, in \u001b[1;35mrun_code\u001b[0m\n    exec(code_obj, self.user_global_ns, self.user_ns)\n",
      "  File \u001b[1;32m\"<ipython-input-25-f5e755191964>\"\u001b[0m, line \u001b[1;32m2\u001b[0m, in \u001b[1;35m<module>\u001b[0m\n    title = soup.select('body > div.container > div > div.card-stack > div:nth-child({1}) > div > div.news-card-title.news-right-box > a > span')[0].get_text()\n",
      "  File \u001b[1;32m\"/usr/local/anaconda3/lib/python3.7/site-packages/bs4/element.py\"\u001b[0m, line \u001b[1;32m1376\u001b[0m, in \u001b[1;35mselect\u001b[0m\n    return soupsieve.select(selector, self, namespaces, limit, **kwargs)\n",
      "  File \u001b[1;32m\"/usr/local/anaconda3/lib/python3.7/site-packages/soupsieve/__init__.py\"\u001b[0m, line \u001b[1;32m112\u001b[0m, in \u001b[1;35mselect\u001b[0m\n    return compile(select, namespaces, flags, **kwargs).select(tag, limit)\n",
      "  File \u001b[1;32m\"/usr/local/anaconda3/lib/python3.7/site-packages/soupsieve/__init__.py\"\u001b[0m, line \u001b[1;32m63\u001b[0m, in \u001b[1;35mcompile\u001b[0m\n    return cp._cached_css_compile(pattern, namespaces, custom, flags)\n",
      "  File \u001b[1;32m\"/usr/local/anaconda3/lib/python3.7/site-packages/soupsieve/css_parser.py\"\u001b[0m, line \u001b[1;32m205\u001b[0m, in \u001b[1;35m_cached_css_compile\u001b[0m\n    CSSParser(pattern, custom=custom_selectors, flags=flags).process_selectors(),\n",
      "  File \u001b[1;32m\"/usr/local/anaconda3/lib/python3.7/site-packages/soupsieve/css_parser.py\"\u001b[0m, line \u001b[1;32m1010\u001b[0m, in \u001b[1;35mprocess_selectors\u001b[0m\n    return self.parse_selectors(self.selector_iter(self.pattern), index, flags)\n",
      "  File \u001b[1;32m\"/usr/local/anaconda3/lib/python3.7/site-packages/soupsieve/css_parser.py\"\u001b[0m, line \u001b[1;32m852\u001b[0m, in \u001b[1;35mparse_selectors\u001b[0m\n    has_selector, is_html = self.parse_pseudo_class(sel, m, has_selector, iselector, is_html)\n",
      "\u001b[0;36m  File \u001b[0;32m\"/usr/local/anaconda3/lib/python3.7/site-packages/soupsieve/css_parser.py\"\u001b[0;36m, line \u001b[0;32m581\u001b[0;36m, in \u001b[0;35mparse_pseudo_class\u001b[0;36m\u001b[0m\n\u001b[0;31m    m.start(0)\u001b[0m\n",
      "\u001b[0;36m  File \u001b[0;32m\"<string>\"\u001b[0;36m, line \u001b[0;32munknown\u001b[0m\n\u001b[0;31mSelectorSyntaxError\u001b[0m\u001b[0;31m:\u001b[0m Invalid syntax for pseudo class ':nth-child'\n  line 1:\nbody > div.container > div > div.card-stack > div:nth-child({1}) > div > div.news-card-title.news-right-box > a > span\n                                                 ^\n"
     ]
    }
   ],
   "source": [
    "soup = BeautifulSoup(response.text)\n",
    "title = soup.select('body > div.container > div > div.card-stack > div:nth-child({1}) > div > div.news-card-title.news-right-box > a > span')[0].get_text()\n",
    "title"
   ]
  },
  {
   "cell_type": "code",
   "execution_count": 8,
   "metadata": {
    "scrolled": false
   },
   "outputs": [
    {
     "data": {
      "text/plain": [
       "'Google Co-founders gain $2.3B after Sundar Pichai made Alphabet CEO'"
      ]
     },
     "execution_count": 8,
     "metadata": {},
     "output_type": "execute_result"
    }
   ],
   "source": [
    "title"
   ]
  },
  {
   "cell_type": "code",
   "execution_count": 17,
   "metadata": {},
   "outputs": [],
   "source": [
    "def get_news(url):\n",
    "    headers = {'User-Agent': 'JQ'} # identify myself \n",
    "    # use get function w/in request pkg to get content\n",
    "    response = get(url, headers = headers) \n",
    "    \n",
    "    soup = BeautifulSoup(response.text)\n",
    "    entry = soup.select('body > div.sidebar.open > div:nth-child(2) > ul > a:nth-child(3) > li')[0].get_text()\n",
    "    #content = soup.select('body')[0].get_text().strip()\n",
    "    \n",
    "    return entry"
   ]
  },
  {
   "cell_type": "code",
   "execution_count": 20,
   "metadata": {},
   "outputs": [
    {
     "ename": "IndexError",
     "evalue": "list index out of range",
     "output_type": "error",
     "traceback": [
      "\u001b[0;31m---------------------------------------------------------------------------\u001b[0m",
      "\u001b[0;31mIndexError\u001b[0m                                Traceback (most recent call last)",
      "\u001b[0;32m<ipython-input-20-d105da009127>\u001b[0m in \u001b[0;36m<module>\u001b[0;34m\u001b[0m\n\u001b[0;32m----> 1\u001b[0;31m \u001b[0mget_news\u001b[0m\u001b[0;34m(\u001b[0m\u001b[0;34m'https://inshorts.com/en/read/business'\u001b[0m\u001b[0;34m)\u001b[0m\u001b[0;34m\u001b[0m\u001b[0;34m\u001b[0m\u001b[0m\n\u001b[0m",
      "\u001b[0;32m<ipython-input-17-1ad823391a1f>\u001b[0m in \u001b[0;36mget_news\u001b[0;34m(url)\u001b[0m\n\u001b[1;32m      5\u001b[0m \u001b[0;34m\u001b[0m\u001b[0m\n\u001b[1;32m      6\u001b[0m     \u001b[0msoup\u001b[0m \u001b[0;34m=\u001b[0m \u001b[0mBeautifulSoup\u001b[0m\u001b[0;34m(\u001b[0m\u001b[0mresponse\u001b[0m\u001b[0;34m.\u001b[0m\u001b[0mtext\u001b[0m\u001b[0;34m)\u001b[0m\u001b[0;34m\u001b[0m\u001b[0;34m\u001b[0m\u001b[0m\n\u001b[0;32m----> 7\u001b[0;31m     \u001b[0mentry\u001b[0m \u001b[0;34m=\u001b[0m \u001b[0msoup\u001b[0m\u001b[0;34m.\u001b[0m\u001b[0mselect\u001b[0m\u001b[0;34m(\u001b[0m\u001b[0;34m'body > div.sidebar.open > div:nth-child(2) > ul > a:nth-child(3) > li'\u001b[0m\u001b[0;34m)\u001b[0m\u001b[0;34m[\u001b[0m\u001b[0;36m0\u001b[0m\u001b[0;34m]\u001b[0m\u001b[0;34m.\u001b[0m\u001b[0mget_text\u001b[0m\u001b[0;34m(\u001b[0m\u001b[0;34m)\u001b[0m\u001b[0;34m\u001b[0m\u001b[0;34m\u001b[0m\u001b[0m\n\u001b[0m\u001b[1;32m      8\u001b[0m     \u001b[0;31m#content = soup.select('body')[0].get_text().strip()\u001b[0m\u001b[0;34m\u001b[0m\u001b[0;34m\u001b[0m\u001b[0;34m\u001b[0m\u001b[0m\n\u001b[1;32m      9\u001b[0m \u001b[0;34m\u001b[0m\u001b[0m\n",
      "\u001b[0;31mIndexError\u001b[0m: list index out of range"
     ]
    }
   ],
   "source": [
    "get_news('https://inshorts.com/en/read/business')"
   ]
  },
  {
   "cell_type": "code",
   "execution_count": null,
   "metadata": {},
   "outputs": [],
   "source": []
  }
 ],
 "metadata": {
  "kernelspec": {
   "display_name": "Python 3",
   "language": "python",
   "name": "python3"
  },
  "language_info": {
   "codemirror_mode": {
    "name": "ipython",
    "version": 3
   },
   "file_extension": ".py",
   "mimetype": "text/x-python",
   "name": "python",
   "nbconvert_exporter": "python",
   "pygments_lexer": "ipython3",
   "version": "3.7.3"
  },
  "toc": {
   "base_numbering": 1,
   "nav_menu": {},
   "number_sections": true,
   "sideBar": true,
   "skip_h1_title": false,
   "title_cell": "Table of Contents",
   "title_sidebar": "Contents",
   "toc_cell": false,
   "toc_position": {},
   "toc_section_display": true,
   "toc_window_display": false
  },
  "varInspector": {
   "cols": {
    "lenName": 16,
    "lenType": 16,
    "lenVar": 40
   },
   "kernels_config": {
    "python": {
     "delete_cmd_postfix": "",
     "delete_cmd_prefix": "del ",
     "library": "var_list.py",
     "varRefreshCmd": "print(var_dic_list())"
    },
    "r": {
     "delete_cmd_postfix": ") ",
     "delete_cmd_prefix": "rm(",
     "library": "var_list.r",
     "varRefreshCmd": "cat(var_dic_list()) "
    }
   },
   "types_to_exclude": [
    "module",
    "function",
    "builtin_function_or_method",
    "instance",
    "_Feature"
   ],
   "window_display": false
  }
 },
 "nbformat": 4,
 "nbformat_minor": 2
}
