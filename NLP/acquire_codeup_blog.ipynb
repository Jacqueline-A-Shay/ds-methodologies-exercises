{
 "cells": [
  {
   "cell_type": "code",
   "execution_count": 24,
   "metadata": {},
   "outputs": [],
   "source": [
    "from requests import get\n",
    "from bs4 import BeautifulSoup"
   ]
  },
  {
   "cell_type": "code",
   "execution_count": 23,
   "metadata": {},
   "outputs": [],
   "source": [
    "urls = ['https://codeup.com/codeups-data-science-career-accelerator-is-here/',\n",
    "        'https://codeup.com/data-science-myths/',\n",
    "        'https://codeup.com/data-science-vs-data-analytics-whats-the-difference/',\n",
    "        'https://codeup.com/10-tips-to-crush-it-at-the-sa-tech-job-fair/',\n",
    "        'https://codeup.com/competitor-bootcamps-are-closing-is-the-model-in-danger/']"
   ]
  },
  {
   "cell_type": "code",
   "execution_count": 3,
   "metadata": {},
   "outputs": [],
   "source": [
    "headers = {'User-Agent': 'JQ'}"
   ]
  },
  {
   "cell_type": "code",
   "execution_count": 5,
   "metadata": {},
   "outputs": [],
   "source": []
  },
  {
   "cell_type": "code",
   "execution_count": 6,
   "metadata": {},
   "outputs": [],
   "source": [
    "for u in url:\n",
    "    dictionary = {'title':title, 'content':content}\n",
    "    response = get(u, headers = headers)\n",
    "    soup = BeautifulSoup(response.text)\n",
    "    title = soup.select(\"#mk-page-introduce > div > h1\")[0].get_text()"
   ]
  },
  {
   "cell_type": "code",
   "execution_count": 19,
   "metadata": {
    "scrolled": false
   },
   "outputs": [],
   "source": [
    "title = soup.select(\"#mk-page-introduce > div > h1\")[0].get_text()"
   ]
  },
  {
   "cell_type": "code",
   "execution_count": 18,
   "metadata": {},
   "outputs": [],
   "source": [
    "content = soup.select('body')[0].get_text().strip()"
   ]
  },
  {
   "cell_type": "code",
   "execution_count": 20,
   "metadata": {},
   "outputs": [
    {
     "data": {
      "text/plain": [
       "'Codeup’s Data Science Career Accelerator is Here!'"
      ]
     },
     "execution_count": 20,
     "metadata": {},
     "output_type": "execute_result"
    }
   ],
   "source": [
    "title"
   ]
  },
  {
   "cell_type": "code",
   "execution_count": 21,
   "metadata": {},
   "outputs": [],
   "source": [
    "dictionary = {'title':title, 'content':content}"
   ]
  },
  {
   "cell_type": "code",
   "execution_count": 22,
   "metadata": {},
   "outputs": [
    {
     "data": {
      "text/plain": [
       "{'title': 'Codeup’s Data Science Career Accelerator is Here!',\n",
       " 'content': 'Locations\\n\\nSan Antonio\\nDallas\\n\\n\\nStudents\\n\\nFull Stack Web Development\\nData Science\\nFinancial Options\\nPartnership Benefits\\nFrequently Asked Questions\\n\\n\\nEmployers\\n\\nAlumni\\n\\n\\nEvents\\nBlog\\nAbout\\nContact\\nApply Now\\n \\n\\n\\n\\n\\n\\n\\n \\n\\n\\n\\n\\n\\n\\n\\n\\n\\n\\nLocations\\n\\nSan Antonio\\nDallas\\n\\n\\nStudents\\n\\nFull Stack Web Development\\nData Science\\nFinancial Options\\nPartnership Benefits\\nFrequently Asked Questions\\n\\n\\nEmployers\\n\\nAlumni\\n\\n\\nEvents\\nBlog\\nAbout\\nContact\\nApply Now\\n\\n\\n\\n\\nCodeup’s Data Science Career Accelerator is Here!Home » Codeup’s Data Science Career Accelerator is Here!\\n\\n\\n\\n\\n\\n\\n\\n\\n\\n\\xa0\\n\\nBy Yumi Jeon \\n\\n\\t\\t\\t\\xa0Posted September 30, 2018\\n\\n\\xa0In San Antonio, Uncategorized\\nCodeup’s Data Science Career Accelerator is Here!2018-09-302019-11-15https://tribucodeup.wpengine.com/wp-content/uploads/2018/08/logo.pngCodeuphttps://codeup.com/wp-content/uploads/2018/10/data-science-3-1.jpg200px200px\\n\\n\\n\\n\\n\\n\\n\\n\\n\\n\\n\\n\\n\\n\\n\\nThe rumors are true! The time has arrived. Codeup has officially opened applications to our new Data Science career accelerator, with only 25 seats available! This immersive program is one of a kind in San Antonio, and will help you land a job in\\xa0Glassdoor’s #1 Best Job in America.\\nData Science is a method of providing actionable intelligence from data.\\xa0The data revolution has hit San Antonio,\\xa0resulting in an explosion in Data Scientist positions\\xa0across companies like USAA, Accenture, Booz Allen Hamilton, and HEB. We’ve even seen\\xa0UTSA invest $70 M for a Cybersecurity Center and School of Data Science.\\xa0We built a program to specifically meet the growing demands of this industry.\\nOur program will be 18 weeks long, full-time, hands-on, and project-based. Our curriculum development and instruction is led by Senior Data Scientist, Maggie Giust, who has worked at HEB, Capital Group, and Rackspace, along with input from dozens of practitioners and hiring partners. Students will work with real data sets, realistic problems, and the entire data science pipeline from collection to deployment. They will receive professional development training in resume writing, interviewing, and continuing education to prepare for a smooth transition to the workforce.\\nWe focus on applied data science for immediate impact and ROI in a business, which is how we can back it all up with a 6 month tuition refund guarantee – just like our existing Web Dev program. We’re focusing on Data Science with Python, SQL, and ML, covered in\\xa014 modules: 1) Fundamentals; 2) Applied statistics; 3) SQL; 4) Python; 5) Supervised machine learning – regression; 6) Supervised machine learning – classification; 7) Unsupervised machine learning – clustering; 8) Time series analysis; 9) Anomaly detection; 10) Natural language processing; 11) Distributed machine learning; 12) Advanced topics (deep learning, NoSQL, cloud deployment, etc.); 13) Storytelling with data; and 14) Domain expertise development.\\nApplications are now open\\xa0for Codeup’s first Data Science cohort, which will start class on February 4, 2019. Hurry – there are only 25 seats available! To further our mission of cultivating inclusive growth, scholarships will be available to women, minorities, LGBTQIA+ individuals, veterans, first responders, and people relocating to San Antonio.\\nIf you want to learn about joining our program or hiring our graduates, email datascience@codeup.com!\\n\\n\\ndata science \\n\\n\\n\\n\\n\\n\\n\\n\\n\\n\\n\\n\\nGeneral_ Home\\nOur Program\\nEmployers\\nAlumni\\n\\n\\nStudents_ Students\\nFinancial Aid\\nScholarships\\n\\n\\nInfo\\xad_ Resources\\nFAQ\\nContact\\n\\n\\nLegal_ Compliant Policy\\nPrivacy Center\\nApply Now\\n\\n\\n\\n\\n\\n\\n\\n\\n\\n\\n\\n\\n\\n    php = {\\n        hasAdminbar: false,\\n        json: (null != null) ? null : \"\",\\n        jsPath: \\'https://codeup.com/wp-content/themes/jupiter/assets/js\\'\\n      };\\n    \\n\\n\\n\\nWe use cookies to personalise\\xa0site content, for social media features and to analyse our traffic. We also share information about your use of this site with our advertising and social media partners.\\n\\n\\nPrivacy Center\\n\\n\\nAccept\\n\\n\\n\\n\\n\\n#rs-demo-id {}\\n\\n\\n/* <![CDATA[ */\\nvar leadin_wordpress = {\"userRole\":\"visitor\",\"pageType\":\"post\",\"leadinPluginVersion\":\"7.17.2\"};;;var wp_konami_code_js_local = {\"wp_konami_code_page\":\"https:\\\\/\\\\/codeup.com\\\\/konami-easter-egg\\\\/\"};\\n/* ]]> */\\n\\n\\n\\n\\t\\tvar ga_fired = false;\\n\\t\\twindow.addEventListener(\"scroll\", function(){\\n\\t\\t\\tif ((document.documentElement.scrollTop != 0 && ga_fired === false) || (document.body.scrollTop != 0 && ga_fired === false)) {\\n\\t\\t\\t\\t(function(i,s,o,g,r,a,m){i[\\'GoogleAnalyticsObject\\']=r;i[r]=i[r]||function(){\\n\\t\\t\\t\\t(i[r].q=i[r].q||[]).push(arguments)},i[r].l=1*new Date();a=s.createElement(o),\\n\\t\\t\\t\\tm=s.getElementsByTagName(o)[0];a.async=1;a.src=g;m.parentNode.insertBefore(a,m)\\n\\t\\t\\t\\t})(window,document,\\'script\\',\\'//www.google-analytics.com/analytics.js\\',\\'ga\\');\\n\\n\\t\\t\\t\\tga(\\'create\\', \\'UA-80979492-1\\', \\'auto\\');\\n\\t\\t\\t\\tga(\\'send\\', \\'pageview\\');\\n\\t\\t\\t\\t\\t\\t\\t\\tga_fired = true;\\n\\t\\t\\t}\\n\\t\\t}, true);\\n\\t\\t\\n\\twindow.get = {};\\twindow.get.captcha = function(enteredCaptcha) {\\n                  return jQuery.get(ajaxurl, { action : \"mk_validate_captcha_input\", captcha: enteredCaptcha });\\n              \\t};(function($) { $.countdown.regional[\\'custom\\'] = { labels: [\\'Years\\', \\'Months\\', \\'Weeks\\', \\'Days\\', \\'Hours\\', \\'Minutes\\', \\'Seconds\\'], labels1: [\\'Year\\', \\'Month\\', \\'Week\\', \\'Day\\', \\'Hour\\', \\'Minute\\', \\'Second\\'], compactLabels: [\\'y\\', \\'a\\', \\'h\\', \\'g\\'], whichLabels: null, timeSeparator: \\':\\', isRTL: false}; $.countdown.setDefaults($.countdown.regional[\\'custom\\']); })(jQuery);'}"
      ]
     },
     "execution_count": 22,
     "metadata": {},
     "output_type": "execute_result"
    }
   ],
   "source": [
    "dictionary"
   ]
  },
  {
   "cell_type": "code",
   "execution_count": null,
   "metadata": {},
   "outputs": [],
   "source": []
  }
 ],
 "metadata": {
  "kernelspec": {
   "display_name": "Python 3",
   "language": "python",
   "name": "python3"
  },
  "language_info": {
   "codemirror_mode": {
    "name": "ipython",
    "version": 3
   },
   "file_extension": ".py",
   "mimetype": "text/x-python",
   "name": "python",
   "nbconvert_exporter": "python",
   "pygments_lexer": "ipython3",
   "version": "3.7.3"
  },
  "toc": {
   "base_numbering": 1,
   "nav_menu": {},
   "number_sections": true,
   "sideBar": true,
   "skip_h1_title": false,
   "title_cell": "Table of Contents",
   "title_sidebar": "Contents",
   "toc_cell": false,
   "toc_position": {},
   "toc_section_display": true,
   "toc_window_display": false
  },
  "varInspector": {
   "cols": {
    "lenName": 16,
    "lenType": 16,
    "lenVar": 40
   },
   "kernels_config": {
    "python": {
     "delete_cmd_postfix": "",
     "delete_cmd_prefix": "del ",
     "library": "var_list.py",
     "varRefreshCmd": "print(var_dic_list())"
    },
    "r": {
     "delete_cmd_postfix": ") ",
     "delete_cmd_prefix": "rm(",
     "library": "var_list.r",
     "varRefreshCmd": "cat(var_dic_list()) "
    }
   },
   "types_to_exclude": [
    "module",
    "function",
    "builtin_function_or_method",
    "instance",
    "_Feature"
   ],
   "window_display": false
  }
 },
 "nbformat": 4,
 "nbformat_minor": 2
}
